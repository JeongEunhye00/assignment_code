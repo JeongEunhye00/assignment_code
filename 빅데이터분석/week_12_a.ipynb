{
 "cells": [
  {
   "cell_type": "markdown",
   "id": "028fafeb",
   "metadata": {},
   "source": [
    "데이터가 다음과 같이 주어졌을 때:\n",
    "\n",
    "* x: [1,2],[1,4],[1,6]\n",
    "\n",
    "* y: 3,6,7\n",
    "\n",
    "회귀식을 도출해보자.\n",
    "\n",
    "\n",
    "## 1) matrix inverse method로 계수를 계산하고 출력,"
   ]
  },
  {
   "cell_type": "code",
   "execution_count": 1,
   "id": "15e6b0d1",
   "metadata": {},
   "outputs": [],
   "source": [
    "import numpy as np\n",
    "\n",
    "x = np.array([[1, 2], [1, 4], [1, 6]])\n",
    "y = np.array([3, 6, 7])"
   ]
  },
  {
   "cell_type": "code",
   "execution_count": 2,
   "id": "b53cf8e8",
   "metadata": {},
   "outputs": [],
   "source": [
    "xTx=np.dot(x.T,x)"
   ]
  },
  {
   "cell_type": "code",
   "execution_count": 3,
   "id": "262bceb7",
   "metadata": {},
   "outputs": [],
   "source": [
    "xTxI=np.linalg.inv(xTx)"
   ]
  },
  {
   "cell_type": "code",
   "execution_count": 4,
   "id": "62168b98",
   "metadata": {},
   "outputs": [],
   "source": [
    "xTyT=np.dot(x.T,y)"
   ]
  },
  {
   "cell_type": "code",
   "execution_count": 5,
   "id": "2a1d305c",
   "metadata": {},
   "outputs": [],
   "source": [
    "w0, w1 = np.dot(xTxI,xTyT)"
   ]
  },
  {
   "cell_type": "code",
   "execution_count": 13,
   "id": "35d956a0",
   "metadata": {},
   "outputs": [
    {
     "name": "stdout",
     "output_type": "stream",
     "text": [
      "w0:1.3333333333333286, w1:1.0\n"
     ]
    }
   ],
   "source": [
    "print(f\"w0:{w0}, w1:{w1}\")"
   ]
  },
  {
   "cell_type": "markdown",
   "id": "e6ae96ce",
   "metadata": {},
   "source": [
    "## 2) 예측과 실제의 오류 합계를 계산하고 출력,"
   ]
  },
  {
   "cell_type": "code",
   "execution_count": 7,
   "id": "88a3aac9",
   "metadata": {},
   "outputs": [
    {
     "name": "stdout",
     "output_type": "stream",
     "text": [
      "[3.33333333 5.33333333 7.33333333]\n"
     ]
    }
   ],
   "source": [
    "yhat = w0 + w1*x[:,1]\n",
    "print(yhat)"
   ]
  },
  {
   "cell_type": "code",
   "execution_count": 8,
   "id": "ca010ddd",
   "metadata": {},
   "outputs": [
    {
     "name": "stdout",
     "output_type": "stream",
     "text": [
      "[3 6 7]\n"
     ]
    }
   ],
   "source": [
    "print(y)"
   ]
  },
  {
   "cell_type": "code",
   "execution_count": 9,
   "id": "a19b8686",
   "metadata": {},
   "outputs": [
    {
     "name": "stdout",
     "output_type": "stream",
     "text": [
      "[ 0.33333333 -0.66666667  0.33333333]\n"
     ]
    }
   ],
   "source": [
    "print(yhat-y)"
   ]
  },
  {
   "cell_type": "code",
   "execution_count": 10,
   "id": "8fb4ed3a",
   "metadata": {},
   "outputs": [
    {
     "data": {
      "text/plain": [
       "0.6666666666666666"
      ]
     },
     "execution_count": 10,
     "metadata": {},
     "output_type": "execute_result"
    }
   ],
   "source": [
    "np.sum(np.power(yhat-y,2))"
   ]
  },
  {
   "cell_type": "markdown",
   "id": "b5e32240",
   "metadata": {},
   "source": [
    "## 3) 입력 데이터와 회귀선의 그래프를 작성한다."
   ]
  },
  {
   "cell_type": "code",
   "execution_count": 11,
   "id": "d9c66495",
   "metadata": {},
   "outputs": [
    {
     "data": {
      "text/plain": [
       "[<matplotlib.lines.Line2D at 0x16a7c0a0fd0>]"
      ]
     },
     "execution_count": 11,
     "metadata": {},
     "output_type": "execute_result"
    },
    {
     "data": {
      "image/png": "[encoded data removed]",
      "text/plain": [
       "<Figure size 432x288 with 1 Axes>"
      ]
     },
     "metadata": {
      "needs_background": "light"
     },
     "output_type": "display_data"
    }
   ],
   "source": [
    "%matplotlib inline\n",
    "import matplotlib.pyplot as plt\n",
    "\n",
    "fig=plt.figure()\n",
    "ax=fig.add_subplot(111)\n",
    "ax.scatter(x[:,1],y)\n",
    "ax.plot(x[:,1],yhat, color='red')"
   ]
  },
  {
   "cell_type": "code",
   "execution_count": null,
   "id": "b6d3378f",
   "metadata": {},
   "outputs": [],
   "source": []
  }
 ],
 "metadata": {
  "kernelspec": {
   "display_name": "Python 3 (ipykernel)",
   "language": "python",
   "name": "python3"
  },
  "language_info": {
   "codemirror_mode": {
    "name": "ipython",
    "version": 3
   },
   "file_extension": ".py",
   "mimetype": "text/x-python",
   "name": "python",
   "nbconvert_exporter": "python",
   "pygments_lexer": "ipython3",
   "version": "3.8.10"
  }
 },
 "nbformat": 4,
 "nbformat_minor": 5
}
