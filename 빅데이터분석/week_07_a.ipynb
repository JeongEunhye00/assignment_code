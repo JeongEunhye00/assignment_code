{
 "cells": [
  {
   "cell_type": "markdown",
   "id": "1b6514a9",
   "metadata": {},
   "source": [
    "성적데이터는 n이 적지만, 정규분포를 이룬다고 가정하자.\n",
    "\n",
    "marks=[\n",
    "\n",
    "    \"김하나, English, 100\",\n",
    "\n",
    "    \"김하나, Math, 80\",\n",
    "\n",
    "    \"임하나, English, 70\",\n",
    "\n",
    "    \"임하나, Math, 100\",\n",
    "\n",
    "    \"김갑돌, English, 82.3\",\n",
    "\n",
    "    \"김갑돌, Math, 98.5\"\n",
    "\n",
    "]"
   ]
  },
  {
   "cell_type": "code",
   "execution_count": 1,
   "id": "b1117df5",
   "metadata": {},
   "outputs": [],
   "source": [
    "import pyspark\n",
    "\n",
    "myConf=pyspark.SparkConf()\n",
    "spark = pyspark.sql.SparkSession.builder\\\n",
    "    .master(\"local\")\\\n",
    "    .appName(\"myApp\")\\\n",
    "    .config(conf=myConf)\\\n",
    "    .getOrCreate()"
   ]
  },
  {
   "cell_type": "markdown",
   "id": "9892a66e",
   "metadata": {},
   "source": [
    "## 1-1 성적데이터로 DataFrame을 생성."
   ]
  },
  {
   "cell_type": "code",
   "execution_count": 2,
   "id": "41656414",
   "metadata": {},
   "outputs": [],
   "source": [
    "marks = [\"김하나, English, 100\",\n",
    "       \"김하나, Math, 80\",\n",
    "       \"임하나, English, 70\",\n",
    "       \"임하나, Math, 100\",\n",
    "       \"김갑돌, English, 82.3\",\n",
    "       \"김갑돌, Math, 98.5\" ]\n",
    "marksRdd = spark.sparkContext.parallelize(marks).map(lambda x:x.split(','))"
   ]
  },
  {
   "cell_type": "code",
   "execution_count": 3,
   "id": "ce9ad23e",
   "metadata": {},
   "outputs": [],
   "source": [
    "from pyspark.sql.types import StructType, StructField\n",
    "from pyspark.sql.types import StringType, DoubleType\n",
    "schema = StructType([\n",
    "    StructField(\"name\", StringType(), True),\n",
    "    StructField(\"subject\", StringType(), True),\n",
    "    StructField(\"mark_str\", StringType(), True)\n",
    "])\n",
    "marksDf = spark.createDataFrame(marksRdd, schema)\n",
    "marksDf = marksDf.withColumn('mark', marksDf.mark_str.cast(\"float\"))\n",
    "marksDf = marksDf.drop(marksDf.mark_str)"
   ]
  },
  {
   "cell_type": "code",
   "execution_count": 4,
   "id": "3d071dc3",
   "metadata": {},
   "outputs": [
    {
     "name": "stdout",
     "output_type": "stream",
     "text": [
      "+------+--------+-----+\n",
      "|  name| subject| mark|\n",
      "+------+--------+-----+\n",
      "|김하나| English|100.0|\n",
      "|김하나|    Math| 80.0|\n",
      "|임하나| English| 70.0|\n",
      "|임하나|    Math|100.0|\n",
      "|김갑돌| English| 82.3|\n",
      "|김갑돌|    Math| 98.5|\n",
      "+------+--------+-----+\n",
      "\n"
     ]
    }
   ],
   "source": [
    "marksDf.show()"
   ]
  },
  {
   "cell_type": "markdown",
   "id": "78fd5599",
   "metadata": {},
   "source": [
    "## 1-2 zscore 컬럼을 생성.\n",
    "\n",
    "zscore를 계산하려면, 평균과 표준편차를 알아야 한다.\n",
    "\n",
    "계산식에 F함수를 직접 사용하면 오류가 발생한다. 따로 평균과 표준편차를 구해서 계산식에서 사용해야 한다."
   ]
  },
  {
   "cell_type": "code",
   "execution_count": 5,
   "id": "26038874",
   "metadata": {},
   "outputs": [],
   "source": [
    "import numpy as np\n",
    "marksArr = marksDf.select('mark').collect()\n",
    "marksArr = np.array(marksArr).reshape(-1)\n",
    "avr = np.mean(marksArr)\n",
    "std = np.std(marksArr)\n",
    "\n",
    "from pyspark.sql.functions import udf\n",
    "from pyspark.sql.types import FloatType\n",
    "\n",
    "zscore = udf(lambda x: float((x-avr)/std), FloatType())\n",
    "marksDf = marksDf.withColumn('zscore', zscore(marksDf['mark']))"
   ]
  },
  {
   "cell_type": "code",
   "execution_count": 6,
   "id": "467bb863",
   "metadata": {
    "scrolled": false
   },
   "outputs": [
    {
     "name": "stdout",
     "output_type": "stream",
     "text": [
      "+------+--------+-----+----------+\n",
      "|  name| subject| mark|    zscore|\n",
      "+------+--------+-----+----------+\n",
      "|김하나| English|100.0| 0.9881077|\n",
      "|김하나|    Math| 80.0|-0.7253739|\n",
      "|임하나| English| 70.0|-1.5821148|\n",
      "|임하나|    Math|100.0| 0.9881077|\n",
      "|김갑돌| English| 82.3|-0.5283233|\n",
      "|김갑돌|    Math| 98.5| 0.8595966|\n",
      "+------+--------+-----+----------+\n",
      "\n"
     ]
    }
   ],
   "source": [
    "marksDf.show()"
   ]
  },
  {
   "cell_type": "markdown",
   "id": "125a3fef",
   "metadata": {},
   "source": [
    "## 1-3 cdf 컬럼을 생성.\n",
    "\n",
    "scipy.stats.norm.cdf() 함수는 데이터타입을 float로 맞추어 주어야 한다.\n",
    "\n",
    "cdf는 평균=0, 표준편차=1을 기본 값으로 누적확률을 계산한다."
   ]
  },
  {
   "cell_type": "code",
   "execution_count": 7,
   "id": "aae54fe8",
   "metadata": {},
   "outputs": [],
   "source": [
    "from scipy.stats import norm\n",
    "_cdf = udf(lambda x: float(norm.cdf(x)), FloatType())\n",
    "marksDf = marksDf.withColumn('cdf', _cdf(marksDf['zscore']))"
   ]
  },
  {
   "cell_type": "code",
   "execution_count": 8,
   "id": "5c77fb92",
   "metadata": {},
   "outputs": [
    {
     "name": "stdout",
     "output_type": "stream",
     "text": [
      "+------+--------+-----+----------+-----------+\n",
      "|  name| subject| mark|    zscore|        cdf|\n",
      "+------+--------+-----+----------+-----------+\n",
      "|김하나| English|100.0| 0.9881077|  0.8384501|\n",
      "|김하나|    Math| 80.0|-0.7253739| 0.23411132|\n",
      "|임하나| English| 70.0|-1.5821148|0.056811687|\n",
      "|임하나|    Math|100.0| 0.9881077|  0.8384501|\n",
      "|김갑돌| English| 82.3|-0.5283233| 0.29863748|\n",
      "|김갑돌|    Math| 98.5| 0.8595966|  0.8049943|\n",
      "+------+--------+-----+----------+-----------+\n",
      "\n"
     ]
    }
   ],
   "source": [
    "marksDf.show()"
   ]
  },
  {
   "cell_type": "code",
   "execution_count": 9,
   "id": "abce3118",
   "metadata": {},
   "outputs": [],
   "source": [
    "spark.stop()"
   ]
  }
 ],
 "metadata": {
  "kernelspec": {
   "display_name": "Python 3 (ipykernel)",
   "language": "python",
   "name": "python3"
  },
  "language_info": {
   "codemirror_mode": {
    "name": "ipython",
    "version": 3
   },
   "file_extension": ".py",
   "mimetype": "text/x-python",
   "name": "python",
   "nbconvert_exporter": "python",
   "pygments_lexer": "ipython3",
   "version": "3.8.10"
  }
 },
 "nbformat": 4,
 "nbformat_minor": 5
}
