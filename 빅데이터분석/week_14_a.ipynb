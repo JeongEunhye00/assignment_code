{
 "cells": [
  {
   "cell_type": "markdown",
   "id": "d0e93d60",
   "metadata": {},
   "source": [
    "Sklearn의 make_classification() 함수는 분류에 쓰일 수 있는 데이터를 생성해준다.\n",
    "\n",
    "```\n",
    "from sklearn.datasets import make_classification\n",
    "\n",
    "X, Y = make_classification(n_samples=100, n_features=2, n_informative=2, n_redundant=0)\n",
    "```\n",
    "\n",
    "Sklearn으로 이진 베이지안 모델링을 해보자."
   ]
  },
  {
   "cell_type": "markdown",
   "id": "81e782e1",
   "metadata": {},
   "source": [
    "### (1) X, Y 데이터를 생성"
   ]
  },
  {
   "cell_type": "code",
   "execution_count": 1,
   "id": "3c3133eb",
   "metadata": {},
   "outputs": [],
   "source": [
    "from sklearn.datasets import make_classification\n",
    "\n",
    "X, Y = make_classification(n_samples=100, n_features=2, n_informative=2, n_redundant=0)"
   ]
  },
  {
   "cell_type": "markdown",
   "id": "8f112f17",
   "metadata": {},
   "source": [
    "### (2) X의 평균과 표준편차 계산해서 출력"
   ]
  },
  {
   "cell_type": "code",
   "execution_count": 2,
   "id": "705efc53",
   "metadata": {},
   "outputs": [
    {
     "name": "stdout",
     "output_type": "stream",
     "text": [
      "평균: 0.11728690210457478\n",
      "표준편차: 1.34067591765565\n"
     ]
    }
   ],
   "source": [
    "X_mean = X.mean()\n",
    "X_std = X.std()\n",
    "\n",
    "print(f\"평균: {X_mean}\\n표준편차: {X_std}\")"
   ]
  },
  {
   "cell_type": "markdown",
   "id": "a5339ec4",
   "metadata": {},
   "source": [
    "### (3) 그래프 작성\n",
    "\n",
    "* scatter() 함수에 c=Y 옵션을 넣으면, Y의 값에 대해 다른 색으로 표시할 수 있다.\n"
   ]
  },
  {
   "cell_type": "code",
   "execution_count": 3,
   "id": "83ce749b",
   "metadata": {
    "scrolled": true
   },
   "outputs": [
    {
     "data": {
      "image/png": "[encoded data removed]",
      "text/plain": [
       "<Figure size 432x288 with 1 Axes>"
      ]
     },
     "metadata": {
      "needs_background": "light"
     },
     "output_type": "display_data"
    }
   ],
   "source": [
    "import matplotlib.pyplot as plt\n",
    "\n",
    "plt.scatter(X[:,0], X[:,1], c=Y)\n",
    "plt.show()"
   ]
  },
  {
   "cell_type": "markdown",
   "id": "1cbe3253",
   "metadata": {},
   "source": [
    "### (4) 훈련데이터, 테스트데이터 3:1로 분리\n",
    "\n",
    "* train_test_split()함수를 사용하면 원하는 비율로 분리할 수 있다."
   ]
  },
  {
   "cell_type": "code",
   "execution_count": 4,
   "id": "0409d8e3",
   "metadata": {},
   "outputs": [],
   "source": [
    "from sklearn.model_selection import train_test_split\n",
    "\n",
    "# 3 : 1 = 0.75 : 0.25\n",
    "X_train, X_test, Y_train, Y_test = train_test_split(X, Y, test_size=0.25)"
   ]
  },
  {
   "cell_type": "markdown",
   "id": "ba2e4310",
   "metadata": {},
   "source": [
    "### (5) 훈련데이터에 대하여 BernoulliNB 모델링\n",
    "\n",
    "* X데이터는 연속 값이다. binarize=0.0으로 설정하여 이진수로 모델링한다."
   ]
  },
  {
   "cell_type": "code",
   "execution_count": 5,
   "id": "381e59d1",
   "metadata": {},
   "outputs": [
    {
     "data": {
      "text/plain": [
       "BernoulliNB()"
      ]
     },
     "execution_count": 5,
     "metadata": {},
     "output_type": "execute_result"
    }
   ],
   "source": [
    "from sklearn.naive_bayes import BernoulliNB\n",
    "\n",
    "bnb = BernoulliNB(binarize=0.0)\n",
    "\n",
    "bnb.fit(X_train, Y_train)"
   ]
  },
  {
   "cell_type": "markdown",
   "id": "b52cb1ba",
   "metadata": {},
   "source": [
    "### (6) 테스트데이터에 대하여 예측값을 출력\n",
    "\n",
    "* 예측이 맞는지 실제값 Y와 비교해보자."
   ]
  },
  {
   "cell_type": "code",
   "execution_count": 6,
   "id": "fe31f7c9",
   "metadata": {},
   "outputs": [
    {
     "name": "stdout",
     "output_type": "stream",
     "text": [
      "예측: 0 \t실제: 0\n",
      "예측: 1 \t실제: 1\n",
      "예측: 0 \t실제: 0\n",
      "예측: 1 \t실제: 1\n",
      "예측: 1 \t실제: 1\n",
      "예측: 0 \t실제: 0\n",
      "예측: 1 \t실제: 1\n",
      "예측: 1 \t실제: 1\n",
      "예측: 1 \t실제: 1\n",
      "예측: 0 \t실제: 0\n",
      "예측: 1 \t실제: 1\n",
      "예측: 1 \t실제: 1\n",
      "예측: 0 \t실제: 1\n",
      "예측: 0 \t실제: 0\n",
      "예측: 0 \t실제: 0\n",
      "예측: 1 \t실제: 1\n",
      "예측: 1 \t실제: 1\n",
      "예측: 0 \t실제: 0\n",
      "예측: 1 \t실제: 1\n",
      "예측: 1 \t실제: 1\n",
      "예측: 0 \t실제: 0\n",
      "예측: 0 \t실제: 0\n",
      "예측: 0 \t실제: 0\n",
      "예측: 1 \t실제: 1\n",
      "예측: 0 \t실제: 0\n"
     ]
    }
   ],
   "source": [
    "for pred, gt in zip(bnb.predict(X_test), Y_test):\n",
    "    print(f\"예측: {pred} \\t실제: {gt}\")"
   ]
  },
  {
   "cell_type": "markdown",
   "id": "13d45733",
   "metadata": {},
   "source": [
    "### (7) 테스트데이터에 대하여 예측과 실제의 정확성 출력"
   ]
  },
  {
   "cell_type": "code",
   "execution_count": 7,
   "id": "0568a434",
   "metadata": {},
   "outputs": [
    {
     "name": "stdout",
     "output_type": "stream",
     "text": [
      "예측: 0 \t실제: 0\t\n",
      "예측: 1 \t실제: 1\t\n",
      "예측: 0 \t실제: 0\t\n",
      "예측: 1 \t실제: 1\t\n",
      "예측: 1 \t실제: 1\t\n",
      "예측: 0 \t실제: 0\t\n",
      "예측: 1 \t실제: 1\t\n",
      "예측: 1 \t실제: 1\t\n",
      "예측: 1 \t실제: 1\t\n",
      "예측: 0 \t실제: 0\t\n",
      "예측: 1 \t실제: 1\t\n",
      "예측: 1 \t실제: 1\t\n",
      "예측: 0 \t실제: 1\t<- 오류\n",
      "예측: 0 \t실제: 0\t\n",
      "예측: 0 \t실제: 0\t\n",
      "예측: 1 \t실제: 1\t\n",
      "예측: 1 \t실제: 1\t\n",
      "예측: 0 \t실제: 0\t\n",
      "예측: 1 \t실제: 1\t\n",
      "예측: 1 \t실제: 1\t\n",
      "예측: 0 \t실제: 0\t\n",
      "예측: 0 \t실제: 0\t\n",
      "예측: 0 \t실제: 0\t\n",
      "예측: 1 \t실제: 1\t\n",
      "예측: 0 \t실제: 0\t\n"
     ]
    }
   ],
   "source": [
    "for pred, gt in zip(bnb.predict(X_test), Y_test):\n",
    "    if pred != gt : s = \"<- 오류\"\n",
    "    else: s = \"\"\n",
    "    print(f\"예측: {pred} \\t실제: {gt}\\t{s}\")"
   ]
  },
  {
   "cell_type": "code",
   "execution_count": 8,
   "id": "baaee445",
   "metadata": {},
   "outputs": [
    {
     "data": {
      "text/plain": [
       "0.96"
      ]
     },
     "execution_count": 8,
     "metadata": {},
     "output_type": "execute_result"
    }
   ],
   "source": [
    "bnb.score(X_test, Y_test)"
   ]
  }
 ],
 "metadata": {
  "kernelspec": {
   "display_name": "Python 3 (ipykernel)",
   "language": "python",
   "name": "python3"
  },
  "language_info": {
   "codemirror_mode": {
    "name": "ipython",
    "version": 3
   },
   "file_extension": ".py",
   "mimetype": "text/x-python",
   "name": "python",
   "nbconvert_exporter": "python",
   "pygments_lexer": "ipython3",
   "version": "3.8.10"
  }
 },
 "nbformat": 4,
 "nbformat_minor": 5
}
