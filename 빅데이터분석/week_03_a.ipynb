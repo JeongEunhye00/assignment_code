{
 "cells": [
  {
   "cell_type": "markdown",
   "id": "82c96ec3",
   "metadata": {},
   "source": [
    "# 문제 1\n",
    "\n",
    "오픈API를 통해 데이터를 5천 ~ 1만 건 정도 수집해서 파일로 저장한다 (초과해도 좋다).\n",
    "\n",
    "열린데이터, 공공데이터 또는 (할 수 있다면) 트위터와 같은 SNS, 댓글 등 적합한 소스를 자신이 선택한다.\n",
    "\n",
    "과정의 후반으로 가서, 이 데이터를 분석하는 과제가 주어지게 된다.\n",
    "\n",
    "프로그램에서 몇 건을 읽었는지와 마지막 줄을 화면 출력한다.\n",
    "\n",
    "!dir 명령어로 파일이 존재하는지 출력한다. 1만 건 정도 저장되었으니 파일의 크기가 적당한지 가늠해보자"
   ]
  },
  {
   "cell_type": "code",
   "execution_count": 1,
   "id": "64c9320c",
   "metadata": {},
   "outputs": [],
   "source": [
    "import os\n",
    "import src.mylib\n",
    "\n",
    "keyPath=os.path.join(os.getcwd(), 'src', 'key.properties')\n",
    "key=src.mylib.getKey(keyPath)"
   ]
  },
  {
   "cell_type": "code",
   "execution_count": 2,
   "id": "26142a53",
   "metadata": {},
   "outputs": [],
   "source": [
    "def saveFile(_fname,_data):\n",
    "    fp=open(_fname,'a',encoding='utf8')\n",
    "    fp.write(_data+\"\\n\")\n",
    "    fp.close()"
   ]
  },
  {
   "cell_type": "code",
   "execution_count": 3,
   "id": "8005a76b",
   "metadata": {},
   "outputs": [],
   "source": [
    "_url='http://openapi.seoul.go.kr:8088'"
   ]
  },
  {
   "cell_type": "code",
   "execution_count": 4,
   "id": "4e65cfe4",
   "metadata": {},
   "outputs": [],
   "source": [
    "KEY=str(key['dataseoul'])\n",
    "TYPE='json'\n",
    "SERVICE='Corona19Status'\n",
    "START_INDEX=1\n",
    "END_INDEX=1000"
   ]
  },
  {
   "cell_type": "code",
   "execution_count": 5,
   "id": "9ddfd8a0",
   "metadata": {},
   "outputs": [],
   "source": [
    "for i in range(5):\n",
    "    _api=\"/\".join([_url, KEY, TYPE, SERVICE, str(START_INDEX), str(END_INDEX)])\n",
    "    import requests\n",
    "    response=requests.get(_api)\n",
    "    covid=response.json()\n",
    "    for e in covid['Corona19Status']['row']:\n",
    "        saveFile(\"C:/Users/jeh/Code/201910835/data/week03_a_Corona19Status.json\", str(e))\n",
    "    START_INDEX += 1000\n",
    "    END_INDEX += 1000"
   ]
  },
  {
   "cell_type": "code",
   "execution_count": 9,
   "id": "2e9735c3",
   "metadata": {},
   "outputs": [
    {
     "name": "stdout",
     "output_type": "stream",
     "text": [
      "읽어온 데이터의 개수:  5000 \n",
      "\n",
      "마지막 줄: \n",
      " {'CORONA19_ID': '86274', 'CORONA19_DATE': '2021-09-11', 'CORONA19_NO': '', 'CORONA19_COUNTRY': '', 'CORONA19_PERSONAL': '', 'CORONA19_AREA': '광진구', 'CORONA19_TRAVEL_HISTORY': '', 'CORONA19_CONTACT_HISTORY': '감염경로 조사중', 'CORONA19_CORRECTIVE': '', 'CORONA19_LEAVE_STATUS': '-', 'CORONA19_MOVING_PATH': '', 'CORONA19_IDATE': '2021-09-19 10:49:41', 'CORONA19_MDATE': '2021-09-19 10:49:41'}\n",
      "\n"
     ]
    }
   ],
   "source": [
    "f = open(\"C:/Users/jeh/Code/201910835/data/week03_a_Corona19Status.json\",'r')\n",
    "json_file = f.readlines()\n",
    "print(\"읽어온 데이터의 개수: \", len(json_file),\"\\n\")\n",
    "print(\"마지막 줄: \\n\", json_file[-1])\n",
    "f.close()"
   ]
  },
  {
   "cell_type": "code",
   "execution_count": 12,
   "id": "88e50c95",
   "metadata": {},
   "outputs": [
    {
     "name": "stdout",
     "output_type": "stream",
     "text": [
      " Volume in drive C has no label.\n",
      " Volume Serial Number is 989A-53B1\n",
      "\n",
      " Directory of C:\\Users\\jeh\\Code\\201910835\\data\n",
      "\n",
      "2021-09-19  오후 05:03    <DIR>          .\n",
      "2021-09-19  오후 05:03    <DIR>          ..\n",
      "2021-09-19  오후 05:03    <DIR>          .ipynb_checkpoints\n",
      "2021-09-19  오후 04:09               147 ds_spark_2cols.csv\n",
      "2021-09-19  오후 03:38               583 ds_spark_wiki.txt\n",
      "2021-09-19  오후 05:02         2,051,419 week03_a_Corona19Status.json\n",
      "               3 File(s)      2,052,149 bytes\n",
      "               3 Dir(s)  59,229,229,056 bytes free\n"
     ]
    }
   ],
   "source": [
    "!dir data"
   ]
  },
  {
   "cell_type": "markdown",
   "id": "641b790d",
   "metadata": {},
   "source": [
    "# 문제 2\n",
    "\n",
    "노트북에서 pyspark 실행\n",
    "\n",
    "주피터 노트북을 실행한 후, 셀에서 아래 명령어를 실행하여 spark를 생성하고, 그 버전을 출력하세요.\n",
    "\n",
    "[In] spark.version\n",
    "\n",
    "[Out] '3.x.x'\n",
    "\n",
    "\n",
    "\n",
    "그리고 다음과 같이 버전을 출력한다.\n",
    "\n",
    "pyspark는 jdk가 설치되어 있어야 한다.\n",
    "\n",
    "!java --version   #spark v2.x는 java 8이 적당.\n",
    "\n",
    "!javac --version  #java 버전과 동일한지 확인한다.\n",
    "\n",
    "!python --version  \n",
    "\n",
    "!python3 --version # python 2, 3 멀티 버전이 설치된 경우에만 출력\n",
    "\n",
    "\n",
    "\n",
    "import sys\n",
    "\n",
    "print(sys.version) # 자신이 사용하는 python 버전과 동일한지 확인한다."
   ]
  },
  {
   "cell_type": "code",
   "execution_count": 1,
   "id": "690e320c",
   "metadata": {},
   "outputs": [],
   "source": [
    "import pyspark\n",
    "import sys\n",
    "import os"
   ]
  },
  {
   "cell_type": "code",
   "execution_count": 2,
   "id": "5a77d23c",
   "metadata": {},
   "outputs": [],
   "source": [
    "myConf=pyspark.SparkConf()\n",
    "spark = pyspark.sql.SparkSession.builder\\\n",
    "    .master(\"local\")\\\n",
    "    .appName(\"myApp\")\\\n",
    "    .config(conf=myConf)\\\n",
    "    .getOrCreate()"
   ]
  },
  {
   "cell_type": "code",
   "execution_count": 3,
   "id": "635a50cb",
   "metadata": {},
   "outputs": [
    {
     "name": "stdout",
     "output_type": "stream",
     "text": [
      "3.0.3\n"
     ]
    }
   ],
   "source": [
    "print(spark.version)"
   ]
  },
  {
   "cell_type": "code",
   "execution_count": 4,
   "id": "20d2a268",
   "metadata": {},
   "outputs": [
    {
     "name": "stdout",
     "output_type": "stream",
     "text": [
      "java 11.0.12 2021-07-20 LTS\n",
      "Java(TM) SE Runtime Environment 18.9 (build 11.0.12+8-LTS-237)\n",
      "Java HotSpot(TM) 64-Bit Server VM 18.9 (build 11.0.12+8-LTS-237, mixed mode)\n"
     ]
    }
   ],
   "source": [
    "!java --version"
   ]
  },
  {
   "cell_type": "code",
   "execution_count": 5,
   "id": "a0d6e0a4",
   "metadata": {},
   "outputs": [
    {
     "name": "stdout",
     "output_type": "stream",
     "text": [
      "javac 11.0.12\n"
     ]
    }
   ],
   "source": [
    "!javac -version"
   ]
  },
  {
   "cell_type": "code",
   "execution_count": 6,
   "id": "40110585",
   "metadata": {},
   "outputs": [
    {
     "name": "stdout",
     "output_type": "stream",
     "text": [
      "Python 3.8.10\n"
     ]
    }
   ],
   "source": [
    "!python --version"
   ]
  },
  {
   "cell_type": "code",
   "execution_count": 7,
   "id": "28abfc4b",
   "metadata": {},
   "outputs": [
    {
     "name": "stdout",
     "output_type": "stream",
     "text": [
      "3.8.10 (default, May 19 2021, 13:12:57) [MSC v.1916 64 bit (AMD64)]\n"
     ]
    }
   ],
   "source": [
    "print(sys.version)"
   ]
  },
  {
   "cell_type": "markdown",
   "id": "e1708ed7",
   "metadata": {},
   "source": [
    "# 문제 3\n",
    "\n",
    "다음 파일을 읽어서 RDD를 생성하고, 5줄을 화면출력하세요.\n",
    "\n",
    "결과가 깨져보인다면, 그 이유를 간단히 적으세요.\n",
    "\n",
    "* 1) 경기도 의정부시 인구현황 (파일명: ```경기도 의정부시_인구현황_20210910```)\n",
    "\n",
    "https://www.data.go.kr/data/15009613/fileData.do\n",
    "\n",
    "\n",
    "\n",
    "* 2) 제주특별자치도 서귀포시 내 연도별 65세이상 인구수 및 고령화비율, 노령화지수 현황 (파일명: ```제주특별자치도 서귀포시_고령화비율및노령화지수현황_20210831```)\n",
    "\n",
    "https://www.data.go.kr/data/15051545/fileData.do"
   ]
  },
  {
   "cell_type": "code",
   "execution_count": 25,
   "id": "aa66ffa7",
   "metadata": {},
   "outputs": [],
   "source": [
    "popRddBin = spark.sparkContext.binaryFiles(os.path.join(\"data\",\"경기도 의정부시_인구현황_20210910.csv\"))"
   ]
  },
  {
   "cell_type": "code",
   "execution_count": 26,
   "id": "0118fbcd",
   "metadata": {},
   "outputs": [],
   "source": [
    "_my = popRddBin.map(lambda x :x[1].decode('euc-kr'))"
   ]
  },
  {
   "cell_type": "code",
   "execution_count": 27,
   "id": "3fd8212f",
   "metadata": {},
   "outputs": [
    {
     "name": "stdout",
     "output_type": "stream",
     "text": [
      "['행정기관,인구수(계),인구수(남),인구수(여),구성비(계),구성비(남),구성비(여),성비,세대수,세대당인구,관리기관명,관리부서명,부서전화번호,데이터기준일자\\r\\n의정부1동,32292,16538,15754,6.97,3.57,3.4,104.98,19998,1.61,의정부시,민원여권과,031-828-2466,2021-09-10\\r\\n의정부2동,31380,15608,15772,6.77,3.37,3.4,98.96,16410,1.91,의정부시,민원여권과,031-828-2466,2021-09-10\\r\\n호원1동,36124,17595,18529,7.8,3.8,4,94.96,15653,2.31,의정부시,민원여권과,031-828-2466,2021-09-10\\r\\n호원2동,34957,16923,18034,7.54,3.65,3.89,93.84,13683,2.55,의정부시,민원여권과,031-828-2466,2021-09-10\\r\\n장암동,20314,9714,10600,4.38,2.1,2.29,91.64,8604,2.36,의정부시,민원여권과,031-828-2466,2021-09-10\\r\\n신곡1동,43159,21205,21954,9.31,4.58,4.74,96.59,17990,2.4,의정부시,민원여권과,031-828-2466,2021-09-10\\r\\n신곡2동,47852,23232,24620,10.33,5.01,5.31,94.36,19218,2.49,의정부시,민원여권과,031-828-2466,2021-09-10\\r\\n송산1동,42817,21276,21541,9.24,4.59,4.65,98.77,18811,2.28,의정부시,민원여권과,031-828-2466,2021-09-10\\r\\n송산2동,33565,16601,16964,7.24,3.58,3.66,97.86,13216,2.54,의정부시,민원여권과,031-828-2466,2021-09-10\\r\\n송산3동,46892,22772,24120,10.12,4.91,5.21,94.41,17926,2.62,의정부시,민원여권과,031-828-2466,2021-09-10\\r\\n자금동,27087,13270,13817,5.85,2.86,2.98,96.04,11868,2.28,의정부시,민원여권과,031-828-2466,2021-09-10\\r\\n가능동,25990,12974,13016,5.61,2.8,2.81,99.68,12492,2.08,의정부시,민원여권과,031-828-2466,2021-09-10\\r\\n흥선동,19176,9769,9407,4.14,2.11,2.03,103.85,9380,2.04,의정부시,민원여권과,031-828-2466,2021-09-10\\r\\n녹양동,21768,10872,10896,4.7,2.35,2.35,99.78,9556,2.28,의정부시,민원여권과,031-828-2466,2021-09-10\\r\\n']\n"
     ]
    }
   ],
   "source": [
    "print(_my.take(5))"
   ]
  },
  {
   "cell_type": "code",
   "execution_count": 34,
   "id": "fbe4ed15",
   "metadata": {},
   "outputs": [],
   "source": [
    "agedRddBin = spark.sparkContext.binaryFiles(os.path.join(\"data\",\"제주특별자치도 서귀포시_고령화비율및노령화지수현황_20210831.csv\"))"
   ]
  },
  {
   "cell_type": "code",
   "execution_count": 35,
   "id": "2f9f69f6",
   "metadata": {},
   "outputs": [],
   "source": [
    "_my2 = agedRddBin.map(lambda x :x[1].decode('euc-kr'))"
   ]
  },
  {
   "cell_type": "code",
   "execution_count": 36,
   "id": "bf792f43",
   "metadata": {},
   "outputs": [
    {
     "name": "stdout",
     "output_type": "stream",
     "text": [
      "['연도별,서귀포시 인구수,65세이상 인구수 ,14세이하 인구수,고령화비율,노령화지수,데이터기준일자\\r\\n2012,154057,25826,22861,16.76,112.97,2021-08-31\\r\\n2013,155641,26936,22393,17.31,120.29,2021-08-31\\r\\n2014,158512,27877,22058,17.59,126.38,2021-08-31\\r\\n2015,164519,28979,22362,17.61,129.59,2021-08-31\\r\\n2016,170932,30030,23044,17.57,130.32,2021-08-31\\r\\n2017,173302,30545,23300,17.63,131.09,2021-08-31\\r\\n2018,181245,32394,24013,17.87,134.9,2021-08-31\\r\\n2019,181584,33707,23707,18.56,142.18,2021-08-31\\r\\n2020,181059,34456,23579,19.03,146.13,2021-08-31\\r\\n2021,183015,36353,23759,19.86,141.12,2021-08-31\\r\\n']\n"
     ]
    }
   ],
   "source": [
    "print(_my2.take(5))"
   ]
  },
  {
   "cell_type": "code",
   "execution_count": 37,
   "id": "cef11bf2",
   "metadata": {},
   "outputs": [],
   "source": [
    "spark.stop()"
   ]
  }
 ],
 "metadata": {
  "kernelspec": {
   "display_name": "Python 3",
   "language": "python",
   "name": "python3"
  },
  "language_info": {
   "codemirror_mode": {
    "name": "ipython",
    "version": 3
   },
   "file_extension": ".py",
   "mimetype": "text/x-python",
   "name": "python",
   "nbconvert_exporter": "python",
   "pygments_lexer": "ipython3",
   "version": "3.8.10"
  }
 },
 "nbformat": 4,
 "nbformat_minor": 5
}
