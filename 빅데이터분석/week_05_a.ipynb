{
 "cells": [
  {
   "cell_type": "markdown",
   "id": "f396e3ed",
   "metadata": {},
   "source": [
    "아래 데이터를 RDD로 만들고, 성적의 합계 및 평균을 계산하세요.\n",
    "\n",
    "문항별로 RDD를 만들지 말고, 하나의 RDD만을 생성하고, 이를 변형해서 문제를 푸세요.\n",
    "\n",
    "\n",
    "\n",
    "이름 | 과목 | 점수\n",
    "\n",
    "-----|-----|-----\n",
    "\n",
    "김하나 | English | 100\n",
    "\n",
    "김하나 | Math | 80\n",
    "\n",
    "임하나 | English | 70\n",
    "\n",
    "임하나 | Math | 100\n",
    "\n",
    "김갑돌 | English | 82.3\n",
    "\n",
    "김갑돌 | Math | 98.5"
   ]
  },
  {
   "cell_type": "code",
   "execution_count": 1,
   "id": "07c32eeb",
   "metadata": {},
   "outputs": [],
   "source": [
    "import os\n",
    "import pyspark\n",
    "\n",
    "myConf = pyspark.SparkConf()\n",
    "spark = pyspark.sql.SparkSession\\\n",
    "    .builder\\\n",
    "    .master(\"local\")\\\n",
    "    .appName(\"myApp\")\\\n",
    "    .config(conf=myConf)\\\n",
    "    .getOrCreate()"
   ]
  },
  {
   "cell_type": "code",
   "execution_count": 2,
   "id": "f959b53c",
   "metadata": {},
   "outputs": [],
   "source": [
    "recordList = [('김하나',('English', 100)), ('김하나', ('Math', 80)), ('임하나', ('English', 70)), ('임하나', ('Math', 100)), \n",
    "         ('김갑돌', ('English', 82.3)), ('김갑돌', ('Math', 98.5))]\n",
    "\n",
    "recordRdd=spark.sparkContext.parallelize(recordList)"
   ]
  },
  {
   "cell_type": "markdown",
   "id": "41a26924",
   "metadata": {},
   "source": [
    "### 문제 3-1: 이름으로 합계를 구해보자. 올바른 출력은 다음과 같다.\n",
    "\n",
    "```\n",
    "\n",
    "'임하나' 170.0\n",
    "\n",
    "'김하나' 180.0\n",
    "\n",
    "'김갑돌' 180.8\n",
    "\n",
    "```"
   ]
  },
  {
   "cell_type": "code",
   "execution_count": 3,
   "id": "71f76704",
   "metadata": {},
   "outputs": [
    {
     "name": "stdout",
     "output_type": "stream",
     "text": [
      "[('김하나', 180), ('임하나', 170), ('김갑돌', 180.8)]\n"
     ]
    }
   ],
   "source": [
    "name_and_sum = recordRdd.map(lambda x: (x[0], x[1][1]))\\\n",
    "                            .reduceByKey(lambda x,y:x+y)\n",
    "\n",
    "print(name_and_sum.collect())"
   ]
  },
  {
   "cell_type": "markdown",
   "id": "c9084f5f",
   "metadata": {},
   "source": [
    "### 문제 3-2 : 과목으로 합계를 계산해 보자. 출력은 다음과 같이 나와야 한다.\n",
    "\n",
    "```\n",
    "\n",
    "'English' 252.3\n",
    "\n",
    "'Math' 278.5\n",
    "\n",
    "```"
   ]
  },
  {
   "cell_type": "code",
   "execution_count": 4,
   "id": "14e8bc45",
   "metadata": {},
   "outputs": [
    {
     "name": "stdout",
     "output_type": "stream",
     "text": [
      "[('English', 252.3), ('Math', 278.5)]\n"
     ]
    }
   ],
   "source": [
    "subject_and_sum = recordRdd.map(lambda x: (x[1][0], x[1][1]))\\\n",
    "                            .reduceByKey(lambda x,y:x+y)\n",
    "print(subject_and_sum.collect())"
   ]
  },
  {
   "cell_type": "markdown",
   "id": "3c717383",
   "metadata": {},
   "source": [
    "### 문제 3-3: 이름으로 합계과 개수를 구해보자. 출력은 다음과 같이 계산된다.\n",
    "\n",
    "```\n",
    "\n",
    "'임하나' (170.0, 2)\n",
    "\n",
    "'김하나' (180.0, 2)\n",
    "\n",
    "'김갑돌' (180.8, 2)\n",
    "\n",
    "```"
   ]
  },
  {
   "cell_type": "code",
   "execution_count": 5,
   "id": "8c353d0b",
   "metadata": {},
   "outputs": [
    {
     "name": "stdout",
     "output_type": "stream",
     "text": [
      "[('김하나', (180, 2)), ('임하나', (170, 2)), ('김갑돌', (180.8, 2))]\n"
     ]
    }
   ],
   "source": [
    "name_and_sumCount = recordRdd.map(lambda x: (x[0], x[1][1]))\\\n",
    "                                .combineByKey(lambda value: (value,1),\n",
    "                                     lambda x,value: (x[0]+value, x[1]+1),\n",
    "                                     lambda x,y: (x[0]+y[0], x[1]+y[1]))\n",
    "print(name_and_sumCount.collect())"
   ]
  },
  {
   "cell_type": "markdown",
   "id": "a7a401d5",
   "metadata": {},
   "source": [
    "### 문제 3-4: 이름으로 평균을 계산해 보자. 앞서 3-3에서 사용했던 결과를 활용하고, 올바른 출력은 다음과 같다.\n",
    "\n",
    "```\n",
    "\n",
    "'임하나' 85.0\n",
    "\n",
    "'김하나' 90.0\n",
    "\n",
    "'김갑돌' 90.4\n",
    "\n",
    "```"
   ]
  },
  {
   "cell_type": "code",
   "execution_count": 6,
   "id": "d96c2f9d",
   "metadata": {},
   "outputs": [
    {
     "name": "stdout",
     "output_type": "stream",
     "text": [
      "[('김하나', 90.0), ('임하나', 85.0), ('김갑돌', 90.4)]\n"
     ]
    }
   ],
   "source": [
    "name_and_average = name_and_sumCount.map(lambda x:(x[0],x[1][0]/x[1][1]))\n",
    "\n",
    "print(name_and_average.collect())"
   ]
  },
  {
   "cell_type": "code",
   "execution_count": 7,
   "id": "541ab55a",
   "metadata": {},
   "outputs": [],
   "source": [
    "spark.stop()"
   ]
  }
 ],
 "metadata": {
  "kernelspec": {
   "display_name": "Python 3",
   "language": "python",
   "name": "python3"
  },
  "language_info": {
   "codemirror_mode": {
    "name": "ipython",
    "version": 3
   },
   "file_extension": ".py",
   "mimetype": "text/x-python",
   "name": "python",
   "nbconvert_exporter": "python",
   "pygments_lexer": "ipython3",
   "version": "3.8.10"
  }
 },
 "nbformat": 4,
 "nbformat_minor": 5
}
