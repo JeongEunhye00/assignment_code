{
 "cells": [
  {
   "cell_type": "markdown",
   "id": "edf2084b",
   "metadata": {},
   "source": [
    "```sklearn.datasets.make_blobs```를 사용하여 아래 코드로 데이터를 생성하세요.\n",
    "\n",
    "```\n",
    "from sklearn.datasets import make_blobs\n",
    "\n",
    "X, y = make_blobs(n_samples=100, centers=4, cluster_std=0.60, random_state=0)\n",
    "\n",
    "```\n",
    "\n",
    "이 데이터를 4개의 클러스터로 군집화하세요.\n",
    "\n",
    "Python으로 구현해서 클러스터링하는데, 강의에서 만든 함수 코드를 한 군데 수정해야 한다.\n",
    "\n",
    "(1) 클러스터의 중심점을 몇 회만에 찾는지, 매 반복 중심값만을 출력한다.\n",
    "\n",
    "(2) 배정된 클러스터가 맞는지 비교하여 동일한지 확인하세요."
   ]
  },
  {
   "cell_type": "code",
   "execution_count": 1,
   "id": "e6e2ae94",
   "metadata": {},
   "outputs": [],
   "source": [
    "from sklearn.datasets import make_blobs\n",
    "\n",
    "X, y = make_blobs(n_samples=100, centers=4, cluster_std=0.60, random_state=0)"
   ]
  },
  {
   "cell_type": "code",
   "execution_count": 2,
   "id": "492bcd37",
   "metadata": {},
   "outputs": [],
   "source": [
    "%matplotlib inline\n",
    "import matplotlib.pyplot as plt\n",
    "import numpy as np"
   ]
  },
  {
   "cell_type": "code",
   "execution_count": 3,
   "id": "6b6f6303",
   "metadata": {},
   "outputs": [],
   "source": [
    "def normDist(x1, x2):\n",
    "    #dist=np.sqrt(sum(np.power(x1 - x2, 2))) #36.406001444695193\n",
    "    dist = np.linalg.norm(x1 - x2) #36.406001444695193\n",
    "    return dist"
   ]
  },
  {
   "cell_type": "code",
   "execution_count": 4,
   "id": "5749d175",
   "metadata": {},
   "outputs": [],
   "source": [
    "def draw(x, centroids):\n",
    "    import matplotlib.pyplot as plt\n",
    "    #plt.subplot(5,2,iter)\n",
    "    plt.scatter(x[:,0], x[:,1], color='blue')\n",
    "    plt.scatter(centroids[:,0], centroids[:,1], color='red')"
   ]
  },
  {
   "cell_type": "code",
   "execution_count": 5,
   "id": "57c9dd7f",
   "metadata": {},
   "outputs": [],
   "source": [
    "def cluster(x, k, centroids):\n",
    "    row, col = x.shape\n",
    "    clusterAssigned = np.zeros(shape=(row, 2), dtype=float)\n",
    "    clusterUpdated=True\n",
    "    iter = 1\n",
    "    \n",
    "    while(clusterUpdated):\n",
    "        print (\"\\n\\n====== Iteration {} ======\".format(iter))\n",
    "        # STEP 1: assign to closer cluster\n",
    "        for i in range(row):\n",
    "            minDist = np.inf   # set arbitray max to minDist\n",
    "            minIndex = -1      # set arbitray index to minIndex\n",
    "            # compute distance and assign to closer cluster\n",
    "            for j in range(k):\n",
    "                # distance from centroids[j] to x[0]\n",
    "                distJI = normDist(centroids[j], x[i])\n",
    "                # print (\"Distance {:.3f} between {} and {}\".format(distJI, centroids[j], x[i]))\n",
    "                # pick the closest centroid\n",
    "                if distJI < minDist:\n",
    "                    minDist = distJI\n",
    "                    minIndex = j\n",
    "            #print (\".....Assigning {} to {}th centroid by {:.3f}\".format(x[i], minIndex, minDist))\n",
    "            clusterAssigned[i] = [minIndex, minDist]   #-----changed\n",
    "        #print (\"\\n.....Assigned clusters: \\n {}\".format(clusterAssigned))\n",
    "        \n",
    "        # STEP 2: update centroids\n",
    "        _centroids=np.zeros(shape = (k, x.shape[1]), dtype=float)\n",
    "        for cent in range(k):\n",
    "            # read data by index and average them\n",
    "            _centroids[cent] = np.mean(x[clusterAssigned[:,0]==cent],axis=0)\n",
    "        # print (\"Centroids updated: \\n\", _centroids)\n",
    "        \n",
    "        # STEP 3: see if centroids is updated. STOP if NOT updated\n",
    "        comparison = np.equal(centroids, _centroids) # np.isclose() in case some tolerence is required\n",
    "        if(comparison.all() == True):\n",
    "            print (\"\\n.....NOT Updating Centroids\\n {} => \\n{}\".format(centroids, _centroids))\n",
    "            print(\"\\n{}회만에 클러스터의 중심점을 찾았다.\\n\".format(iter))\n",
    "            clusterUpdated = False\n",
    "            return centroids, clusterAssigned\n",
    "        else:\n",
    "            print (\"\\n.....Updating Centroids\\n {} => \\n{}\".format(centroids, _centroids))\n",
    "            centroids = _centroids\n",
    "            iter += 1"
   ]
  },
  {
   "cell_type": "code",
   "execution_count": 7,
   "id": "109e05df",
   "metadata": {},
   "outputs": [
    {
     "name": "stdout",
     "output_type": "stream",
     "text": [
      "\n",
      "\n",
      "====== Iteration 1 ======\n",
      "\n",
      ".....Updating Centroids\n",
      " [[ 2.33812285  3.43116792]\n",
      " [ 2.06156753  1.96918596]\n",
      " [ 2.26908736  1.32160756]\n",
      " [-0.85092246  2.26992336]] => \n",
      "[[ 0.6119605   5.41716761]\n",
      " [ 1.74807304  1.73530659]\n",
      " [ 2.06906789  0.68515871]\n",
      " [-1.37832816  4.86495168]]\n",
      "\n",
      "\n",
      "====== Iteration 2 ======\n",
      "\n",
      ".....Updating Centroids\n",
      " [[ 0.6119605   5.41716761]\n",
      " [ 1.74807304  1.73530659]\n",
      " [ 2.06906789  0.68515871]\n",
      " [-1.37832816  4.86495168]] => \n",
      "[[ 0.52546005  5.37648708]\n",
      " [ 1.71205843  1.8895176 ]\n",
      " [ 2.11445024  0.55681795]\n",
      " [-1.49306428  4.95452438]]\n",
      "\n",
      "\n",
      "====== Iteration 3 ======\n",
      "\n",
      ".....Updating Centroids\n",
      " [[ 0.52546005  5.37648708]\n",
      " [ 1.71205843  1.8895176 ]\n",
      " [ 2.11445024  0.55681795]\n",
      " [-1.49306428  4.95452438]] => \n",
      "[[ 0.50538014  5.3154575 ]\n",
      " [ 1.45205761  1.96854391]\n",
      " [ 2.12411506  0.6046173 ]\n",
      " [-1.5427762   5.055855  ]]\n",
      "\n",
      "\n",
      "====== Iteration 4 ======\n",
      "\n",
      ".....Updating Centroids\n",
      " [[ 0.50538014  5.3154575 ]\n",
      " [ 1.45205761  1.96854391]\n",
      " [ 2.12411506  0.6046173 ]\n",
      " [-1.5427762   5.055855  ]] => \n",
      "[[ 0.56048054  5.29637495]\n",
      " [ 1.01209873  2.10630604]\n",
      " [ 2.12411506  0.6046173 ]\n",
      " [-1.53994413  5.2625575 ]]\n",
      "\n",
      "\n",
      "====== Iteration 5 ======\n",
      "\n",
      ".....Updating Centroids\n",
      " [[ 0.56048054  5.29637495]\n",
      " [ 1.01209873  2.10630604]\n",
      " [ 2.12411506  0.6046173 ]\n",
      " [-1.53994413  5.2625575 ]] => \n",
      "[[ 0.87843671  4.65353402]\n",
      " [ 0.341787    2.46077937]\n",
      " [ 2.17301624  0.73292895]\n",
      " [-1.4904966   5.92781375]]\n",
      "\n",
      "\n",
      "====== Iteration 6 ======\n",
      "\n",
      ".....Updating Centroids\n",
      " [[ 0.87843671  4.65353402]\n",
      " [ 0.341787    2.46077937]\n",
      " [ 2.17301624  0.73292895]\n",
      " [-1.4904966   5.92781375]] => \n",
      "[[ 0.90534616  4.39428775]\n",
      " [-1.16334055  2.96195857]\n",
      " [ 2.00534749  0.93400694]\n",
      " [-1.35435596  7.2193628 ]]\n",
      "\n",
      "\n",
      "====== Iteration 7 ======\n",
      "\n",
      ".....Updating Centroids\n",
      " [[ 0.90534616  4.39428775]\n",
      " [-1.16334055  2.96195857]\n",
      " [ 2.00534749  0.93400694]\n",
      " [-1.35435596  7.2193628 ]] => \n",
      "[[ 0.91568734  4.32895204]\n",
      " [-1.46984735  3.1570263 ]\n",
      " [ 1.97918933  0.97920012]\n",
      " [-1.27208964  7.74944718]]\n",
      "\n",
      "\n",
      "====== Iteration 8 ======\n",
      "\n",
      ".....Updating Centroids\n",
      " [[ 0.91568734  4.32895204]\n",
      " [-1.46984735  3.1570263 ]\n",
      " [ 1.97918933  0.97920012]\n",
      " [-1.27208964  7.74944718]] => \n",
      "[[ 0.87673717  4.2964758 ]\n",
      " [-1.52704861  3.14337865]\n",
      " [ 1.97918933  0.97920012]\n",
      " [-1.27208964  7.74944718]]\n",
      "\n",
      "\n",
      "====== Iteration 9 ======\n",
      "\n",
      ".....NOT Updating Centroids\n",
      " [[ 0.87673717  4.2964758 ]\n",
      " [-1.52704861  3.14337865]\n",
      " [ 1.97918933  0.97920012]\n",
      " [-1.27208964  7.74944718]] => \n",
      "[[ 0.87673717  4.2964758 ]\n",
      " [-1.52704861  3.14337865]\n",
      " [ 1.97918933  0.97920012]\n",
      " [-1.27208964  7.74944718]]\n",
      "\n",
      "9회만에 클러스터의 중심점을 찾았다.\n",
      "\n"
     ]
    },
    {
     "data": {
      "image/png": "[encoded data removed]",
      "text/plain": [
       "<Figure size 432x288 with 1 Axes>"
      ]
     },
     "metadata": {
      "needs_background": "light"
     },
     "output_type": "display_data"
    }
   ],
   "source": [
    "k = 4\n",
    "idx_list = np.random.randint(0, len(X), size=4)\n",
    "centroids = np.array([X[idx_list[0]], X[idx_list[1]], X[idx_list[2]], X[idx_list[3]]], dtype = float)\n",
    "centroids, clusterAssigned = cluster(X, k, centroids)\n",
    "draw(X, centroids)"
   ]
  },
  {
   "cell_type": "code",
   "execution_count": 8,
   "id": "62142550",
   "metadata": {},
   "outputs": [],
   "source": [
    "def same_cluster_idx_set(k, c_list):\n",
    "    res = list()\n",
    "    for i in range(k):\n",
    "        m_res = list()\n",
    "        for j in range(len(c_list)):\n",
    "            if c_list[j] == i:\n",
    "                m_res.append(j)\n",
    "        res.append(m_res)\n",
    "    return res"
   ]
  },
  {
   "cell_type": "code",
   "execution_count": 9,
   "id": "632191a7",
   "metadata": {},
   "outputs": [],
   "source": [
    "a, b = same_cluster_idx_set(4, y), same_cluster_idx_set(4, clusterAssigned[:,0])"
   ]
  },
  {
   "cell_type": "code",
   "execution_count": 10,
   "id": "6a8a9bbd",
   "metadata": {},
   "outputs": [],
   "source": [
    "a.sort(key=lambda x:x[0])\n",
    "b.sort(key=lambda x:x[0])"
   ]
  },
  {
   "cell_type": "code",
   "execution_count": 11,
   "id": "9b82944d",
   "metadata": {},
   "outputs": [],
   "source": [
    "w_dict = dict()\n",
    "for i in range(k):\n",
    "    for j in range(len(b[i])):\n",
    "        if b[i][j] not in a[i]:\n",
    "            w_dict[b[i][j]] = i"
   ]
  },
  {
   "cell_type": "code",
   "execution_count": 13,
   "id": "02bd0ef8",
   "metadata": {},
   "outputs": [
    {
     "name": "stdout",
     "output_type": "stream",
     "text": [
      "17번째 데이터는 실제로 그룹 2 지만, 그룹 0 으로 예측되었다.\n"
     ]
    }
   ],
   "source": [
    "for key in w_dict:\n",
    "    for i in range(k):\n",
    "        if key in a[i]:\n",
    "            print(\"{}번째 데이터는 실제로 그룹 {} 지만, 그룹 {} 으로 예측되었다.\".format(key, i, w_dict[key]))"
   ]
  }
 ],
 "metadata": {
  "kernelspec": {
   "display_name": "Python 3 (ipykernel)",
   "language": "python",
   "name": "python3"
  },
  "language_info": {
   "codemirror_mode": {
    "name": "ipython",
    "version": 3
   },
   "file_extension": ".py",
   "mimetype": "text/x-python",
   "name": "python",
   "nbconvert_exporter": "python",
   "pygments_lexer": "ipython3",
   "version": "3.8.10"
  }
 },
 "nbformat": 4,
 "nbformat_minor": 5
}
