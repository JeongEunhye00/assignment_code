{
 "cells": [
  {
   "cell_type": "markdown",
   "id": "281e5bf8",
   "metadata": {},
   "source": [
    "# 1. 집값 데이터 읽기"
   ]
  },
  {
   "cell_type": "code",
   "execution_count": 1,
   "id": "7248daaf",
   "metadata": {},
   "outputs": [
    {
     "name": "stdout",
     "output_type": "stream",
     "text": [
      "         size  price\n",
      "0   27.575758   6.10\n",
      "1   26.969697   3.80\n",
      "2   36.969697   5.70\n",
      "3   13.636364   1.80\n",
      "4   56.969697  13.00\n",
      "5   29.090909   6.20\n",
      "6   80.303030  12.00\n",
      "7   51.515152   9.00\n",
      "8   34.848485   5.30\n",
      "9   18.484848   1.70\n",
      "10  30.909091   3.80\n",
      "11  33.939394   5.80\n",
      "12  26.060606   3.70\n",
      "13  32.424242   8.50\n",
      "14  32.121212   4.70\n",
      "15  31.818182   4.70\n",
      "16  30.909091   6.00\n",
      "17  36.969697   5.00\n",
      "18  32.424242   6.50\n",
      "19  33.030303   6.50\n",
      "20  27.575758   7.00\n",
      "21  20.000000   2.70\n",
      "22  25.454545   8.60\n",
      "23  31.818182   6.20\n",
      "24  32.424242   5.80\n",
      "25  32.424242   8.19\n",
      "26  28.484848   5.09\n",
      "27  32.424242   8.00\n",
      "28  37.272727   6.10\n",
      "29  25.757576   5.90\n",
      "30  23.333333   6.00\n",
      "31  31.515152   7.20\n",
      "32  33.333333   8.50\n",
      "33  19.393939   3.90\n",
      "34  33.030303   8.50\n",
      "35  20.909091   2.50\n",
      "36  33.636364   5.00\n",
      "37  21.212121   2.35\n",
      "38  30.606061   3.30\n",
      "39  30.909091   4.50\n",
      "40  29.393939   3.50\n",
      "41  57.878788   6.30\n",
      "42  30.909091   4.09\n",
      "43  18.787879   2.20\n",
      "44  28.181818   5.20\n",
      "45  30.606061   3.30\n",
      "46  21.212121   2.35\n",
      "47  32.727273  10.00\n",
      "48  28.787879   4.40\n",
      "49  47.575758   7.30\n",
      "50  32.121212   4.90\n",
      "51  14.848485   3.72\n"
     ]
    }
   ],
   "source": [
    "import numpy as np\n",
    "\n",
    "# (집 크기(평)), (가격(억원))\n",
    "# 학교 근처 (홍은동, 홍제동, 구기동, 신영동, 평창동, 녹번동)\n",
    "\n",
    "import pandas as pd\n",
    "data = pd.read_csv('house_price.txt', names=['size', 'price'])\n",
    "print(data)\n",
    "\n",
    "X = data['size'] # 제곱미터(평)\n",
    "y = data['price'] # 억원\n",
    "m = len(data) # 정보 개수 (행 개수)"
   ]
  },
  {
   "cell_type": "code",
   "execution_count": 2,
   "id": "8999598e",
   "metadata": {},
   "outputs": [
    {
     "name": "stdout",
     "output_type": "stream",
     "text": [
      "(52, 1) (52, 1)\n"
     ]
    }
   ],
   "source": [
    "# numpy array 형태로 변환, 형태 변환(m) -> (m,1)\n",
    "X = (np.array(X).reshape(m,1))\n",
    "y = (np.array(y).reshape(m,1))\n",
    "print(X.shape, y.shape)"
   ]
  },
  {
   "cell_type": "markdown",
   "id": "9c37b087",
   "metadata": {},
   "source": [
    "# 2. 그래프 그리기"
   ]
  },
  {
   "cell_type": "code",
   "execution_count": 3,
   "id": "851b3a9b",
   "metadata": {},
   "outputs": [
    {
     "data": {
      "image/png": "[encoded data removed]",
      "text/plain": [
       "<Figure size 432x288 with 1 Axes>"
      ]
     },
     "metadata": {
      "needs_background": "light"
     },
     "output_type": "display_data"
    }
   ],
   "source": [
    "import matplotlib.pyplot as plt\n",
    "plt.plot(X, y, 'b.')\n",
    "plt.xlabel(\"Size of a house in Pyeong\") # 집 크기(평)\n",
    "plt.ylabel(\"Price in uck-won\") # 매매가(억원)\n",
    "plt.show()"
   ]
  },
  {
   "cell_type": "markdown",
   "id": "2853c17b",
   "metadata": {},
   "source": [
    "# 3. Gradient descent -> theta\n",
    "\n",
    "* 선형 회귀 모델\n",
    "\n",
    "    $ h_\\theta(x) = \\theta_0 + \\theta_1 x $\n",
    "    \n",
    "    \n",
    "* 경사 하강법 알고리즘\n",
    "\n",
    "    for j=0 and j=1 {\n",
    "    \n",
    "    $ \\theta_j = \\theta_j - \\alpha \\frac{\\partial}{\\partial\\theta_j}J(\\theta_0, \\theta_1) $\n",
    "    \n",
    "    }\n",
    "    \n",
    "    \n",
    "* 그라디언트\n",
    "\n",
    "    $ \\frac{\\partial}{\\partial\\theta_j}J(\\theta_0, \\theta_1) = $\n",
    "    $ \\begin{pmatrix}\n",
    "    \\frac{\\partial}{\\partial\\theta_0}J(\\theta_0, \\theta_1) \\\\\n",
    "    \\frac{\\partial}{\\partial\\theta_1}J(\\theta_0, \\theta_1)\n",
    "    \\end{pmatrix} = $\n",
    "    $ \\begin{pmatrix}\n",
    "    \\frac{1}{m} \\sum_{i=1}^{m} (\\theta_0 + \\theta_1 x^(i) - y^(i)) \\bullet 1 \\\\\n",
    "    \\frac{1}{m} \\sum_{i=1}^{m} (\\theta_0 + \\theta_1 x^(i) - y^(i)) \\bullet x^(i)\n",
    "    \\end{pmatrix} = $\n",
    "    $ \\frac{1}{m} X_b^T \\bullet (X_b \\bullet \\Theta - y) $"
   ]
  },
  {
   "cell_type": "code",
   "execution_count": 4,
   "id": "1b2a728f",
   "metadata": {},
   "outputs": [
    {
     "name": "stdout",
     "output_type": "stream",
     "text": [
      "theta:\n",
      "[[0.00642125]\n",
      " [0.17560879]]\n"
     ]
    }
   ],
   "source": [
    "X_b = np.c_[np.ones((m,1)), X] # 모든 샘플에 x0 = 1을 추가\n",
    "# c_ : concatenation. 배열을 옆으로 붙이기\n",
    "\n",
    "learning_rate =  0.0001 # 학습률(learning rate)\n",
    "n_iter = 200\n",
    "\n",
    "theta = np.zeros((2,1))\n",
    "gradients = np.zeros((2,1))\n",
    "\n",
    "for i in range(n_iter):\n",
    "    gradients = (1/m)*((X_b.T).dot(X_b.dot(theta)-y))\n",
    "    theta = theta - learning_rate * gradients\n",
    "print(\"theta:\")\n",
    "print(theta)"
   ]
  },
  {
   "cell_type": "markdown",
   "id": "38ebc80f",
   "metadata": {},
   "source": [
    "# 4. 집 크기 최소(10평) ~ 최대(90평) * theta -> 그래프 그리기"
   ]
  },
  {
   "cell_type": "code",
   "execution_count": 5,
   "id": "d6a7e15e",
   "metadata": {},
   "outputs": [
    {
     "name": "stdout",
     "output_type": "stream",
     "text": [
      "10평과 90평의 집의 예측 가격\n",
      "[[ 1.76250917]\n",
      " [15.81121253]]\n"
     ]
    }
   ],
   "source": [
    "X_new = np.array([[10], [90]]) # 10~90평\n",
    "X_new_b = np.c_[np.ones((2,1)), X_new] # 모든 샘플에 x0=1을 추가\n",
    "y_predict = X_new_b.dot(theta)\n",
    "print(\"10평과 90평의 집의 예측 가격\")\n",
    "print(y_predict)"
   ]
  },
  {
   "cell_type": "code",
   "execution_count": 6,
   "id": "b5c97921",
   "metadata": {},
   "outputs": [
    {
     "data": {
      "image/png": "[encoded data removed]",
      "text/plain": [
       "<Figure size 432x288 with 1 Axes>"
      ]
     },
     "metadata": {
      "needs_background": "light"
     },
     "output_type": "display_data"
    }
   ],
   "source": [
    "plt.plot(X_new, y_predict, 'r-')\n",
    "plt.plot(X, y, 'b.')\n",
    "plt.xlabel(\"Size of a house in pyeong\") # 집 크기(10평)\n",
    "plt.ylabel(\"Price in uck-won\") # 매매가(억원)\n",
    "plt.show()"
   ]
  },
  {
   "cell_type": "markdown",
   "id": "031abe8f",
   "metadata": {},
   "source": [
    "# 5. 임의의 집 크기(x_my)에 대한 집값 예측하기"
   ]
  },
  {
   "cell_type": "code",
   "execution_count": 7,
   "id": "35b51c15",
   "metadata": {},
   "outputs": [
    {
     "name": "stdout",
     "output_type": "stream",
     "text": [
      "[[4.39664105]] 억원\n"
     ]
    }
   ],
   "source": [
    "X_mine = np.array([[25]]) # 우리 집이 25평이라면, 얼마일까?\n",
    "X_mine_b = np.c_[np.ones((1,1)), X_mine] # 모든 샘플에 x0=1을 추가\n",
    "y_predict = X_mine_b.dot(theta)\n",
    "print(y_predict, \"억원\")"
   ]
  },
  {
   "cell_type": "markdown",
   "id": "0fa810f6",
   "metadata": {},
   "source": [
    "# 6. (optional) '3.Gradient descent' 대신, 확률적 경사 하강법 함수 호출하여 theta 구하기"
   ]
  },
  {
   "cell_type": "code",
   "execution_count": 8,
   "id": "8a245054",
   "metadata": {},
   "outputs": [
    {
     "data": {
      "text/plain": [
       "SGDRegressor(eta0=0.0001, max_iter=100, penalty=None)"
      ]
     },
     "execution_count": 8,
     "metadata": {},
     "output_type": "execute_result"
    }
   ],
   "source": [
    "from sklearn.linear_model import SGDRegressor\n",
    "sgd_reg = SGDRegressor(max_iter=100, penalty=None, eta0=0.0001) # eta0(learning rate)\n",
    "sgd_reg.fit(X, y.ravel()) # sgd_reg.fit(X, y.ravel()) # 1차원 배열로 만들기 (m,1) -> (m)"
   ]
  },
  {
   "cell_type": "code",
   "execution_count": 9,
   "id": "2f908399",
   "metadata": {},
   "outputs": [
    {
     "name": "stdout",
     "output_type": "stream",
     "text": [
      "theta:\n",
      "[0.00648581] [0.17669939]\n"
     ]
    },
    {
     "data": {
      "image/png": "[encoded data removed]",
      "text/plain": [
       "<Figure size 432x288 with 1 Axes>"
      ]
     },
     "metadata": {
      "needs_background": "light"
     },
     "output_type": "display_data"
    }
   ],
   "source": [
    "print(\"theta:\")\n",
    "print(sgd_reg.intercept_, sgd_reg.coef_)\n",
    "\n",
    "y_pred = sgd_reg.predict(X)\n",
    "plt.plot(X, y, 'b.')\n",
    "plt.plot(X, y_pred, 'r')\n",
    "plt.show()"
   ]
  },
  {
   "cell_type": "code",
   "execution_count": 10,
   "id": "eb0fc1ba",
   "metadata": {},
   "outputs": [
    {
     "name": "stdout",
     "output_type": "stream",
     "text": [
      "[4.42397065] 억원\n"
     ]
    }
   ],
   "source": [
    "y_pred = sgd_reg.predict([[25]])\n",
    "print(y_pred, \"억원\")"
   ]
  },
  {
   "cell_type": "markdown",
   "id": "1674d57d",
   "metadata": {},
   "source": [
    "# 7. (optional) 비용함수 J($\\theta$) 3차원 그래프로 그리기"
   ]
  },
  {
   "cell_type": "code",
   "execution_count": 11,
   "id": "5009a23e",
   "metadata": {},
   "outputs": [],
   "source": [
    "from mpl_toolkits import mplot3d\n",
    "%matplotlib inline\n",
    "import numpy as np\n",
    "import matplotlib.pyplot as plt"
   ]
  },
  {
   "cell_type": "code",
   "execution_count": 12,
   "id": "03f96bc8",
   "metadata": {},
   "outputs": [],
   "source": [
    "def ComputeJ(t0, t1, X, y):\n",
    "    m = len(X)\n",
    "    X_b = np.c_[np.ones((m,1)), X] # 모든 샘플에 x0=1을 추가\n",
    "    theta = np.array([t0, t1])\n",
    "    \n",
    "    cost_vector = X_b.dot(theta) - y # (52,1)\n",
    "    \n",
    "    cost_vector = cost_vector.reshape(-1)\n",
    "    # 각 원소 제곱\n",
    "    cost2 = np.square(cost_vector)\n",
    "    # 원소들 더하기\n",
    "    cost_sum = np.sum(cost2) / (2*m)\n",
    "    \n",
    "    return cost_sum"
   ]
  },
  {
   "cell_type": "code",
   "execution_count": 13,
   "id": "8eb19fa2",
   "metadata": {},
   "outputs": [],
   "source": [
    "# 1. theta0, theta1, J 값 구하기\n",
    "d = 100 # # of split\n",
    "\n",
    "s = 1.0\n",
    "theta0 = np.linspace(-15*s, 15*s, d) # -0.1 ~ 0.1\n",
    "theta1 = np.linspace(-1.0*s, 1.0*s, d) # 0.1 ~ 0.2\n",
    "\n",
    "J = np.ones((d,d)) # (100, 100)\n",
    "for i, t0 in enumerate(theta0):\n",
    "    for j, t1 in enumerate(theta1):\n",
    "        cost = ComputeJ(t0, t1, X, y)\n",
    "        J[i, j] = cost"
   ]
  },
  {
   "cell_type": "code",
   "execution_count": 14,
   "id": "25f8d882",
   "metadata": {},
   "outputs": [
    {
     "data": {
      "image/png": "[encoded data removed]",
      "text/plain": [
       "<Figure size 432x288 with 1 Axes>"
      ]
     },
     "metadata": {
      "needs_background": "light"
     },
     "output_type": "display_data"
    }
   ],
   "source": [
    "# 2. 그리기\n",
    "pX, pY = np.meshgrid(theta0, theta1)\n",
    "\n",
    "fig = plt.figure()\n",
    "ax = plt.axes(projection='3d')\n",
    "ax.contour3D(pX, pY, J, 300, cmap='viridis')\n",
    "ax.set_xlabel('theta0')\n",
    "ax.set_ylabel('theta1')\n",
    "ax.set_zlabel('J')\n",
    "plt.show()"
   ]
  },
  {
   "cell_type": "code",
   "execution_count": null,
   "id": "bf3784d9",
   "metadata": {},
   "outputs": [],
   "source": []
  }
 ],
 "metadata": {
  "kernelspec": {
   "display_name": "conda_pytorch_p36",
   "language": "python",
   "name": "conda_pytorch_p36"
  },
  "language_info": {
   "codemirror_mode": {
    "name": "ipython",
    "version": 3
   },
   "file_extension": ".py",
   "mimetype": "text/x-python",
   "name": "python",
   "nbconvert_exporter": "python",
   "pygments_lexer": "ipython3",
   "version": "3.6.13"
  }
 },
 "nbformat": 4,
 "nbformat_minor": 5
}
