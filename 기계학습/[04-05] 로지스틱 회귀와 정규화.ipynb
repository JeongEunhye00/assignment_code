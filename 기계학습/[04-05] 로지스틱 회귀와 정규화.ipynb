{
 "cells": [
  {
   "cell_type": "markdown",
   "id": "94d3ecaa",
   "metadata": {},
   "source": [
    "# 1. 로지스틱 회귀\n",
    "* 1) 합격여부 데이터 읽기\n",
    "* 2) 그래프 그리기\n",
    "* 3) 학습\n",
    "* 4) decision boundary"
   ]
  },
  {
   "cell_type": "markdown",
   "id": "385c21b3",
   "metadata": {},
   "source": [
    "## 1) 합격 여부 데이터 읽기"
   ]
  },
  {
   "cell_type": "code",
   "execution_count": 1,
   "id": "8509e775",
   "metadata": {},
   "outputs": [
    {
     "name": "stdout",
     "output_type": "stream",
     "text": [
      "          ex1        ex2  Admitted\n",
      "0   34.623660  78.024693         0\n",
      "1   30.286711  43.894998         0\n",
      "2   35.847409  72.902198         0\n",
      "3   60.182599  86.308552         1\n",
      "4   79.032736  75.344376         1\n",
      "..        ...        ...       ...\n",
      "95  83.489163  48.380286         1\n",
      "96  42.261701  87.103851         1\n",
      "97  99.315009  68.775409         1\n",
      "98  55.340018  64.931938         1\n",
      "99  74.775893  89.529813         1\n",
      "\n",
      "[100 rows x 3 columns]\n"
     ]
    }
   ],
   "source": [
    "import numpy as np\n",
    "\n",
    "# (시험1점수), (시험2점수), (합격여부)\n",
    "import pandas as pd\n",
    "data = pd.read_csv('admit.txt', names=['ex1','ex2','Admitted'])\n",
    "print(data)\n",
    "\n",
    "X = np.c_[data['ex1'], data['ex2']] # 점수\n",
    "y = data['Admitted'] # 합격 여부(1: admitted, 0: not admitted)\n",
    "m = len(data) # 정보 개수 (행 개수)"
   ]
  },
  {
   "cell_type": "code",
   "execution_count": 2,
   "id": "082a19e9",
   "metadata": {},
   "outputs": [
    {
     "name": "stdout",
     "output_type": "stream",
     "text": [
      "(100, 2) (100,)\n"
     ]
    }
   ],
   "source": [
    "# numpy array 형태로 변환, 형태 변환(m) -> (m,1)\n",
    "# X = (np.array(X)).reshape(m,2)\n",
    "# y = (np.array(y)).reshape(m,1)\n",
    "print(X.shape, y.shape)"
   ]
  },
  {
   "cell_type": "markdown",
   "id": "fbb68dc4",
   "metadata": {},
   "source": [
    "## 2) 그래프 그리기"
   ]
  },
  {
   "cell_type": "code",
   "execution_count": 3,
   "id": "95f298db",
   "metadata": {},
   "outputs": [
    {
     "name": "stdout",
     "output_type": "stream",
     "text": [
      "[3, 4, 6, 7, 8, 9, 12, 13, 15, 16, 18, 19, 21, 24, 25, 26, 30, 31, 33, 37, 40, 42, 46, 47, 48, 49, 50, 51, 52, 56, 58, 59, 60, 66, 68, 69, 71, 72, 73, 74, 75, 76, 77, 80, 81, 82, 83, 84, 85, 87, 88, 90, 91, 93, 94, 95, 96, 97, 98, 99]\n",
      "[0, 1, 2, 5, 10, 11, 14, 17, 20, 22, 23, 27, 28, 29, 32, 34, 35, 36, 38, 39, 41, 43, 44, 45, 53, 54, 55, 57, 61, 62, 63, 64, 65, 67, 70, 78, 79, 86, 89, 92]\n"
     ]
    }
   ],
   "source": [
    "# 합격, 불합격 데이터 인덱스 찾기\n",
    "pos =[]\n",
    "neg = []\n",
    "\n",
    "for (i, val) in enumerate(y):\n",
    "    if val==1:\n",
    "        pos.append(i)\n",
    "    else:\n",
    "        neg.append(i)       \n",
    "print(pos)\n",
    "print(neg)"
   ]
  },
  {
   "cell_type": "code",
   "execution_count": 4,
   "id": "3bcfeb22",
   "metadata": {},
   "outputs": [
    {
     "data": {
      "image/png": "[encoded data removed]",
      "text/plain": [
       "<Figure size 432x288 with 1 Axes>"
      ]
     },
     "metadata": {
      "needs_background": "light"
     },
     "output_type": "display_data"
    }
   ],
   "source": [
    "import matplotlib.pyplot as plt\n",
    "plt.plot(X[pos,0].reshape(-1), X[pos,1].reshape(-1), 'b+', label='Admitted') # X[:,1].reshape(-1): 한 줄로 피기. (m,) -> (m)\n",
    "plt.plot(X[neg,0].reshape(-1), X[neg,1].reshape(-1), 'ro', label='Not admitted')\n",
    "plt.xlabel(\"Exam 1 score\")\n",
    "plt.ylabel(\"Exam 2 score\")\n",
    "plt.legend(loc='upper right')\n",
    "plt.show()"
   ]
  },
  {
   "cell_type": "markdown",
   "id": "face29a2",
   "metadata": {},
   "source": [
    "## 3) 학습"
   ]
  },
  {
   "cell_type": "code",
   "execution_count": 5,
   "id": "57705b2c",
   "metadata": {},
   "outputs": [
    {
     "data": {
      "text/plain": [
       "LogisticRegression(C=10, solver='liblinear')"
      ]
     },
     "execution_count": 5,
     "metadata": {},
     "output_type": "execute_result"
    }
   ],
   "source": [
    "from sklearn.linear_model import LogisticRegression\n",
    "\n",
    "log_reg = LogisticRegression(solver='liblinear', C=10) # C: 클수록 규제 줄어듦\n",
    "log_reg.fit(X,y)"
   ]
  },
  {
   "cell_type": "code",
   "execution_count": 6,
   "id": "e076da1b",
   "metadata": {},
   "outputs": [
    {
     "data": {
      "text/plain": [
       "array([0, 1])"
      ]
     },
     "execution_count": 6,
     "metadata": {},
     "output_type": "execute_result"
    }
   ],
   "source": [
    "# exam1 30점, exam2 70점 맞은 학생은 합격/불합격?\n",
    "# exam1 50점, exam2 90점\n",
    "log_reg.predict([[30,70],\n",
    "                [50,90]])"
   ]
  },
  {
   "cell_type": "markdown",
   "id": "e7f0f959",
   "metadata": {},
   "source": [
    "## 4) decision boundary"
   ]
  },
  {
   "cell_type": "code",
   "execution_count": 8,
   "id": "b20b425e",
   "metadata": {},
   "outputs": [
    {
     "name": "stderr",
     "output_type": "stream",
     "text": [
      "/home/ec2-user/anaconda3/envs/pytorch_p36/lib/python3.6/site-packages/ipykernel/__main__.py:12: MatplotlibDeprecationWarning: shading='flat' when X and Y have the same dimensions as C is deprecated since 3.3.  Either specify the corners of the quadrilaterals with X and Y, or pass shading='auto', 'nearest' or 'gouraud', or set rcParams['pcolor.shading'].  This will become an error two minor releases later.\n"
     ]
    },
    {
     "data": {
      "image/png": "[encoded data removed]",
      "text/plain": [
       "<Figure size 432x288 with 1 Axes>"
      ]
     },
     "metadata": {},
     "output_type": "display_data"
    }
   ],
   "source": [
    "# Plot the decision boundary. For that, we will assgin a color to each\n",
    "# point in the mash [x_min, x_max]x[y_min, y_max].\n",
    "x_min, x_max = X[:,0].min(), X[:,0].max()\n",
    "y_min, y_max = X[:,1].min(), X[:,1].max()\n",
    "h = .2 # step size in the mash\n",
    "xx, yy = np.meshgrid(np.arange(x_min, x_max, h), np.arange(y_min, y_max, h))\n",
    "Z = log_reg.predict(np.c_[xx.ravel(), yy.ravel()])\n",
    "\n",
    "# Put the result into a color plot\n",
    "Z = Z.reshape(xx.shape)\n",
    "plt.figure(1)\n",
    "plt.pcolormesh(xx, yy, Z, cmap=plt.cm.Paired)\n",
    "\n",
    "# Plot also the training points\n",
    "plt.plot(X[pos,0].reshape(-1), X[pos,1].reshape(-1), 'b+', label='Passed')\n",
    "plt.plot(X[neg,0].reshape(-1), X[neg,1].reshape(-1), 'ro', label='Not passed')\n",
    "plt.xlabel('Exam 1 score')\n",
    "plt.ylabel('Exam 2 score')\n",
    "plt.legend(loc='upper right')\n",
    "\n",
    "plt.xlim(xx.min(), xx.max())\n",
    "plt.ylim(yy.min(), yy.max())\n",
    "plt.xticks(())\n",
    "plt.yticks(())\n",
    "\n",
    "plt.show()"
   ]
  },
  {
   "cell_type": "markdown",
   "id": "7b5d8fde",
   "metadata": {},
   "source": [
    "# 2. 로지스틱 회귀 + 정규화\n",
    "\n",
    "* 1) 불량여부 데이터 읽기\n",
    "* 2) 그래프 그리기\n",
    "* 3) 학습\n",
    "* 4) decision boundary"
   ]
  },
  {
   "cell_type": "markdown",
   "id": "43a58b86",
   "metadata": {},
   "source": [
    "## 1) 불량여부 데이터 읽기"
   ]
  },
  {
   "cell_type": "code",
   "execution_count": 9,
   "id": "3ea88d3f",
   "metadata": {},
   "outputs": [
    {
     "name": "stdout",
     "output_type": "stream",
     "text": [
      "           t1        t2  Passed\n",
      "0    0.051267  0.699560       1\n",
      "1   -0.092742  0.684940       1\n",
      "2   -0.213710  0.692250       1\n",
      "3   -0.375000  0.502190       1\n",
      "4   -0.513250  0.465640       1\n",
      "..        ...       ...     ...\n",
      "113 -0.720620  0.538740       0\n",
      "114 -0.593890  0.494880       0\n",
      "115 -0.484450  0.999270       0\n",
      "116 -0.006336  0.999270       0\n",
      "117  0.632650 -0.030612       0\n",
      "\n",
      "[118 rows x 3 columns]\n"
     ]
    }
   ],
   "source": [
    "import numpy as np\n",
    "\n",
    "# (test1), (test2), (Quality Assurance 통과 여부)\n",
    "import pandas as pd\n",
    "data = pd.read_csv('qa.txt', names=['t1','t2','Passed'])\n",
    "print(data)\n",
    "\n",
    "X = np.c_[data['t1'], data['t2']] # 점수\n",
    "y = data['Passed'] # 합격 여부(1: Passed, 0: failed)\n",
    "m = len(data) # 정보 개수 (행 개수)"
   ]
  },
  {
   "cell_type": "markdown",
   "id": "424069bc",
   "metadata": {},
   "source": [
    "## 2) 그래프 그리기"
   ]
  },
  {
   "cell_type": "code",
   "execution_count": 10,
   "id": "ae356057",
   "metadata": {},
   "outputs": [
    {
     "name": "stdout",
     "output_type": "stream",
     "text": [
      "[0, 1, 2, 3, 4, 5, 6, 7, 8, 9, 10, 11, 12, 13, 14, 15, 16, 17, 18, 19, 20, 21, 22, 23, 24, 25, 26, 27, 28, 29, 30, 31, 32, 33, 34, 35, 36, 37, 38, 39, 40, 41, 42, 43, 44, 45, 46, 47, 48, 49, 50, 51, 52, 53, 54, 55, 56, 57]\n",
      "[58, 59, 60, 61, 62, 63, 64, 65, 66, 67, 68, 69, 70, 71, 72, 73, 74, 75, 76, 77, 78, 79, 80, 81, 82, 83, 84, 85, 86, 87, 88, 89, 90, 91, 92, 93, 94, 95, 96, 97, 98, 99, 100, 101, 102, 103, 104, 105, 106, 107, 108, 109, 110, 111, 112, 113, 114, 115, 116, 117]\n"
     ]
    }
   ],
   "source": [
    "# passed, failed 데이터 인덱스 찾기\n",
    "pos =[]\n",
    "neg = []\n",
    "\n",
    "for (i, val) in enumerate(y):\n",
    "    if val==1:\n",
    "        pos.append(i)\n",
    "    else:\n",
    "        neg.append(i)       \n",
    "print(pos)\n",
    "print(neg)"
   ]
  },
  {
   "cell_type": "code",
   "execution_count": 11,
   "id": "2f9abb93",
   "metadata": {},
   "outputs": [
    {
     "data": {
      "image/png": "[encoded data removed]",
      "text/plain": [
       "<Figure size 432x288 with 1 Axes>"
      ]
     },
     "metadata": {
      "needs_background": "light"
     },
     "output_type": "display_data"
    }
   ],
   "source": [
    "import matplotlib.pyplot as plt\n",
    "plt.plot(X[pos,0].reshape(-1), X[pos,1].reshape(-1), 'b+', label='Passed') \n",
    "plt.plot(X[neg,0].reshape(-1), X[neg,1].reshape(-1), 'ro', label='Failed')\n",
    "plt.xlabel(\"Microchip Test 1\") # Test1 수치\n",
    "plt.ylabel(\"Microchip Test 2\") # Test2 수치\n",
    "plt.legend(loc='upper right')\n",
    "plt.show()"
   ]
  },
  {
   "cell_type": "markdown",
   "id": "c49b5a56",
   "metadata": {},
   "source": [
    "## 3) 학습"
   ]
  },
  {
   "cell_type": "code",
   "execution_count": 13,
   "id": "9f0bfcaf",
   "metadata": {},
   "outputs": [
    {
     "name": "stdout",
     "output_type": "stream",
     "text": [
      "[0.051267 0.69956 ]\n",
      "[0.051267   0.69956    0.00262831 0.03586434 0.48938419]\n",
      "(5,)\n"
     ]
    }
   ],
   "source": [
    "#X_poly = mapFeature(X[:,0], X[:,1])\n",
    "from sklearn.preprocessing import PolynomialFeatures\n",
    "degree = 2\n",
    "poly_features = PolynomialFeatures(degree=degree, include_bias=False)\n",
    "X_poly = poly_features.fit_transform(X)\n",
    "\n",
    "print(X[0])\n",
    "print(X_poly[0])\n",
    "print(X_poly[0].shape)"
   ]
  },
  {
   "cell_type": "code",
   "execution_count": 14,
   "id": "16350817",
   "metadata": {},
   "outputs": [
    {
     "name": "stdout",
     "output_type": "stream",
     "text": [
      "[0.051267 0.69956 ]\n",
      "(27,)\n"
     ]
    }
   ],
   "source": [
    "#X_poly = mapFeature(X[:,0], X[:,1])\n",
    "from sklearn.preprocessing import PolynomialFeatures\n",
    "degree = 6\n",
    "poly_features = PolynomialFeatures(degree=degree, include_bias=False)\n",
    "X_poly = poly_features.fit_transform(X)\n",
    "\n",
    "print(X[0])\n",
    "print(X_poly[0].shape)"
   ]
  },
  {
   "cell_type": "code",
   "execution_count": 15,
   "id": "5e3c4314",
   "metadata": {},
   "outputs": [
    {
     "data": {
      "text/plain": [
       "LogisticRegression(C=0.1, solver='liblinear')"
      ]
     },
     "execution_count": 15,
     "metadata": {},
     "output_type": "execute_result"
    }
   ],
   "source": [
    "from sklearn.linear_model import LogisticRegression\n",
    "\n",
    "log_reg = LogisticRegression(penalty='l2', solver='liblinear', C=1e-1) # 1, 1e4(규제 조금), 1e-1(규제 많이)\n",
    "log_reg.fit(X_poly, y)"
   ]
  },
  {
   "cell_type": "markdown",
   "id": "fe38e060",
   "metadata": {},
   "source": [
    "## 4) decision boundary"
   ]
  },
  {
   "cell_type": "code",
   "execution_count": 16,
   "id": "07e663b8",
   "metadata": {},
   "outputs": [
    {
     "name": "stderr",
     "output_type": "stream",
     "text": [
      "/home/ec2-user/anaconda3/envs/pytorch_p36/lib/python3.6/site-packages/ipykernel/__main__.py:13: UserWarning: No contour levels were found within the data range.\n"
     ]
    },
    {
     "data": {
      "image/png": "[encoded data removed]",
      "text/plain": [
       "<Figure size 432x288 with 1 Axes>"
      ]
     },
     "metadata": {
      "needs_background": "light"
     },
     "output_type": "display_data"
    }
   ],
   "source": [
    "u = np.linspace(-1, 1.5, 300)\n",
    "v = np.linspace(-1, 1.5, 300)\n",
    "z = np.zeros((len(u), len(v)))\n",
    "\n",
    "for i in range(len(u)):\n",
    "    a=[]\n",
    "    for j in range(len(v)):\n",
    "        a.append(np.array([u[i], v[j]]))\n",
    "        \n",
    "    my_data = poly_features.fit_transform(a)\n",
    "    z[i] = log_reg.predict(my_data)\n",
    "    \n",
    "plt.contour(u,v,z,0)\n",
    "\n",
    "plt.plot(X[pos,0].reshape(-1), X[pos,1].reshape(-1), 'b+', label='Passed')\n",
    "plt.plot(X[neg,0].reshape(-1), X[neg,1].reshape(-1), 'ro', label='Failed')\n",
    "plt.xlabel('Microchip Test 1')\n",
    "plt.ylabel('Microchip Test 2')\n",
    "plt.legend(loc='upper right')\n",
    "plt.show()"
   ]
  },
  {
   "cell_type": "markdown",
   "id": "da2d427f",
   "metadata": {},
   "source": [
    "## 5) 로지스틱 회귀의 성능 측정법"
   ]
  },
  {
   "cell_type": "code",
   "execution_count": 17,
   "id": "672971fd",
   "metadata": {},
   "outputs": [
    {
     "name": "stdout",
     "output_type": "stream",
     "text": [
      "[1 1 1 1 1 1 1 1 1 1 0 0 0 0 0 1 1 0 1 1 1 1 1 1 1 1 0 0 1 0 0 0 1 1 1 1 1\n",
      " 1 1 1 1 1 0 1 0 1 0 1 0 0 1 1 1 1 1 1 1 1 0 0 1 0 0 0 0 0 0 0 0 0 0 0 0 0\n",
      " 0 0 1 0 0 0 1 1 1 1 0 0 0 0 1 0 0 0 0 0 0 0 0 0 0 0 0 0 1 0 1 1 1 1 1 0 0\n",
      " 0 0 0 1 0 0 0]\n",
      "[[46 14]\n",
      " [16 42]]\n"
     ]
    },
    {
     "data": {
      "image/png": "[encoded data removed]",
      "text/plain": [
       "<Figure size 288x288 with 1 Axes>"
      ]
     },
     "metadata": {
      "needs_background": "light"
     },
     "output_type": "display_data"
    },
    {
     "name": "stdout",
     "output_type": "stream",
     "text": [
      "precision_score:  0.75\n",
      "recall_score:  0.7241379310344828\n",
      "F1 score: 0.736842105263158\n"
     ]
    }
   ],
   "source": [
    "# 1. y 값 prediction\n",
    "\"\"\" 편의상train data에 대해 prediction 함.\n",
    "원래는 validation, test data에 대해 해야 함.\"\"\"\n",
    "y_pred=log_reg.predict(X_poly)\n",
    "print(y_pred)\n",
    "\n",
    "# 2. confusion matrix\n",
    "from sklearn.metrics import confusion_matrix\n",
    "conf_mat = confusion_matrix(y, y_pred)\n",
    "print(conf_mat)\n",
    "plt.matshow(conf_mat, cmap=plt.cm.gray)\n",
    "plt.show()\n",
    "\n",
    "# 3. precision & recall\n",
    "from sklearn.metrics import precision_score, recall_score\n",
    "print('precision_score: ', precision_score(y, y_pred))\n",
    "print('recall_score: ', recall_score(y, y_pred))\n",
    "\n",
    "# 4. F1 score\n",
    "from sklearn.metrics import f1_score\n",
    "print('F1 score:', f1_score(y, y_pred))"
   ]
  },
  {
   "cell_type": "code",
   "execution_count": 18,
   "id": "7ab2d08b",
   "metadata": {},
   "outputs": [
    {
     "name": "stdout",
     "output_type": "stream",
     "text": [
      "[ 0.05721229  0.09031196  0.08026682  0.17053879  0.12428068  0.12804255\n",
      "  0.15762518  0.13103297  0.10611841  0.05698076 -0.02303367 -0.08009722\n",
      " -0.08781319 -0.21166892 -0.03087887  0.07336408  0.15980733 -0.10426686\n",
      "  0.07493999  0.06340612  0.01223171  0.06483144  0.05088184  0.06692669\n",
      "  0.09972027  0.0039081  -0.04642661 -0.2288355   0.19104147 -0.04422837\n",
      " -0.48582731 -0.06976624  0.12417891  0.20140773  0.20043654  0.18558606\n",
      "  0.14110412  0.17216763  0.17914447  0.08748364  0.12938355  0.05788662\n",
      " -0.07524136  0.10212642 -0.03704723  0.00922225 -0.25399059  0.14984191\n",
      " -0.08845407 -0.03267549  0.14628497  0.23248708  0.18795328  0.2312281\n",
      "  0.22583701  0.16968366  0.19363608  0.13978443 -0.47339273 -0.11374384\n",
      "  0.05569444 -0.27770043 -0.3643466  -0.1778768  -0.37102315 -0.73725405\n",
      " -0.39571626 -0.78450463 -0.69486198 -0.46788667 -0.5786725  -0.48962111\n",
      " -0.49382144 -0.4376614  -0.27751262 -0.10992105  0.0029229  -0.01829043\n",
      " -0.13858015 -0.09891484  0.02217236  0.07687025  0.01955373  0.08309043\n",
      " -0.16216551 -0.02832433 -0.06081424 -0.14156364  0.02597511 -0.3686108\n",
      " -0.37972945 -0.04142063 -0.06922482 -0.37741015 -0.59668064 -1.18241061\n",
      " -1.23462178 -0.30852966 -0.7849646  -0.68557665 -0.32835161 -1.29145658\n",
      "  0.02247742 -0.04331678  0.1060566   0.0247194   0.08914681  0.16969841\n",
      "  0.02081615 -0.06428006 -0.09046135 -0.08798572 -0.16530824 -0.0636558\n",
      "  0.0667766  -0.68509242 -0.64525137 -0.0478308 ]\n"
     ]
    }
   ],
   "source": [
    "# y probablity\n",
    "y_scores = log_reg.decision_function(X_poly)\n",
    "print(y_scores)"
   ]
  },
  {
   "cell_type": "code",
   "execution_count": 19,
   "id": "43126587",
   "metadata": {},
   "outputs": [
    {
     "data": {
      "image/png": "[encoded data removed]",
      "text/plain": [
       "<Figure size 432x288 with 1 Axes>"
      ]
     },
     "metadata": {
      "needs_background": "light"
     },
     "output_type": "display_data"
    },
    {
     "name": "stdout",
     "output_type": "stream",
     "text": [
      "roc_auc_score:  0.8554597701149426\n"
     ]
    }
   ],
   "source": [
    "# 5. ROC curve\n",
    "from sklearn.metrics import roc_curve\n",
    "fpr, tpr, thresholds = roc_curve(y, y_scores)\n",
    "\n",
    "def plot_roc_curve(fpr, tpr, label=None):\n",
    "    plt.plot(fpr, tpr, linewidth=2, label=label)\n",
    "    plt.plot([0,1], [0,1], 'k--')\n",
    "    plt.axis([0,1,0,1])\n",
    "    plt.xlabel('FPR')\n",
    "    plt.ylabel('TPR')\n",
    "plot_roc_curve(fpr, tpr)\n",
    "plt.show()\n",
    "\n",
    "# 6. AUC\n",
    "from sklearn.metrics import roc_auc_score\n",
    "print('roc_auc_score: ', roc_auc_score(y, y_scores))"
   ]
  },
  {
   "cell_type": "code",
   "execution_count": null,
   "id": "c3469630",
   "metadata": {},
   "outputs": [],
   "source": []
  }
 ],
 "metadata": {
  "kernelspec": {
   "display_name": "conda_pytorch_p36",
   "language": "python",
   "name": "conda_pytorch_p36"
  },
  "language_info": {
   "codemirror_mode": {
    "name": "ipython",
    "version": 3
   },
   "file_extension": ".py",
   "mimetype": "text/x-python",
   "name": "python",
   "nbconvert_exporter": "python",
   "pygments_lexer": "ipython3",
   "version": "3.6.13"
  }
 },
 "nbformat": 4,
 "nbformat_minor": 5
}
