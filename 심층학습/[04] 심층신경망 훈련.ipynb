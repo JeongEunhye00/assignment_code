{
  "nbformat": 4,
  "nbformat_minor": 0,
  "metadata": {
    "colab": {
      "name": "Colab_py36.ipynb",
      "provenance": [],
      "collapsed_sections": [
        "qFc3wUjaIquG",
        "IDZvKwQyNCqW",
        "UQ_a50YbbFUi",
        "en7dRuEZXgwY",
        "CdgWoqvUOc65",
        "7Dr9xm3c0oK5",
        "CI_9GGHVhNz2",
        "Fol9DmkWURlg",
        "F5BsXTJN_vv5",
        "FtfwkCvF80Oi",
        "IBfSgK1wUsH8",
        "Jo5MzAw-S7Wf",
        "zarQjD7cQ4jf",
        "FbJsnQkQPqh8",
        "3PsLwE7F3yKQ"
      ],
      "toc_visible": true
    },
    "kernelspec": {
      "name": "python3",
      "display_name": "Python 3"
    },
    "language_info": {
      "name": "python"
    },
    "accelerator": "GPU",
    "widgets": {
      "application/vnd.jupyter.widget-state+json": {
        "3934c021eff44c3b8690de740289ca0f": {
          "model_module": "@jupyter-widgets/controls",
          "model_name": "HBoxModel",
          "state": {
            "_view_name": "HBoxView",
            "_dom_classes": [],
            "_model_name": "HBoxModel",
            "_view_module": "@jupyter-widgets/controls",
            "_model_module_version": "1.5.0",
            "_view_count": null,
            "_view_module_version": "1.5.0",
            "box_style": "",
            "layout": "IPY_MODEL_d948f56ec6c34ea6913739fdd0816f36",
            "_model_module": "@jupyter-widgets/controls",
            "children": [
              "IPY_MODEL_459904319c7b4e26906988d2114570cb",
              "IPY_MODEL_de0e264e919145eda9736be6ed3a6b1a"
            ]
          }
        },
        "d948f56ec6c34ea6913739fdd0816f36": {
          "model_module": "@jupyter-widgets/base",
          "model_name": "LayoutModel",
          "state": {
            "_view_name": "LayoutView",
            "grid_template_rows": null,
            "right": null,
            "justify_content": null,
            "_view_module": "@jupyter-widgets/base",
            "overflow": null,
            "_model_module_version": "1.2.0",
            "_view_count": null,
            "flex_flow": null,
            "width": null,
            "min_width": null,
            "border": null,
            "align_items": null,
            "bottom": null,
            "_model_module": "@jupyter-widgets/base",
            "top": null,
            "grid_column": null,
            "overflow_y": null,
            "overflow_x": null,
            "grid_auto_flow": null,
            "grid_area": null,
            "grid_template_columns": null,
            "flex": null,
            "_model_name": "LayoutModel",
            "justify_items": null,
            "grid_row": null,
            "max_height": null,
            "align_content": null,
            "visibility": null,
            "align_self": null,
            "height": null,
            "min_height": null,
            "padding": null,
            "grid_auto_rows": null,
            "grid_gap": null,
            "max_width": null,
            "order": null,
            "_view_module_version": "1.2.0",
            "grid_template_areas": null,
            "object_position": null,
            "object_fit": null,
            "grid_auto_columns": null,
            "margin": null,
            "display": null,
            "left": null
          }
        },
        "459904319c7b4e26906988d2114570cb": {
          "model_module": "@jupyter-widgets/controls",
          "model_name": "FloatProgressModel",
          "state": {
            "_view_name": "ProgressView",
            "style": "IPY_MODEL_259a5102d388472c885acbd698af569e",
            "_dom_classes": [],
            "description": "",
            "_model_name": "FloatProgressModel",
            "bar_style": "success",
            "max": 170498071,
            "_view_module": "@jupyter-widgets/controls",
            "_model_module_version": "1.5.0",
            "value": 170498071,
            "_view_count": null,
            "_view_module_version": "1.5.0",
            "orientation": "horizontal",
            "min": 0,
            "description_tooltip": null,
            "_model_module": "@jupyter-widgets/controls",
            "layout": "IPY_MODEL_1e657a5c466d4a39ba49b8b395e1ec29"
          }
        },
        "de0e264e919145eda9736be6ed3a6b1a": {
          "model_module": "@jupyter-widgets/controls",
          "model_name": "HTMLModel",
          "state": {
            "_view_name": "HTMLView",
            "style": "IPY_MODEL_49b787a71c01416c8828aaae3b53feb8",
            "_dom_classes": [],
            "description": "",
            "_model_name": "HTMLModel",
            "placeholder": "​",
            "_view_module": "@jupyter-widgets/controls",
            "_model_module_version": "1.5.0",
            "value": " 170499072/? [00:15&lt;00:00, 10776225.06it/s]",
            "_view_count": null,
            "_view_module_version": "1.5.0",
            "description_tooltip": null,
            "_model_module": "@jupyter-widgets/controls",
            "layout": "IPY_MODEL_a7030e1b50414bed84f238b68a79be5d"
          }
        },
        "259a5102d388472c885acbd698af569e": {
          "model_module": "@jupyter-widgets/controls",
          "model_name": "ProgressStyleModel",
          "state": {
            "_view_name": "StyleView",
            "_model_name": "ProgressStyleModel",
            "description_width": "initial",
            "_view_module": "@jupyter-widgets/base",
            "_model_module_version": "1.5.0",
            "_view_count": null,
            "_view_module_version": "1.2.0",
            "bar_color": null,
            "_model_module": "@jupyter-widgets/controls"
          }
        },
        "1e657a5c466d4a39ba49b8b395e1ec29": {
          "model_module": "@jupyter-widgets/base",
          "model_name": "LayoutModel",
          "state": {
            "_view_name": "LayoutView",
            "grid_template_rows": null,
            "right": null,
            "justify_content": null,
            "_view_module": "@jupyter-widgets/base",
            "overflow": null,
            "_model_module_version": "1.2.0",
            "_view_count": null,
            "flex_flow": null,
            "width": null,
            "min_width": null,
            "border": null,
            "align_items": null,
            "bottom": null,
            "_model_module": "@jupyter-widgets/base",
            "top": null,
            "grid_column": null,
            "overflow_y": null,
            "overflow_x": null,
            "grid_auto_flow": null,
            "grid_area": null,
            "grid_template_columns": null,
            "flex": null,
            "_model_name": "LayoutModel",
            "justify_items": null,
            "grid_row": null,
            "max_height": null,
            "align_content": null,
            "visibility": null,
            "align_self": null,
            "height": null,
            "min_height": null,
            "padding": null,
            "grid_auto_rows": null,
            "grid_gap": null,
            "max_width": null,
            "order": null,
            "_view_module_version": "1.2.0",
            "grid_template_areas": null,
            "object_position": null,
            "object_fit": null,
            "grid_auto_columns": null,
            "margin": null,
            "display": null,
            "left": null
          }
        },
        "49b787a71c01416c8828aaae3b53feb8": {
          "model_module": "@jupyter-widgets/controls",
          "model_name": "DescriptionStyleModel",
          "state": {
            "_view_name": "StyleView",
            "_model_name": "DescriptionStyleModel",
            "description_width": "",
            "_view_module": "@jupyter-widgets/base",
            "_model_module_version": "1.5.0",
            "_view_count": null,
            "_view_module_version": "1.2.0",
            "_model_module": "@jupyter-widgets/controls"
          }
        },
        "a7030e1b50414bed84f238b68a79be5d": {
          "model_module": "@jupyter-widgets/base",
          "model_name": "LayoutModel",
          "state": {
            "_view_name": "LayoutView",
            "grid_template_rows": null,
            "right": null,
            "justify_content": null,
            "_view_module": "@jupyter-widgets/base",
            "overflow": null,
            "_model_module_version": "1.2.0",
            "_view_count": null,
            "flex_flow": null,
            "width": null,
            "min_width": null,
            "border": null,
            "align_items": null,
            "bottom": null,
            "_model_module": "@jupyter-widgets/base",
            "top": null,
            "grid_column": null,
            "overflow_y": null,
            "overflow_x": null,
            "grid_auto_flow": null,
            "grid_area": null,
            "grid_template_columns": null,
            "flex": null,
            "_model_name": "LayoutModel",
            "justify_items": null,
            "grid_row": null,
            "max_height": null,
            "align_content": null,
            "visibility": null,
            "align_self": null,
            "height": null,
            "min_height": null,
            "padding": null,
            "grid_auto_rows": null,
            "grid_gap": null,
            "max_width": null,
            "order": null,
            "_view_module_version": "1.2.0",
            "grid_template_areas": null,
            "object_position": null,
            "object_fit": null,
            "grid_auto_columns": null,
            "margin": null,
            "display": null,
            "left": null
          }
        }
      }
    }
  },
  "cells": [
    {
      "cell_type": "code",
      "metadata": {
        "colab": {
          "base_uri": "https://localhost:8080/"
        },
        "id": "4otntvMRooof",
        "outputId": "86095e0e-d095-4f2e-a397-849f7962c15a"
      },
      "source": [
        "# 최종 정확도 확인\n",
        "netname = './nets/ex04_net_fin.pkl'\n",
        "model = torch.load(netname)\n",
        "ComputeAccr(test_loader, model)"
      ],
      "execution_count": 11,
      "outputs": [
        {
          "output_type": "stream",
          "text": [
            "/usr/local/lib/python3.7/dist-packages/ipykernel_launcher.py:6: UserWarning: volatile was removed and now has no effect. Use `with torch.no_grad():` instead.\n",
            "  \n"
          ],
          "name": "stderr"
        },
        {
          "output_type": "stream",
          "text": [
            "Accuracy of Test Data: 78.68999481201172\n"
          ],
          "name": "stdout"
        }
      ]
    },
    {
      "cell_type": "code",
      "metadata": {
        "id": "ejXo2vbF260a"
      },
      "source": [
        "import numpy as np\n",
        "import torch\n",
        "import torch.nn as nn\n",
        "import torch.optim as optim\n",
        "import torch.nn.init as init\n",
        "import torchvision.datasets as dset\n",
        "import torchvision.transforms as transforms\n",
        "from torch.utils.data import DataLoader\n",
        "from torch.autograd import Variable\n",
        "import matplotlib.pyplot as plt\n",
        "from torch.optim import lr_scheduler\n",
        "\n",
        "batch_size=16\n",
        "learning_rate=0.002\n",
        "num_epoch=100"
      ],
      "execution_count": 2,
      "outputs": []
    },
    {
      "cell_type": "code",
      "metadata": {
        "id": "QvXqUCe43O25",
        "colab": {
          "base_uri": "https://localhost:8080/",
          "height": 124,
          "referenced_widgets": [
            "3934c021eff44c3b8690de740289ca0f",
            "d948f56ec6c34ea6913739fdd0816f36",
            "459904319c7b4e26906988d2114570cb",
            "de0e264e919145eda9736be6ed3a6b1a",
            "259a5102d388472c885acbd698af569e",
            "1e657a5c466d4a39ba49b8b395e1ec29",
            "49b787a71c01416c8828aaae3b53feb8",
            "a7030e1b50414bed84f238b68a79be5d"
          ]
        },
        "outputId": "887948d1-b792-4838-f355-ed0e2c0ee523"
      },
      "source": [
        "#cifar_train=dset.CIFAR10(\"CIFAR10/\", train=True, transform=transforms.ToTensor(), target_transform=None, download=True)\n",
        "\n",
        "# (2) Data augmentation\n",
        "'''\n",
        "cifar_train=dset.CIFAR10(\"CIFAR10/\",train=True,\n",
        "                         transform=transforms.Compose([\n",
        "                            transforms.Scale(36),\n",
        "                            transforms.CenterCrop(32),\n",
        "                            transforms.RandomHorizontalFlip(),\n",
        "                            transforms.Lambda(lambda x: x.rotate(90)),\n",
        "                            transforms.ToTensor()                              \n",
        "                         ]))\n",
        "'''\n",
        "# (4) Data Normalization\n",
        "\n",
        "cifar_train=dset.CIFAR10(\"CIFAR10/\", train=True,\n",
        "                         transform=transforms.Compose([\n",
        "                          transforms.ToTensor(),\n",
        "                          transforms.Normalize(mean=(0.5,0.5,0.5), std=(0.5,0.5,0.5)),\n",
        "                         ])\n",
        "                         , target_transform=None, download=True)\n",
        "cifar_test=dset.CIFAR10(\"CIFAR10/\", train=False,\n",
        "                         transform=transforms.Compose([\n",
        "                          transforms.ToTensor(),\n",
        "                          transforms.Normalize(mean=(0.5,0.5,0.5), std=(0.5,0.5,0.5)),\n",
        "                         ])\n",
        "                         , target_transform=None, download=True)\n",
        "\n",
        "#cifar_test=dset.CIFAR10(\"CIFAR10/\", train=False, transform=transforms.ToTensor(), target_transform=None, download=True)"
      ],
      "execution_count": 3,
      "outputs": [
        {
          "output_type": "stream",
          "text": [
            "Downloading https://www.cs.toronto.edu/~kriz/cifar-10-python.tar.gz to CIFAR10/cifar-10-python.tar.gz\n"
          ],
          "name": "stdout"
        },
        {
          "output_type": "display_data",
          "data": {
            "application/vnd.jupyter.widget-view+json": {
              "model_id": "3934c021eff44c3b8690de740289ca0f",
              "version_minor": 0,
              "version_major": 2
            },
            "text/plain": [
              "HBox(children=(FloatProgress(value=0.0, max=170498071.0), HTML(value='')))"
            ]
          },
          "metadata": {
            "tags": []
          }
        },
        {
          "output_type": "stream",
          "text": [
            "\n",
            "Extracting CIFAR10/cifar-10-python.tar.gz to CIFAR10/\n",
            "Files already downloaded and verified\n"
          ],
          "name": "stdout"
        }
      ]
    },
    {
      "cell_type": "code",
      "metadata": {
        "id": "ODGXSiJo3T2Q"
      },
      "source": [
        "def ComputeAccr(dloader, imodel):\n",
        "  correct = 0\n",
        "  total = 0\n",
        "\n",
        "  for j, [imgs, labels] in enumerate(dloader):  # batch_size 만큼\n",
        "    img = Variable(imgs, volatile=True).cuda()\n",
        "    #label = Variable(labels) # y\n",
        "    label = Variable(labels).cuda()\n",
        "\n",
        "    output = imodel.forward(img)  # forward prop.\n",
        "    _, output_index = torch.max(output, 1)\n",
        "\n",
        "    total += label.size(0)\n",
        "    correct += (output_index == label).sum().float()\n",
        "  print(\"Accuracy of Test Data: {}\".format(100*correct/total))"
      ],
      "execution_count": 4,
      "outputs": []
    },
    {
      "cell_type": "code",
      "metadata": {
        "id": "-S59A8PP3fB4"
      },
      "source": [
        "# === 3. 데이터 로드 함수 ===\n",
        "train_loader=torch.utils.data.DataLoader(list(cifar_train)[:], batch_size=batch_size, shuffle=True, num_workers=2,drop_last=True)\n",
        "test_loader=torch.utils.data.DataLoader(cifar_test, batch_size=batch_size, shuffle=False, num_workers=2, drop_last=True)\n",
        "\n",
        "# === 4. 모델 선언 ===\n",
        "class CNN(nn.Module):\n",
        "  def __init__(self):\n",
        "    super(CNN, self).__init__()\n",
        "    self.layer=nn.Sequential(\n",
        "        nn.Conv2d(3,16,3,padding=1),\n",
        "        nn.BatchNorm2d(16),  # (5) Batch normalization\n",
        "        nn.ELU(),\n",
        "        nn.Dropout2d(0.2),  # (2) drop out\n",
        "        nn.Conv2d(16,32,3,padding=1),\n",
        "        nn.BatchNorm2d(32),\n",
        "        nn.ELU(),\n",
        "        nn.Dropout2d(0.2),\n",
        "        nn.MaxPool2d(2,2),\n",
        "        nn.Conv2d(32,64,3,padding=1),\n",
        "        nn.BatchNorm2d(64),\n",
        "        nn.ELU(),\n",
        "        nn.Dropout(0.2),\n",
        "        nn.MaxPool2d(2,2)\n",
        "    )\n",
        "    self.fc_layer=nn.Sequential(\n",
        "        nn.Linear(64*8*8, 100),\n",
        "        nn.BatchNorm1d(100),\n",
        "        nn.ELU(),\n",
        "        nn.Dropout(0.2),\n",
        "        nn.Linear(100,50),\n",
        "        nn.Linear(50,10)\n",
        "    )\n",
        "\n",
        "    # (3) weight initialization\n",
        "    '''\n",
        "    for m in self.modules():\n",
        "      if isinstance(m, nn.Conv2d):\n",
        "        init.kaiming_normal(m.weight.data)  # REUL 일 때\n",
        "        m.bias.data.fill_(0)\n",
        "      if isinstance(m, nn.Linear):\n",
        "        init.kaiming_normal(m.weight.data)\n",
        "        m.bias.data.fill_(0)\n",
        "    '''\n",
        "  \n",
        "  def forward(self,x):\n",
        "    out=self.layer(x)\n",
        "    out=out.view(batch_size,-1)\n",
        "    out=self.fc_layer(out)\n",
        "\n",
        "    return out\n",
        "model=CNN().cuda()"
      ],
      "execution_count": 5,
      "outputs": []
    },
    {
      "cell_type": "code",
      "metadata": {
        "id": "yfBtFVPv3ilx",
        "colab": {
          "base_uri": "https://localhost:8080/"
        },
        "outputId": "95462439-a646-4a6d-d447-c21c36cb9614"
      },
      "source": [
        "# === 5. loss, optimizer ===\n",
        "loss_func=nn.CrossEntropyLoss()\n",
        "#optimizer=torch.optim.SGD(model.parameters(), lr=learning_rate)\n",
        "optimizer=torch.optim.Adam(model.parameters(), lr=learning_rate)  # (6) Adam optimizer\n",
        "\n",
        "#scheduler = lr_scheduler.StepLR(optimizer, step_size=20, gamma=0.2)  # (7) learning rate decay\n",
        "scheduler = lr_scheduler.ExponentialLR(optimizer, gamma=0.15)\n",
        "model.train() # train mode 로 바꾸기 -> dropout, batch normalization에 영향을 줌.\n",
        "# === 6. 학습 ===\n",
        "for i in range(num_epoch):\n",
        "  for j, [image, label] in enumerate(train_loader):\n",
        "    x=Variable(image).cuda()\n",
        "    y_=Variable(label).cuda()\n",
        "\n",
        "    optimizer.zero_grad()\n",
        "    output=model.forward(x)\n",
        "    loss=loss_func(output, y_)\n",
        "    loss.backward()\n",
        "    optimizer.step()\n",
        "\n",
        "    if j%1000==0:\n",
        "      print(j,loss)"
      ],
      "execution_count": 7,
      "outputs": [
        {
          "output_type": "stream",
          "text": [
            "0 tensor(2.3200, device='cuda:0', grad_fn=<NllLossBackward>)\n",
            "1000 tensor(1.9484, device='cuda:0', grad_fn=<NllLossBackward>)\n",
            "2000 tensor(1.1832, device='cuda:0', grad_fn=<NllLossBackward>)\n",
            "3000 tensor(0.7676, device='cuda:0', grad_fn=<NllLossBackward>)\n",
            "0 tensor(1.3953, device='cuda:0', grad_fn=<NllLossBackward>)\n",
            "1000 tensor(0.7511, device='cuda:0', grad_fn=<NllLossBackward>)\n",
            "2000 tensor(0.7835, device='cuda:0', grad_fn=<NllLossBackward>)\n",
            "3000 tensor(1.5506, device='cuda:0', grad_fn=<NllLossBackward>)\n",
            "0 tensor(0.9438, device='cuda:0', grad_fn=<NllLossBackward>)\n",
            "1000 tensor(1.7865, device='cuda:0', grad_fn=<NllLossBackward>)\n",
            "2000 tensor(0.9521, device='cuda:0', grad_fn=<NllLossBackward>)\n",
            "3000 tensor(0.7679, device='cuda:0', grad_fn=<NllLossBackward>)\n",
            "0 tensor(1.1676, device='cuda:0', grad_fn=<NllLossBackward>)\n",
            "1000 tensor(1.2599, device='cuda:0', grad_fn=<NllLossBackward>)\n",
            "2000 tensor(1.0281, device='cuda:0', grad_fn=<NllLossBackward>)\n",
            "3000 tensor(0.7838, device='cuda:0', grad_fn=<NllLossBackward>)\n",
            "0 tensor(1.0638, device='cuda:0', grad_fn=<NllLossBackward>)\n",
            "1000 tensor(1.2934, device='cuda:0', grad_fn=<NllLossBackward>)\n",
            "2000 tensor(1.3315, device='cuda:0', grad_fn=<NllLossBackward>)\n",
            "3000 tensor(0.8371, device='cuda:0', grad_fn=<NllLossBackward>)\n",
            "0 tensor(0.3860, device='cuda:0', grad_fn=<NllLossBackward>)\n",
            "1000 tensor(0.8456, device='cuda:0', grad_fn=<NllLossBackward>)\n",
            "2000 tensor(0.7638, device='cuda:0', grad_fn=<NllLossBackward>)\n",
            "3000 tensor(0.9834, device='cuda:0', grad_fn=<NllLossBackward>)\n",
            "0 tensor(0.5656, device='cuda:0', grad_fn=<NllLossBackward>)\n",
            "1000 tensor(0.7180, device='cuda:0', grad_fn=<NllLossBackward>)\n",
            "2000 tensor(1.3547, device='cuda:0', grad_fn=<NllLossBackward>)\n",
            "3000 tensor(0.4397, device='cuda:0', grad_fn=<NllLossBackward>)\n",
            "0 tensor(0.7856, device='cuda:0', grad_fn=<NllLossBackward>)\n",
            "1000 tensor(0.7153, device='cuda:0', grad_fn=<NllLossBackward>)\n",
            "2000 tensor(1.1404, device='cuda:0', grad_fn=<NllLossBackward>)\n",
            "3000 tensor(0.9794, device='cuda:0', grad_fn=<NllLossBackward>)\n",
            "0 tensor(1.2694, device='cuda:0', grad_fn=<NllLossBackward>)\n",
            "1000 tensor(1.0028, device='cuda:0', grad_fn=<NllLossBackward>)\n",
            "2000 tensor(0.8488, device='cuda:0', grad_fn=<NllLossBackward>)\n",
            "3000 tensor(0.5635, device='cuda:0', grad_fn=<NllLossBackward>)\n",
            "0 tensor(0.8995, device='cuda:0', grad_fn=<NllLossBackward>)\n",
            "1000 tensor(0.5506, device='cuda:0', grad_fn=<NllLossBackward>)\n",
            "2000 tensor(0.8038, device='cuda:0', grad_fn=<NllLossBackward>)\n",
            "3000 tensor(0.4838, device='cuda:0', grad_fn=<NllLossBackward>)\n",
            "0 tensor(0.9937, device='cuda:0', grad_fn=<NllLossBackward>)\n",
            "1000 tensor(0.6532, device='cuda:0', grad_fn=<NllLossBackward>)\n",
            "2000 tensor(0.5435, device='cuda:0', grad_fn=<NllLossBackward>)\n",
            "3000 tensor(1.2567, device='cuda:0', grad_fn=<NllLossBackward>)\n",
            "0 tensor(0.8139, device='cuda:0', grad_fn=<NllLossBackward>)\n",
            "1000 tensor(0.9042, device='cuda:0', grad_fn=<NllLossBackward>)\n",
            "2000 tensor(0.9464, device='cuda:0', grad_fn=<NllLossBackward>)\n",
            "3000 tensor(0.7583, device='cuda:0', grad_fn=<NllLossBackward>)\n",
            "0 tensor(0.2001, device='cuda:0', grad_fn=<NllLossBackward>)\n",
            "1000 tensor(0.5593, device='cuda:0', grad_fn=<NllLossBackward>)\n",
            "2000 tensor(0.5093, device='cuda:0', grad_fn=<NllLossBackward>)\n",
            "3000 tensor(0.8157, device='cuda:0', grad_fn=<NllLossBackward>)\n",
            "0 tensor(0.7239, device='cuda:0', grad_fn=<NllLossBackward>)\n",
            "1000 tensor(0.2804, device='cuda:0', grad_fn=<NllLossBackward>)\n",
            "2000 tensor(0.7482, device='cuda:0', grad_fn=<NllLossBackward>)\n",
            "3000 tensor(0.7165, device='cuda:0', grad_fn=<NllLossBackward>)\n",
            "0 tensor(0.4128, device='cuda:0', grad_fn=<NllLossBackward>)\n",
            "1000 tensor(0.2640, device='cuda:0', grad_fn=<NllLossBackward>)\n",
            "2000 tensor(0.6921, device='cuda:0', grad_fn=<NllLossBackward>)\n",
            "3000 tensor(0.9811, device='cuda:0', grad_fn=<NllLossBackward>)\n",
            "0 tensor(0.9052, device='cuda:0', grad_fn=<NllLossBackward>)\n",
            "1000 tensor(0.8688, device='cuda:0', grad_fn=<NllLossBackward>)\n",
            "2000 tensor(0.5861, device='cuda:0', grad_fn=<NllLossBackward>)\n",
            "3000 tensor(0.5387, device='cuda:0', grad_fn=<NllLossBackward>)\n",
            "0 tensor(0.2235, device='cuda:0', grad_fn=<NllLossBackward>)\n",
            "1000 tensor(0.2529, device='cuda:0', grad_fn=<NllLossBackward>)\n",
            "2000 tensor(0.3868, device='cuda:0', grad_fn=<NllLossBackward>)\n",
            "3000 tensor(0.7492, device='cuda:0', grad_fn=<NllLossBackward>)\n",
            "0 tensor(0.9860, device='cuda:0', grad_fn=<NllLossBackward>)\n",
            "1000 tensor(0.6390, device='cuda:0', grad_fn=<NllLossBackward>)\n",
            "2000 tensor(0.7973, device='cuda:0', grad_fn=<NllLossBackward>)\n",
            "3000 tensor(0.3767, device='cuda:0', grad_fn=<NllLossBackward>)\n",
            "0 tensor(0.5468, device='cuda:0', grad_fn=<NllLossBackward>)\n",
            "1000 tensor(1.0169, device='cuda:0', grad_fn=<NllLossBackward>)\n",
            "2000 tensor(0.7924, device='cuda:0', grad_fn=<NllLossBackward>)\n",
            "3000 tensor(1.1910, device='cuda:0', grad_fn=<NllLossBackward>)\n",
            "0 tensor(0.8094, device='cuda:0', grad_fn=<NllLossBackward>)\n",
            "1000 tensor(0.6715, device='cuda:0', grad_fn=<NllLossBackward>)\n",
            "2000 tensor(0.6651, device='cuda:0', grad_fn=<NllLossBackward>)\n",
            "3000 tensor(0.1603, device='cuda:0', grad_fn=<NllLossBackward>)\n",
            "0 tensor(0.6053, device='cuda:0', grad_fn=<NllLossBackward>)\n",
            "1000 tensor(0.6567, device='cuda:0', grad_fn=<NllLossBackward>)\n",
            "2000 tensor(0.4636, device='cuda:0', grad_fn=<NllLossBackward>)\n",
            "3000 tensor(0.6907, device='cuda:0', grad_fn=<NllLossBackward>)\n",
            "0 tensor(0.5831, device='cuda:0', grad_fn=<NllLossBackward>)\n",
            "1000 tensor(0.6155, device='cuda:0', grad_fn=<NllLossBackward>)\n",
            "2000 tensor(0.7106, device='cuda:0', grad_fn=<NllLossBackward>)\n",
            "3000 tensor(0.9851, device='cuda:0', grad_fn=<NllLossBackward>)\n",
            "0 tensor(0.3778, device='cuda:0', grad_fn=<NllLossBackward>)\n",
            "1000 tensor(1.0358, device='cuda:0', grad_fn=<NllLossBackward>)\n",
            "2000 tensor(0.5738, device='cuda:0', grad_fn=<NllLossBackward>)\n",
            "3000 tensor(0.4367, device='cuda:0', grad_fn=<NllLossBackward>)\n",
            "0 tensor(0.4728, device='cuda:0', grad_fn=<NllLossBackward>)\n",
            "1000 tensor(0.7838, device='cuda:0', grad_fn=<NllLossBackward>)\n",
            "2000 tensor(0.5283, device='cuda:0', grad_fn=<NllLossBackward>)\n",
            "3000 tensor(0.5804, device='cuda:0', grad_fn=<NllLossBackward>)\n",
            "0 tensor(0.4954, device='cuda:0', grad_fn=<NllLossBackward>)\n",
            "1000 tensor(0.3887, device='cuda:0', grad_fn=<NllLossBackward>)\n",
            "2000 tensor(0.9728, device='cuda:0', grad_fn=<NllLossBackward>)\n",
            "3000 tensor(0.9424, device='cuda:0', grad_fn=<NllLossBackward>)\n",
            "0 tensor(0.2420, device='cuda:0', grad_fn=<NllLossBackward>)\n",
            "1000 tensor(0.4155, device='cuda:0', grad_fn=<NllLossBackward>)\n",
            "2000 tensor(0.4259, device='cuda:0', grad_fn=<NllLossBackward>)\n",
            "3000 tensor(0.4477, device='cuda:0', grad_fn=<NllLossBackward>)\n",
            "0 tensor(0.3711, device='cuda:0', grad_fn=<NllLossBackward>)\n",
            "1000 tensor(0.2984, device='cuda:0', grad_fn=<NllLossBackward>)\n",
            "2000 tensor(0.6176, device='cuda:0', grad_fn=<NllLossBackward>)\n",
            "3000 tensor(0.8844, device='cuda:0', grad_fn=<NllLossBackward>)\n",
            "0 tensor(0.8580, device='cuda:0', grad_fn=<NllLossBackward>)\n",
            "1000 tensor(0.9493, device='cuda:0', grad_fn=<NllLossBackward>)\n",
            "2000 tensor(0.7476, device='cuda:0', grad_fn=<NllLossBackward>)\n",
            "3000 tensor(0.6746, device='cuda:0', grad_fn=<NllLossBackward>)\n",
            "0 tensor(0.9199, device='cuda:0', grad_fn=<NllLossBackward>)\n",
            "1000 tensor(0.5873, device='cuda:0', grad_fn=<NllLossBackward>)\n",
            "2000 tensor(1.1399, device='cuda:0', grad_fn=<NllLossBackward>)\n",
            "3000 tensor(0.3790, device='cuda:0', grad_fn=<NllLossBackward>)\n",
            "0 tensor(0.5598, device='cuda:0', grad_fn=<NllLossBackward>)\n",
            "1000 tensor(0.8491, device='cuda:0', grad_fn=<NllLossBackward>)\n",
            "2000 tensor(0.4561, device='cuda:0', grad_fn=<NllLossBackward>)\n",
            "3000 tensor(0.3941, device='cuda:0', grad_fn=<NllLossBackward>)\n",
            "0 tensor(0.6468, device='cuda:0', grad_fn=<NllLossBackward>)\n",
            "1000 tensor(0.5181, device='cuda:0', grad_fn=<NllLossBackward>)\n",
            "2000 tensor(0.7754, device='cuda:0', grad_fn=<NllLossBackward>)\n",
            "3000 tensor(0.8843, device='cuda:0', grad_fn=<NllLossBackward>)\n",
            "0 tensor(0.8068, device='cuda:0', grad_fn=<NllLossBackward>)\n",
            "1000 tensor(0.4828, device='cuda:0', grad_fn=<NllLossBackward>)\n",
            "2000 tensor(0.2811, device='cuda:0', grad_fn=<NllLossBackward>)\n",
            "3000 tensor(0.4909, device='cuda:0', grad_fn=<NllLossBackward>)\n",
            "0 tensor(0.2939, device='cuda:0', grad_fn=<NllLossBackward>)\n",
            "1000 tensor(0.5256, device='cuda:0', grad_fn=<NllLossBackward>)\n",
            "2000 tensor(1.2069, device='cuda:0', grad_fn=<NllLossBackward>)\n",
            "3000 tensor(0.1904, device='cuda:0', grad_fn=<NllLossBackward>)\n",
            "0 tensor(0.3175, device='cuda:0', grad_fn=<NllLossBackward>)\n",
            "1000 tensor(0.4901, device='cuda:0', grad_fn=<NllLossBackward>)\n",
            "2000 tensor(0.3908, device='cuda:0', grad_fn=<NllLossBackward>)\n",
            "3000 tensor(0.4736, device='cuda:0', grad_fn=<NllLossBackward>)\n",
            "0 tensor(0.4190, device='cuda:0', grad_fn=<NllLossBackward>)\n",
            "1000 tensor(0.2379, device='cuda:0', grad_fn=<NllLossBackward>)\n",
            "2000 tensor(0.4310, device='cuda:0', grad_fn=<NllLossBackward>)\n",
            "3000 tensor(0.1991, device='cuda:0', grad_fn=<NllLossBackward>)\n",
            "0 tensor(0.3904, device='cuda:0', grad_fn=<NllLossBackward>)\n",
            "1000 tensor(0.7636, device='cuda:0', grad_fn=<NllLossBackward>)\n",
            "2000 tensor(0.3717, device='cuda:0', grad_fn=<NllLossBackward>)\n",
            "3000 tensor(0.7766, device='cuda:0', grad_fn=<NllLossBackward>)\n",
            "0 tensor(0.1783, device='cuda:0', grad_fn=<NllLossBackward>)\n",
            "1000 tensor(0.5197, device='cuda:0', grad_fn=<NllLossBackward>)\n",
            "2000 tensor(0.9246, device='cuda:0', grad_fn=<NllLossBackward>)\n",
            "3000 tensor(0.4259, device='cuda:0', grad_fn=<NllLossBackward>)\n",
            "0 tensor(0.7293, device='cuda:0', grad_fn=<NllLossBackward>)\n",
            "1000 tensor(0.3645, device='cuda:0', grad_fn=<NllLossBackward>)\n",
            "2000 tensor(0.3708, device='cuda:0', grad_fn=<NllLossBackward>)\n",
            "3000 tensor(1.0296, device='cuda:0', grad_fn=<NllLossBackward>)\n",
            "0 tensor(0.5876, device='cuda:0', grad_fn=<NllLossBackward>)\n",
            "1000 tensor(0.4952, device='cuda:0', grad_fn=<NllLossBackward>)\n",
            "2000 tensor(0.5252, device='cuda:0', grad_fn=<NllLossBackward>)\n",
            "3000 tensor(0.2584, device='cuda:0', grad_fn=<NllLossBackward>)\n",
            "0 tensor(0.1374, device='cuda:0', grad_fn=<NllLossBackward>)\n",
            "1000 tensor(0.7097, device='cuda:0', grad_fn=<NllLossBackward>)\n",
            "2000 tensor(0.6836, device='cuda:0', grad_fn=<NllLossBackward>)\n",
            "3000 tensor(0.6921, device='cuda:0', grad_fn=<NllLossBackward>)\n",
            "0 tensor(0.5179, device='cuda:0', grad_fn=<NllLossBackward>)\n",
            "1000 tensor(0.2129, device='cuda:0', grad_fn=<NllLossBackward>)\n",
            "2000 tensor(0.2219, device='cuda:0', grad_fn=<NllLossBackward>)\n",
            "3000 tensor(0.7712, device='cuda:0', grad_fn=<NllLossBackward>)\n",
            "0 tensor(0.4497, device='cuda:0', grad_fn=<NllLossBackward>)\n",
            "1000 tensor(1.3951, device='cuda:0', grad_fn=<NllLossBackward>)\n",
            "2000 tensor(0.4935, device='cuda:0', grad_fn=<NllLossBackward>)\n",
            "3000 tensor(0.1957, device='cuda:0', grad_fn=<NllLossBackward>)\n",
            "0 tensor(0.5786, device='cuda:0', grad_fn=<NllLossBackward>)\n",
            "1000 tensor(0.2157, device='cuda:0', grad_fn=<NllLossBackward>)\n",
            "2000 tensor(0.2716, device='cuda:0', grad_fn=<NllLossBackward>)\n",
            "3000 tensor(0.5163, device='cuda:0', grad_fn=<NllLossBackward>)\n",
            "0 tensor(0.3390, device='cuda:0', grad_fn=<NllLossBackward>)\n",
            "1000 tensor(0.4003, device='cuda:0', grad_fn=<NllLossBackward>)\n",
            "2000 tensor(0.5509, device='cuda:0', grad_fn=<NllLossBackward>)\n",
            "3000 tensor(1.5161, device='cuda:0', grad_fn=<NllLossBackward>)\n",
            "0 tensor(0.2091, device='cuda:0', grad_fn=<NllLossBackward>)\n",
            "1000 tensor(0.5210, device='cuda:0', grad_fn=<NllLossBackward>)\n",
            "2000 tensor(0.5729, device='cuda:0', grad_fn=<NllLossBackward>)\n",
            "3000 tensor(0.4764, device='cuda:0', grad_fn=<NllLossBackward>)\n",
            "0 tensor(0.2459, device='cuda:0', grad_fn=<NllLossBackward>)\n",
            "1000 tensor(0.3630, device='cuda:0', grad_fn=<NllLossBackward>)\n",
            "2000 tensor(0.4534, device='cuda:0', grad_fn=<NllLossBackward>)\n",
            "3000 tensor(0.2807, device='cuda:0', grad_fn=<NllLossBackward>)\n",
            "0 tensor(0.2040, device='cuda:0', grad_fn=<NllLossBackward>)\n",
            "1000 tensor(0.7389, device='cuda:0', grad_fn=<NllLossBackward>)\n",
            "2000 tensor(0.6205, device='cuda:0', grad_fn=<NllLossBackward>)\n",
            "3000 tensor(0.5795, device='cuda:0', grad_fn=<NllLossBackward>)\n",
            "0 tensor(0.2545, device='cuda:0', grad_fn=<NllLossBackward>)\n",
            "1000 tensor(0.5000, device='cuda:0', grad_fn=<NllLossBackward>)\n",
            "2000 tensor(0.2672, device='cuda:0', grad_fn=<NllLossBackward>)\n",
            "3000 tensor(1.4001, device='cuda:0', grad_fn=<NllLossBackward>)\n",
            "0 tensor(0.3039, device='cuda:0', grad_fn=<NllLossBackward>)\n",
            "1000 tensor(0.1837, device='cuda:0', grad_fn=<NllLossBackward>)\n",
            "2000 tensor(0.4143, device='cuda:0', grad_fn=<NllLossBackward>)\n",
            "3000 tensor(0.4300, device='cuda:0', grad_fn=<NllLossBackward>)\n",
            "0 tensor(0.3739, device='cuda:0', grad_fn=<NllLossBackward>)\n",
            "1000 tensor(0.1185, device='cuda:0', grad_fn=<NllLossBackward>)\n",
            "2000 tensor(0.2273, device='cuda:0', grad_fn=<NllLossBackward>)\n",
            "3000 tensor(0.3985, device='cuda:0', grad_fn=<NllLossBackward>)\n",
            "0 tensor(0.6327, device='cuda:0', grad_fn=<NllLossBackward>)\n",
            "1000 tensor(0.5015, device='cuda:0', grad_fn=<NllLossBackward>)\n",
            "2000 tensor(0.2041, device='cuda:0', grad_fn=<NllLossBackward>)\n",
            "3000 tensor(0.4531, device='cuda:0', grad_fn=<NllLossBackward>)\n",
            "0 tensor(0.0437, device='cuda:0', grad_fn=<NllLossBackward>)\n",
            "1000 tensor(0.3411, device='cuda:0', grad_fn=<NllLossBackward>)\n",
            "2000 tensor(0.0409, device='cuda:0', grad_fn=<NllLossBackward>)\n",
            "3000 tensor(0.7186, device='cuda:0', grad_fn=<NllLossBackward>)\n",
            "0 tensor(0.4476, device='cuda:0', grad_fn=<NllLossBackward>)\n",
            "1000 tensor(0.2942, device='cuda:0', grad_fn=<NllLossBackward>)\n",
            "2000 tensor(0.2290, device='cuda:0', grad_fn=<NllLossBackward>)\n",
            "3000 tensor(0.2636, device='cuda:0', grad_fn=<NllLossBackward>)\n",
            "0 tensor(0.2853, device='cuda:0', grad_fn=<NllLossBackward>)\n",
            "1000 tensor(0.6428, device='cuda:0', grad_fn=<NllLossBackward>)\n",
            "2000 tensor(0.1364, device='cuda:0', grad_fn=<NllLossBackward>)\n",
            "3000 tensor(0.5075, device='cuda:0', grad_fn=<NllLossBackward>)\n",
            "0 tensor(0.6473, device='cuda:0', grad_fn=<NllLossBackward>)\n",
            "1000 tensor(0.3286, device='cuda:0', grad_fn=<NllLossBackward>)\n",
            "2000 tensor(0.8328, device='cuda:0', grad_fn=<NllLossBackward>)\n",
            "3000 tensor(0.1767, device='cuda:0', grad_fn=<NllLossBackward>)\n",
            "0 tensor(0.3780, device='cuda:0', grad_fn=<NllLossBackward>)\n",
            "1000 tensor(1.1569, device='cuda:0', grad_fn=<NllLossBackward>)\n",
            "2000 tensor(0.4112, device='cuda:0', grad_fn=<NllLossBackward>)\n",
            "3000 tensor(0.4477, device='cuda:0', grad_fn=<NllLossBackward>)\n",
            "0 tensor(0.3102, device='cuda:0', grad_fn=<NllLossBackward>)\n",
            "1000 tensor(0.6251, device='cuda:0', grad_fn=<NllLossBackward>)\n",
            "2000 tensor(0.3133, device='cuda:0', grad_fn=<NllLossBackward>)\n",
            "3000 tensor(0.3899, device='cuda:0', grad_fn=<NllLossBackward>)\n",
            "0 tensor(0.5141, device='cuda:0', grad_fn=<NllLossBackward>)\n",
            "1000 tensor(0.1798, device='cuda:0', grad_fn=<NllLossBackward>)\n",
            "2000 tensor(0.1578, device='cuda:0', grad_fn=<NllLossBackward>)\n",
            "3000 tensor(0.6390, device='cuda:0', grad_fn=<NllLossBackward>)\n",
            "0 tensor(0.1865, device='cuda:0', grad_fn=<NllLossBackward>)\n",
            "1000 tensor(0.7260, device='cuda:0', grad_fn=<NllLossBackward>)\n",
            "2000 tensor(0.5526, device='cuda:0', grad_fn=<NllLossBackward>)\n",
            "3000 tensor(0.1966, device='cuda:0', grad_fn=<NllLossBackward>)\n",
            "0 tensor(0.3812, device='cuda:0', grad_fn=<NllLossBackward>)\n",
            "1000 tensor(0.2943, device='cuda:0', grad_fn=<NllLossBackward>)\n",
            "2000 tensor(0.3130, device='cuda:0', grad_fn=<NllLossBackward>)\n",
            "3000 tensor(0.4105, device='cuda:0', grad_fn=<NllLossBackward>)\n",
            "0 tensor(0.5281, device='cuda:0', grad_fn=<NllLossBackward>)\n",
            "1000 tensor(0.5647, device='cuda:0', grad_fn=<NllLossBackward>)\n",
            "2000 tensor(0.2520, device='cuda:0', grad_fn=<NllLossBackward>)\n",
            "3000 tensor(0.3194, device='cuda:0', grad_fn=<NllLossBackward>)\n",
            "0 tensor(0.4829, device='cuda:0', grad_fn=<NllLossBackward>)\n",
            "1000 tensor(0.1782, device='cuda:0', grad_fn=<NllLossBackward>)\n",
            "2000 tensor(0.4105, device='cuda:0', grad_fn=<NllLossBackward>)\n",
            "3000 tensor(0.3433, device='cuda:0', grad_fn=<NllLossBackward>)\n",
            "0 tensor(0.5006, device='cuda:0', grad_fn=<NllLossBackward>)\n",
            "1000 tensor(0.0647, device='cuda:0', grad_fn=<NllLossBackward>)\n",
            "2000 tensor(0.7841, device='cuda:0', grad_fn=<NllLossBackward>)\n",
            "3000 tensor(0.4318, device='cuda:0', grad_fn=<NllLossBackward>)\n",
            "0 tensor(0.5051, device='cuda:0', grad_fn=<NllLossBackward>)\n",
            "1000 tensor(0.3823, device='cuda:0', grad_fn=<NllLossBackward>)\n",
            "2000 tensor(0.4977, device='cuda:0', grad_fn=<NllLossBackward>)\n",
            "3000 tensor(0.2363, device='cuda:0', grad_fn=<NllLossBackward>)\n",
            "0 tensor(0.8274, device='cuda:0', grad_fn=<NllLossBackward>)\n",
            "1000 tensor(0.5867, device='cuda:0', grad_fn=<NllLossBackward>)\n",
            "2000 tensor(0.1436, device='cuda:0', grad_fn=<NllLossBackward>)\n",
            "3000 tensor(0.7210, device='cuda:0', grad_fn=<NllLossBackward>)\n",
            "0 tensor(0.4316, device='cuda:0', grad_fn=<NllLossBackward>)\n",
            "1000 tensor(0.5655, device='cuda:0', grad_fn=<NllLossBackward>)\n",
            "2000 tensor(0.6271, device='cuda:0', grad_fn=<NllLossBackward>)\n",
            "3000 tensor(0.3777, device='cuda:0', grad_fn=<NllLossBackward>)\n",
            "0 tensor(0.3899, device='cuda:0', grad_fn=<NllLossBackward>)\n",
            "1000 tensor(0.2321, device='cuda:0', grad_fn=<NllLossBackward>)\n",
            "2000 tensor(0.9440, device='cuda:0', grad_fn=<NllLossBackward>)\n",
            "3000 tensor(0.3610, device='cuda:0', grad_fn=<NllLossBackward>)\n",
            "0 tensor(0.1507, device='cuda:0', grad_fn=<NllLossBackward>)\n",
            "1000 tensor(0.2019, device='cuda:0', grad_fn=<NllLossBackward>)\n",
            "2000 tensor(0.0415, device='cuda:0', grad_fn=<NllLossBackward>)\n",
            "3000 tensor(0.3229, device='cuda:0', grad_fn=<NllLossBackward>)\n",
            "0 tensor(0.2672, device='cuda:0', grad_fn=<NllLossBackward>)\n",
            "1000 tensor(0.7292, device='cuda:0', grad_fn=<NllLossBackward>)\n",
            "2000 tensor(0.5094, device='cuda:0', grad_fn=<NllLossBackward>)\n",
            "3000 tensor(0.2428, device='cuda:0', grad_fn=<NllLossBackward>)\n",
            "0 tensor(0.5609, device='cuda:0', grad_fn=<NllLossBackward>)\n",
            "1000 tensor(0.5560, device='cuda:0', grad_fn=<NllLossBackward>)\n",
            "2000 tensor(0.1364, device='cuda:0', grad_fn=<NllLossBackward>)\n",
            "3000 tensor(0.1007, device='cuda:0', grad_fn=<NllLossBackward>)\n",
            "0 tensor(0.1709, device='cuda:0', grad_fn=<NllLossBackward>)\n",
            "1000 tensor(0.5813, device='cuda:0', grad_fn=<NllLossBackward>)\n",
            "2000 tensor(0.0712, device='cuda:0', grad_fn=<NllLossBackward>)\n",
            "3000 tensor(0.2860, device='cuda:0', grad_fn=<NllLossBackward>)\n",
            "0 tensor(0.7027, device='cuda:0', grad_fn=<NllLossBackward>)\n",
            "1000 tensor(0.4926, device='cuda:0', grad_fn=<NllLossBackward>)\n",
            "2000 tensor(0.2825, device='cuda:0', grad_fn=<NllLossBackward>)\n",
            "3000 tensor(0.4345, device='cuda:0', grad_fn=<NllLossBackward>)\n",
            "0 tensor(0.1926, device='cuda:0', grad_fn=<NllLossBackward>)\n",
            "1000 tensor(0.2467, device='cuda:0', grad_fn=<NllLossBackward>)\n",
            "2000 tensor(0.2588, device='cuda:0', grad_fn=<NllLossBackward>)\n",
            "3000 tensor(0.4810, device='cuda:0', grad_fn=<NllLossBackward>)\n",
            "0 tensor(0.1223, device='cuda:0', grad_fn=<NllLossBackward>)\n",
            "1000 tensor(0.3296, device='cuda:0', grad_fn=<NllLossBackward>)\n",
            "2000 tensor(0.4000, device='cuda:0', grad_fn=<NllLossBackward>)\n",
            "3000 tensor(0.1609, device='cuda:0', grad_fn=<NllLossBackward>)\n",
            "0 tensor(0.2004, device='cuda:0', grad_fn=<NllLossBackward>)\n",
            "1000 tensor(0.0462, device='cuda:0', grad_fn=<NllLossBackward>)\n",
            "2000 tensor(0.1051, device='cuda:0', grad_fn=<NllLossBackward>)\n",
            "3000 tensor(0.4232, device='cuda:0', grad_fn=<NllLossBackward>)\n",
            "0 tensor(0.2313, device='cuda:0', grad_fn=<NllLossBackward>)\n",
            "1000 tensor(0.2974, device='cuda:0', grad_fn=<NllLossBackward>)\n",
            "2000 tensor(0.3616, device='cuda:0', grad_fn=<NllLossBackward>)\n",
            "3000 tensor(0.0748, device='cuda:0', grad_fn=<NllLossBackward>)\n",
            "0 tensor(0.5020, device='cuda:0', grad_fn=<NllLossBackward>)\n",
            "1000 tensor(0.3148, device='cuda:0', grad_fn=<NllLossBackward>)\n",
            "2000 tensor(0.4537, device='cuda:0', grad_fn=<NllLossBackward>)\n",
            "3000 tensor(0.2594, device='cuda:0', grad_fn=<NllLossBackward>)\n",
            "0 tensor(0.4021, device='cuda:0', grad_fn=<NllLossBackward>)\n",
            "1000 tensor(0.2388, device='cuda:0', grad_fn=<NllLossBackward>)\n",
            "2000 tensor(0.6793, device='cuda:0', grad_fn=<NllLossBackward>)\n",
            "3000 tensor(0.3552, device='cuda:0', grad_fn=<NllLossBackward>)\n",
            "0 tensor(0.1627, device='cuda:0', grad_fn=<NllLossBackward>)\n",
            "1000 tensor(0.6020, device='cuda:0', grad_fn=<NllLossBackward>)\n",
            "2000 tensor(0.4667, device='cuda:0', grad_fn=<NllLossBackward>)\n",
            "3000 tensor(0.3009, device='cuda:0', grad_fn=<NllLossBackward>)\n",
            "0 tensor(0.3166, device='cuda:0', grad_fn=<NllLossBackward>)\n",
            "1000 tensor(0.5226, device='cuda:0', grad_fn=<NllLossBackward>)\n",
            "2000 tensor(0.0614, device='cuda:0', grad_fn=<NllLossBackward>)\n",
            "3000 tensor(1.2522, device='cuda:0', grad_fn=<NllLossBackward>)\n",
            "0 tensor(0.8247, device='cuda:0', grad_fn=<NllLossBackward>)\n",
            "1000 tensor(0.2814, device='cuda:0', grad_fn=<NllLossBackward>)\n",
            "2000 tensor(0.4190, device='cuda:0', grad_fn=<NllLossBackward>)\n",
            "3000 tensor(0.1966, device='cuda:0', grad_fn=<NllLossBackward>)\n",
            "0 tensor(0.4970, device='cuda:0', grad_fn=<NllLossBackward>)\n",
            "1000 tensor(0.8025, device='cuda:0', grad_fn=<NllLossBackward>)\n",
            "2000 tensor(0.7025, device='cuda:0', grad_fn=<NllLossBackward>)\n",
            "3000 tensor(0.2251, device='cuda:0', grad_fn=<NllLossBackward>)\n",
            "0 tensor(0.0814, device='cuda:0', grad_fn=<NllLossBackward>)\n",
            "1000 tensor(0.3118, device='cuda:0', grad_fn=<NllLossBackward>)\n",
            "2000 tensor(0.2643, device='cuda:0', grad_fn=<NllLossBackward>)\n",
            "3000 tensor(0.2402, device='cuda:0', grad_fn=<NllLossBackward>)\n",
            "0 tensor(0.5980, device='cuda:0', grad_fn=<NllLossBackward>)\n",
            "1000 tensor(0.4316, device='cuda:0', grad_fn=<NllLossBackward>)\n",
            "2000 tensor(0.2076, device='cuda:0', grad_fn=<NllLossBackward>)\n",
            "3000 tensor(0.8068, device='cuda:0', grad_fn=<NllLossBackward>)\n",
            "0 tensor(0.1532, device='cuda:0', grad_fn=<NllLossBackward>)\n",
            "1000 tensor(0.4966, device='cuda:0', grad_fn=<NllLossBackward>)\n",
            "2000 tensor(0.5029, device='cuda:0', grad_fn=<NllLossBackward>)\n",
            "3000 tensor(0.2645, device='cuda:0', grad_fn=<NllLossBackward>)\n",
            "0 tensor(0.4125, device='cuda:0', grad_fn=<NllLossBackward>)\n",
            "1000 tensor(0.2856, device='cuda:0', grad_fn=<NllLossBackward>)\n",
            "2000 tensor(0.3281, device='cuda:0', grad_fn=<NllLossBackward>)\n",
            "3000 tensor(0.1292, device='cuda:0', grad_fn=<NllLossBackward>)\n",
            "0 tensor(0.2826, device='cuda:0', grad_fn=<NllLossBackward>)\n",
            "1000 tensor(0.1195, device='cuda:0', grad_fn=<NllLossBackward>)\n",
            "2000 tensor(0.1705, device='cuda:0', grad_fn=<NllLossBackward>)\n",
            "3000 tensor(0.3646, device='cuda:0', grad_fn=<NllLossBackward>)\n",
            "0 tensor(0.1289, device='cuda:0', grad_fn=<NllLossBackward>)\n",
            "1000 tensor(0.3808, device='cuda:0', grad_fn=<NllLossBackward>)\n",
            "2000 tensor(0.5012, device='cuda:0', grad_fn=<NllLossBackward>)\n",
            "3000 tensor(0.3552, device='cuda:0', grad_fn=<NllLossBackward>)\n",
            "0 tensor(0.2671, device='cuda:0', grad_fn=<NllLossBackward>)\n",
            "1000 tensor(0.3145, device='cuda:0', grad_fn=<NllLossBackward>)\n",
            "2000 tensor(0.5409, device='cuda:0', grad_fn=<NllLossBackward>)\n",
            "3000 tensor(0.2562, device='cuda:0', grad_fn=<NllLossBackward>)\n",
            "0 tensor(0.5672, device='cuda:0', grad_fn=<NllLossBackward>)\n",
            "1000 tensor(0.5238, device='cuda:0', grad_fn=<NllLossBackward>)\n",
            "2000 tensor(0.1323, device='cuda:0', grad_fn=<NllLossBackward>)\n",
            "3000 tensor(0.2985, device='cuda:0', grad_fn=<NllLossBackward>)\n",
            "0 tensor(0.2852, device='cuda:0', grad_fn=<NllLossBackward>)\n",
            "1000 tensor(0.2905, device='cuda:0', grad_fn=<NllLossBackward>)\n",
            "2000 tensor(0.3526, device='cuda:0', grad_fn=<NllLossBackward>)\n",
            "3000 tensor(0.1136, device='cuda:0', grad_fn=<NllLossBackward>)\n",
            "0 tensor(0.5353, device='cuda:0', grad_fn=<NllLossBackward>)\n",
            "1000 tensor(0.1403, device='cuda:0', grad_fn=<NllLossBackward>)\n",
            "2000 tensor(0.1406, device='cuda:0', grad_fn=<NllLossBackward>)\n",
            "3000 tensor(0.0899, device='cuda:0', grad_fn=<NllLossBackward>)\n",
            "0 tensor(0.3061, device='cuda:0', grad_fn=<NllLossBackward>)\n",
            "1000 tensor(0.9070, device='cuda:0', grad_fn=<NllLossBackward>)\n",
            "2000 tensor(0.0667, device='cuda:0', grad_fn=<NllLossBackward>)\n",
            "3000 tensor(0.8663, device='cuda:0', grad_fn=<NllLossBackward>)\n",
            "0 tensor(0.5329, device='cuda:0', grad_fn=<NllLossBackward>)\n",
            "1000 tensor(0.3963, device='cuda:0', grad_fn=<NllLossBackward>)\n",
            "2000 tensor(0.4786, device='cuda:0', grad_fn=<NllLossBackward>)\n",
            "3000 tensor(0.1450, device='cuda:0', grad_fn=<NllLossBackward>)\n",
            "0 tensor(0.2325, device='cuda:0', grad_fn=<NllLossBackward>)\n",
            "1000 tensor(0.1451, device='cuda:0', grad_fn=<NllLossBackward>)\n",
            "2000 tensor(0.2817, device='cuda:0', grad_fn=<NllLossBackward>)\n",
            "3000 tensor(0.3830, device='cuda:0', grad_fn=<NllLossBackward>)\n",
            "0 tensor(0.2328, device='cuda:0', grad_fn=<NllLossBackward>)\n",
            "1000 tensor(0.3576, device='cuda:0', grad_fn=<NllLossBackward>)\n",
            "2000 tensor(0.6948, device='cuda:0', grad_fn=<NllLossBackward>)\n",
            "3000 tensor(0.2410, device='cuda:0', grad_fn=<NllLossBackward>)\n",
            "0 tensor(0.4987, device='cuda:0', grad_fn=<NllLossBackward>)\n",
            "1000 tensor(0.4413, device='cuda:0', grad_fn=<NllLossBackward>)\n",
            "2000 tensor(0.1115, device='cuda:0', grad_fn=<NllLossBackward>)\n",
            "3000 tensor(0.5535, device='cuda:0', grad_fn=<NllLossBackward>)\n",
            "0 tensor(0.2995, device='cuda:0', grad_fn=<NllLossBackward>)\n",
            "1000 tensor(0.2617, device='cuda:0', grad_fn=<NllLossBackward>)\n",
            "2000 tensor(0.1773, device='cuda:0', grad_fn=<NllLossBackward>)\n",
            "3000 tensor(0.1261, device='cuda:0', grad_fn=<NllLossBackward>)\n",
            "0 tensor(0.0977, device='cuda:0', grad_fn=<NllLossBackward>)\n",
            "1000 tensor(0.2665, device='cuda:0', grad_fn=<NllLossBackward>)\n",
            "2000 tensor(0.3758, device='cuda:0', grad_fn=<NllLossBackward>)\n",
            "3000 tensor(0.2420, device='cuda:0', grad_fn=<NllLossBackward>)\n",
            "0 tensor(0.2164, device='cuda:0', grad_fn=<NllLossBackward>)\n",
            "1000 tensor(0.3742, device='cuda:0', grad_fn=<NllLossBackward>)\n",
            "2000 tensor(0.2435, device='cuda:0', grad_fn=<NllLossBackward>)\n",
            "3000 tensor(0.6228, device='cuda:0', grad_fn=<NllLossBackward>)\n"
          ],
          "name": "stdout"
        }
      ]
    },
    {
      "cell_type": "markdown",
      "metadata": {
        "id": "pCVQrPYZbrHb"
      },
      "source": [
        "# **test 16**\n",
        "\n",
        "batch_size=16\n",
        "\n",
        "learning_rate=0.002\n",
        "\n",
        "num_epoch=100\n",
        "\n",
        "***Data Normalization***\n",
        "\n",
        "***batch normalization***\n",
        "\n",
        "***nn.ELU()***\n",
        "\n",
        "***Drop out***\n",
        "\n",
        "***nn.Linear(100,50),  nn.Linear(50,10)***\n",
        "\n",
        "***adam optimizer***\n",
        "\n",
        "***learning rate decay***\n",
        "\n",
        "***ExponentialLR - gamma=0.15***"
      ]
    },
    {
      "cell_type": "code",
      "metadata": {
        "colab": {
          "base_uri": "https://localhost:8080/"
        },
        "id": "9q5uf1pIUzpt",
        "outputId": "538fa762-e9f5-4fed-8d00-96c2039cb59f"
      },
      "source": [
        "model.eval()\n",
        "ComputeAccr(test_loader, model)"
      ],
      "execution_count": 8,
      "outputs": [
        {
          "output_type": "stream",
          "text": [
            "/usr/local/lib/python3.7/dist-packages/ipykernel_launcher.py:6: UserWarning: volatile was removed and now has no effect. Use `with torch.no_grad():` instead.\n",
            "  \n"
          ],
          "name": "stderr"
        },
        {
          "output_type": "stream",
          "text": [
            "Accuracy of Test Data: 78.68999481201172\n"
          ],
          "name": "stdout"
        }
      ]
    },
    {
      "cell_type": "code",
      "metadata": {
        "id": "LGpOyrH9buQo"
      },
      "source": [
        "# 학습된 파라미터 저장\n",
        "netname = './nets/ex04_t16_net.pkl'\n",
        "torch.save(model, netname,)"
      ],
      "execution_count": 9,
      "outputs": []
    },
    {
      "cell_type": "code",
      "metadata": {
        "id": "Pi8hYhQ8ovq-"
      },
      "source": [
        "# 학습된 파라미터 저장\n",
        "netname = './nets/ex04_net_fin.pkl'\n",
        "torch.save(model, netname,)"
      ],
      "execution_count": 10,
      "outputs": []
    },
    {
      "cell_type": "markdown",
      "metadata": {
        "id": "qFc3wUjaIquG"
      },
      "source": [
        "# **test 15**\n",
        "\n",
        "batch_size=16\n",
        "\n",
        "learning_rate=0.002\n",
        "\n",
        "num_epoch=50\n",
        "\n",
        "***Data Normalization***\n",
        "\n",
        "***batch normalization***\n",
        "\n",
        "***nn.ELU()***\n",
        "\n",
        "***Drop out***\n",
        "\n",
        "***nn.Linear(100,50),  nn.Linear(50,10)***\n",
        "\n",
        "***adam optimizer***\n",
        "\n",
        "***learning rate decay***\n",
        "\n",
        "***ExponentialLR - gamma=0.15***"
      ]
    },
    {
      "cell_type": "code",
      "metadata": {
        "colab": {
          "base_uri": "https://localhost:8080/"
        },
        "id": "0nMkPjuYJbEg",
        "outputId": "a27188ec-62ca-417d-9a99-286dccecc24b"
      },
      "source": [
        "model.eval()\n",
        "ComputeAccr(test_loader, model)"
      ],
      "execution_count": null,
      "outputs": [
        {
          "output_type": "stream",
          "text": [
            "/usr/local/lib/python3.7/dist-packages/ipykernel_launcher.py:6: UserWarning: volatile was removed and now has no effect. Use `with torch.no_grad():` instead.\n",
            "  \n"
          ],
          "name": "stderr"
        },
        {
          "output_type": "stream",
          "text": [
            "Accuracy of Test Data: 77.04000091552734\n"
          ],
          "name": "stdout"
        }
      ]
    },
    {
      "cell_type": "code",
      "metadata": {
        "id": "3moTVgliJb0d"
      },
      "source": [
        "# 학습된 파라미터 저장\n",
        "netname = './nets/ex04_t15_net.pkl'\n",
        "torch.save(model, netname,)"
      ],
      "execution_count": null,
      "outputs": []
    },
    {
      "cell_type": "markdown",
      "metadata": {
        "id": "IDZvKwQyNCqW"
      },
      "source": [
        "# **test 14**\n",
        "\n",
        "batch_size=16\n",
        "\n",
        "learning_rate=0.002\n",
        "\n",
        "num_epoch=80\n",
        "\n",
        "nn.Linear(100,50),  nn.Linear(50,10)\n",
        "\n",
        "***Data Normalization***\n",
        "\n",
        "***nn.ELU()***\n",
        "\n",
        "***Drop out***\n",
        "\n",
        "***batch normalization***\n",
        "\n",
        "***adam optimizer***\n",
        "\n",
        "***learning rate decay***\n",
        "\n",
        "***ExponentialLR - gamma=0.15***"
      ]
    },
    {
      "cell_type": "code",
      "metadata": {
        "colab": {
          "base_uri": "https://localhost:8080/"
        },
        "id": "DQ-eOHNkNUxC",
        "outputId": "8b013f2d-20b9-407f-985d-fa57f9fd2f48"
      },
      "source": [
        "model.eval()\n",
        "ComputeAccr(test_loader, model)"
      ],
      "execution_count": null,
      "outputs": [
        {
          "output_type": "stream",
          "text": [
            "/usr/local/lib/python3.7/dist-packages/ipykernel_launcher.py:6: UserWarning: volatile was removed and now has no effect. Use `with torch.no_grad():` instead.\n",
            "  \n"
          ],
          "name": "stderr"
        },
        {
          "output_type": "stream",
          "text": [
            "Accuracy of Test Data: 76.97999572753906\n"
          ],
          "name": "stdout"
        }
      ]
    },
    {
      "cell_type": "code",
      "metadata": {
        "id": "NkZ3dR5PNXJq"
      },
      "source": [
        "# 학습된 파라미터 저장\n",
        "netname = './nets/ex04_t14_net.pkl'\n",
        "torch.save(model, netname,)"
      ],
      "execution_count": null,
      "outputs": []
    },
    {
      "cell_type": "markdown",
      "metadata": {
        "id": "UQ_a50YbbFUi"
      },
      "source": [
        "# **test 13**\n",
        "\n",
        "batch_size=16\n",
        "\n",
        "learning_rate=0.002\n",
        "\n",
        "num_epoch=100\n",
        "\n",
        "Drop out\n",
        "\n",
        "***Data Normalization***\n",
        "\n",
        "***nn.ELU()***\n",
        "\n",
        "***batch normalization***\n",
        "\n",
        "***adam optimizer***\n",
        "\n",
        "***learning rate decay***\n",
        "\n",
        "***ExponentialLR - gamma=0.15***"
      ]
    },
    {
      "cell_type": "code",
      "metadata": {
        "colab": {
          "base_uri": "https://localhost:8080/"
        },
        "id": "yQdJG0QxbcOf",
        "outputId": "4e58b752-e50a-483e-ccd9-ea0560cc1768"
      },
      "source": [
        "model.eval()\n",
        "ComputeAccr(test_loader, model)"
      ],
      "execution_count": null,
      "outputs": [
        {
          "output_type": "stream",
          "text": [
            "/usr/local/lib/python3.7/dist-packages/ipykernel_launcher.py:6: UserWarning: volatile was removed and now has no effect. Use `with torch.no_grad():` instead.\n",
            "  \n"
          ],
          "name": "stderr"
        },
        {
          "output_type": "stream",
          "text": [
            "Accuracy of Test Data: 77.58999633789062\n"
          ],
          "name": "stdout"
        }
      ]
    },
    {
      "cell_type": "code",
      "metadata": {
        "id": "rijXIiPPbeXO"
      },
      "source": [
        "# 학습된 파라미터 저장\n",
        "netname = './nets/ex04_t13_net.pkl'\n",
        "torch.save(model, netname,)"
      ],
      "execution_count": null,
      "outputs": []
    },
    {
      "cell_type": "markdown",
      "metadata": {
        "id": "en7dRuEZXgwY"
      },
      "source": [
        "# **test 12**\n",
        "\n",
        "batch_size=16\n",
        "\n",
        "learning_rate=0.002\n",
        "\n",
        "num_epoch=50\n",
        "\n",
        "***Data Normalization***\n",
        "\n",
        "***nn.ELU()***\n",
        "\n",
        "***batch normalization***\n",
        "\n",
        "***adam optimizer***\n",
        "\n",
        "***learning rate decay***\n",
        "\n",
        "***ExponentialLR - gamma=0.2***"
      ]
    },
    {
      "cell_type": "code",
      "metadata": {
        "colab": {
          "base_uri": "https://localhost:8080/"
        },
        "id": "RXC41Q1OXxcD",
        "outputId": "ca2ca499-d3b1-4d43-ec79-9469488790b1"
      },
      "source": [
        "model.eval()\n",
        "ComputeAccr(test_loader, model)"
      ],
      "execution_count": null,
      "outputs": [
        {
          "output_type": "stream",
          "text": [
            "/usr/local/lib/python3.7/dist-packages/ipykernel_launcher.py:6: UserWarning: volatile was removed and now has no effect. Use `with torch.no_grad():` instead.\n",
            "  \n"
          ],
          "name": "stderr"
        },
        {
          "output_type": "stream",
          "text": [
            "Accuracy of Test Data: 75.04000091552734\n"
          ],
          "name": "stdout"
        }
      ]
    },
    {
      "cell_type": "code",
      "metadata": {
        "id": "ems3Jp2RXzWJ"
      },
      "source": [
        "# 학습된 파라미터 저장\n",
        "netname = './nets/ex04_t12_net.pkl'\n",
        "torch.save(model, netname,)"
      ],
      "execution_count": null,
      "outputs": []
    },
    {
      "cell_type": "markdown",
      "metadata": {
        "id": "CdgWoqvUOc65"
      },
      "source": [
        "# **test 11**\n",
        "\n",
        "batch_size=16\n",
        "\n",
        "learning_rate=0.002\n",
        "\n",
        "num_epoch=50\n",
        "\n",
        "weight initialization\n",
        "\n",
        "***Data Normalization***\n",
        "\n",
        "***nn.ELU()***\n",
        "\n",
        "***batch normalization***\n",
        "\n",
        "***adam optimizer***\n",
        "\n",
        "***learning rate decay***\n",
        "\n",
        "***ExponentialLR - gamma=0.2***"
      ]
    },
    {
      "cell_type": "code",
      "metadata": {
        "colab": {
          "base_uri": "https://localhost:8080/"
        },
        "id": "22KhZ3EwOnY1",
        "outputId": "a19e42a6-9738-4720-ebe5-515acb3a0255"
      },
      "source": [
        "model.eval()\n",
        "ComputeAccr(test_loader, model)"
      ],
      "execution_count": null,
      "outputs": [
        {
          "output_type": "stream",
          "text": [
            "/usr/local/lib/python3.7/dist-packages/ipykernel_launcher.py:6: UserWarning: volatile was removed and now has no effect. Use `with torch.no_grad():` instead.\n",
            "  \n"
          ],
          "name": "stderr"
        },
        {
          "output_type": "stream",
          "text": [
            "Accuracy of Test Data: 75.16999816894531\n"
          ],
          "name": "stdout"
        }
      ]
    },
    {
      "cell_type": "code",
      "metadata": {
        "id": "4ohp_wXhOpPk"
      },
      "source": [
        "# 학습된 파라미터 저장\n",
        "netname = './nets/ex04_t11_net.pkl'\n",
        "torch.save(model, netname,)"
      ],
      "execution_count": null,
      "outputs": []
    },
    {
      "cell_type": "markdown",
      "metadata": {
        "id": "7Dr9xm3c0oK5"
      },
      "source": [
        "# **test 10**\n",
        "\n",
        "batch_size=16\n",
        "\n",
        "learning_rate=0.002\n",
        "\n",
        "num_epoch=30\n",
        "\n",
        "StepLR -> ExponentialLR\n",
        "\n",
        "***Data Normalization***\n",
        "\n",
        "***nn.ELU()***\n",
        "\n",
        "***batch normalization***\n",
        "\n",
        "***adam optimizer***\n",
        "\n",
        "***learning rate decay***"
      ]
    },
    {
      "cell_type": "code",
      "metadata": {
        "colab": {
          "base_uri": "https://localhost:8080/"
        },
        "id": "kutOhATv0y7Q",
        "outputId": "0a53cf79-24bc-4075-f7ff-fe572ed149cd"
      },
      "source": [
        "model.eval()\n",
        "ComputeAccr(test_loader, model)"
      ],
      "execution_count": null,
      "outputs": [
        {
          "output_type": "stream",
          "text": [
            "/usr/local/lib/python3.7/dist-packages/ipykernel_launcher.py:6: UserWarning: volatile was removed and now has no effect. Use `with torch.no_grad():` instead.\n",
            "  \n"
          ],
          "name": "stderr"
        },
        {
          "output_type": "stream",
          "text": [
            "Accuracy of Test Data: 74.98999786376953\n"
          ],
          "name": "stdout"
        }
      ]
    },
    {
      "cell_type": "code",
      "metadata": {
        "id": "4Lo8-bMb01wC"
      },
      "source": [
        "# 학습된 파라미터 저장\n",
        "netname = './nets/ex04_t10_net.pkl'\n",
        "torch.save(model, netname,)"
      ],
      "execution_count": null,
      "outputs": []
    },
    {
      "cell_type": "markdown",
      "metadata": {
        "id": "CI_9GGHVhNz2"
      },
      "source": [
        "# **test 9**\n",
        "\n",
        "batch_size=20\n",
        "\n",
        "learning_rate=0.002\n",
        "\n",
        "num_epoch=300\n",
        "\n",
        "Data Normalization\n",
        "\n",
        "***nn.ELU()***\n",
        "\n",
        "***batch normalization***\n",
        "\n",
        "***adam optimizer***\n",
        "\n",
        "***learning rate decay***"
      ]
    },
    {
      "cell_type": "code",
      "metadata": {
        "colab": {
          "base_uri": "https://localhost:8080/"
        },
        "id": "6MWZVVBnhhX5",
        "outputId": "2e2ea720-7e82-4ed6-e134-85debc24eb9d"
      },
      "source": [
        "model.eval()\n",
        "ComputeAccr(test_loader, model)"
      ],
      "execution_count": null,
      "outputs": [
        {
          "output_type": "stream",
          "text": [
            "/usr/local/lib/python3.7/dist-packages/ipykernel_launcher.py:6: UserWarning: volatile was removed and now has no effect. Use `with torch.no_grad():` instead.\n",
            "  \n"
          ],
          "name": "stderr"
        },
        {
          "output_type": "stream",
          "text": [
            "Accuracy of Test Data: 75.6199951171875\n"
          ],
          "name": "stdout"
        }
      ]
    },
    {
      "cell_type": "code",
      "metadata": {
        "id": "Mh2E3w_khrJZ"
      },
      "source": [
        "# 학습된 파라미터 저장\n",
        "netname = './nets/ex04_t9_net.pkl'\n",
        "torch.save(model, netname,)"
      ],
      "execution_count": null,
      "outputs": []
    },
    {
      "cell_type": "markdown",
      "metadata": {
        "id": "Fol9DmkWURlg"
      },
      "source": [
        "# **test 8**\n",
        "\n",
        "batch_size=20\n",
        "\n",
        "learning_rate=0.015\n",
        "\n",
        "num_epoch=200\n",
        "\n",
        "***nn.ELU()***\n",
        "\n",
        "***batch normalization***\n",
        "\n",
        "***adam optimizer***\n",
        "\n",
        "***learning rate decay***"
      ]
    },
    {
      "cell_type": "code",
      "metadata": {
        "colab": {
          "base_uri": "https://localhost:8080/"
        },
        "id": "9E_9YHN4UmpQ",
        "outputId": "4f4213ae-9c3f-47cc-f7bb-8e187f55d103"
      },
      "source": [
        "model.eval()\n",
        "ComputeAccr(test_loader, model)"
      ],
      "execution_count": null,
      "outputs": [
        {
          "output_type": "stream",
          "text": [
            "/usr/local/lib/python3.7/dist-packages/ipykernel_launcher.py:6: UserWarning: volatile was removed and now has no effect. Use `with torch.no_grad():` instead.\n",
            "  \n"
          ],
          "name": "stderr"
        },
        {
          "output_type": "stream",
          "text": [
            "Accuracy of Test Data: 73.77999877929688\n"
          ],
          "name": "stdout"
        }
      ]
    },
    {
      "cell_type": "code",
      "metadata": {
        "id": "TZ7OOZ_XUooM"
      },
      "source": [
        "# 학습된 파라미터 저장\n",
        "netname = './nets/ex04_t8_net.pkl'\n",
        "torch.save(model, netname,)"
      ],
      "execution_count": null,
      "outputs": []
    },
    {
      "cell_type": "markdown",
      "metadata": {
        "id": "F5BsXTJN_vv5"
      },
      "source": [
        "# **test 7**\n",
        "\n",
        "num_epoch=300\n",
        "\n",
        "nn.Linear(100,50), nn.Linear(50,10)\n",
        "\n",
        "***nn.ELU()***\n",
        "\n",
        "***batch normalization***\n",
        "\n",
        "***adam optimizer***\n",
        "\n",
        "***learning rate decay***"
      ]
    },
    {
      "cell_type": "code",
      "metadata": {
        "colab": {
          "base_uri": "https://localhost:8080/"
        },
        "id": "RMMAiHTG_9lc",
        "outputId": "454ffb37-1c33-4e0a-bffa-6897ec22f426"
      },
      "source": [
        "model.eval()\n",
        "ComputeAccr(test_loader, model)"
      ],
      "execution_count": null,
      "outputs": [
        {
          "output_type": "stream",
          "text": [
            "/usr/local/lib/python3.7/dist-packages/ipykernel_launcher.py:6: UserWarning: volatile was removed and now has no effect. Use `with torch.no_grad():` instead.\n",
            "  \n"
          ],
          "name": "stderr"
        },
        {
          "output_type": "stream",
          "text": [
            "Accuracy of Test Data: 74.77999877929688\n"
          ],
          "name": "stdout"
        }
      ]
    },
    {
      "cell_type": "code",
      "metadata": {
        "id": "Y6mnZHJoAACK"
      },
      "source": [
        "# 학습된 파라미터 저장\n",
        "netname = './nets/ex04_t7_net.pkl'\n",
        "torch.save(model, netname,)"
      ],
      "execution_count": null,
      "outputs": []
    },
    {
      "cell_type": "markdown",
      "metadata": {
        "id": "FtfwkCvF80Oi"
      },
      "source": [
        "# **test 6**\n",
        "\n",
        "num_epoch=100\n",
        "\n",
        "adam optimizer\n",
        "\n",
        "***nn.ELU()***\n",
        "\n",
        "***batch normalization***\n",
        "\n",
        "***learning rate decay***\n"
      ]
    },
    {
      "cell_type": "code",
      "metadata": {
        "colab": {
          "base_uri": "https://localhost:8080/"
        },
        "id": "YphlPEYE8wBf",
        "outputId": "cea70f82-2bb3-43a6-fc45-4b37a58a9fc6"
      },
      "source": [
        "model.eval()\n",
        "ComputeAccr(test_loader, model)"
      ],
      "execution_count": null,
      "outputs": [
        {
          "output_type": "stream",
          "text": [
            "/usr/local/lib/python3.7/dist-packages/ipykernel_launcher.py:6: UserWarning: volatile was removed and now has no effect. Use `with torch.no_grad():` instead.\n",
            "  \n"
          ],
          "name": "stderr"
        },
        {
          "output_type": "stream",
          "text": [
            "Accuracy of Test Data: 74.81999969482422\n"
          ],
          "name": "stdout"
        }
      ]
    },
    {
      "cell_type": "code",
      "metadata": {
        "id": "DTkgIa7v82Zo"
      },
      "source": [
        "# 학습된 파라미터 저장\n",
        "netname = './nets/ex04_t6_net.pkl'\n",
        "torch.save(model, netname,)"
      ],
      "execution_count": null,
      "outputs": []
    },
    {
      "cell_type": "markdown",
      "metadata": {
        "id": "IBfSgK1wUsH8"
      },
      "source": [
        "# **test 5**\n",
        "\n",
        "num_epoch=100\n",
        "\n",
        "learning rate decay\n",
        "\n",
        "***nn.ELU()***\n",
        "\n",
        "***batch normalization***\n",
        "\n"
      ]
    },
    {
      "cell_type": "code",
      "metadata": {
        "colab": {
          "base_uri": "https://localhost:8080/"
        },
        "id": "98v7vT1AU1EB",
        "outputId": "48720bcd-21fd-4d3e-9a6c-6bb57619b8e9"
      },
      "source": [
        "model.eval()\n",
        "ComputeAccr(test_loader, model)"
      ],
      "execution_count": null,
      "outputs": [
        {
          "output_type": "stream",
          "text": [
            "/usr/local/lib/python3.7/dist-packages/ipykernel_launcher.py:6: UserWarning: volatile was removed and now has no effect. Use `with torch.no_grad():` instead.\n",
            "  \n"
          ],
          "name": "stderr"
        },
        {
          "output_type": "stream",
          "text": [
            "Accuracy of Test Data: 70.81999969482422\n"
          ],
          "name": "stdout"
        }
      ]
    },
    {
      "cell_type": "code",
      "metadata": {
        "id": "ntD-8ACHU2zr"
      },
      "source": [
        "# 학습된 파라미터 저장\n",
        "netname = './nets/ex04_t5_net.pkl'\n",
        "torch.save(model, netname,)"
      ],
      "execution_count": null,
      "outputs": []
    },
    {
      "cell_type": "markdown",
      "metadata": {
        "id": "Jo5MzAw-S7Wf"
      },
      "source": [
        "# **test 4**\n",
        "\n",
        "***nn.ELU()***\n",
        "\n",
        "***batch normalization***\n",
        "\n",
        "adam optimizer\n"
      ]
    },
    {
      "cell_type": "code",
      "metadata": {
        "colab": {
          "base_uri": "https://localhost:8080/"
        },
        "id": "xKcng_kQS6j8",
        "outputId": "341af777-4e8d-4325-952d-451aa19c624c"
      },
      "source": [
        "model.eval()\n",
        "ComputeAccr(test_loader, model)"
      ],
      "execution_count": null,
      "outputs": [
        {
          "output_type": "stream",
          "text": [
            "/usr/local/lib/python3.7/dist-packages/ipykernel_launcher.py:6: UserWarning: volatile was removed and now has no effect. Use `with torch.no_grad():` instead.\n",
            "  \n"
          ],
          "name": "stderr"
        },
        {
          "output_type": "stream",
          "text": [
            "Accuracy of Test Data: 68.19999694824219\n"
          ],
          "name": "stdout"
        }
      ]
    },
    {
      "cell_type": "code",
      "metadata": {
        "id": "caXaQz07Tvb3"
      },
      "source": [
        "# 학습된 파라미터 저장\n",
        "netname = './nets/ex04_t4_net.pkl'\n",
        "torch.save(model, netname,)"
      ],
      "execution_count": null,
      "outputs": []
    },
    {
      "cell_type": "markdown",
      "metadata": {
        "id": "zarQjD7cQ4jf"
      },
      "source": [
        "# **test 3**\n",
        "\n",
        "***nn.ELU()***\n",
        "\n",
        "batch normalization"
      ]
    },
    {
      "cell_type": "code",
      "metadata": {
        "colab": {
          "base_uri": "https://localhost:8080/"
        },
        "id": "064girnKQ4E1",
        "outputId": "e8dcf135-3d55-4481-b96c-e3fd796712eb"
      },
      "source": [
        "model.eval()\n",
        "ComputeAccr(test_loader, model)"
      ],
      "execution_count": null,
      "outputs": [
        {
          "output_type": "stream",
          "text": [
            "/usr/local/lib/python3.7/dist-packages/ipykernel_launcher.py:6: UserWarning: volatile was removed and now has no effect. Use `with torch.no_grad():` instead.\n",
            "  \n"
          ],
          "name": "stderr"
        },
        {
          "output_type": "stream",
          "text": [
            "Accuracy of Test Data: 63.269996643066406\n"
          ],
          "name": "stdout"
        }
      ]
    },
    {
      "cell_type": "code",
      "metadata": {
        "id": "kpba_9BDRmBE"
      },
      "source": [
        "# 학습된 파라미터 저장\n",
        "netname = './nets/ex04_t3_net.pkl'\n",
        "torch.save(model, netname,)"
      ],
      "execution_count": null,
      "outputs": []
    },
    {
      "cell_type": "markdown",
      "metadata": {
        "id": "FbJsnQkQPqh8"
      },
      "source": [
        "# **test 2**\n",
        "\n",
        "nn.ReLU() -> nn.LeakyReLU()"
      ]
    },
    {
      "cell_type": "code",
      "metadata": {
        "colab": {
          "base_uri": "https://localhost:8080/"
        },
        "id": "xWcVU5qvPx40",
        "outputId": "c69ece9b-8c8e-48c3-8e85-f7c78d0c9f8e"
      },
      "source": [
        "model.eval()\n",
        "ComputeAccr(test_loader, model)"
      ],
      "execution_count": null,
      "outputs": [
        {
          "output_type": "stream",
          "text": [
            "/usr/local/lib/python3.7/dist-packages/ipykernel_launcher.py:6: UserWarning: volatile was removed and now has no effect. Use `with torch.no_grad():` instead.\n",
            "  \n"
          ],
          "name": "stderr"
        },
        {
          "output_type": "stream",
          "text": [
            "Accuracy of Test Data: 17.299999237060547\n"
          ],
          "name": "stdout"
        }
      ]
    },
    {
      "cell_type": "code",
      "metadata": {
        "id": "6USewKfzPz0Q"
      },
      "source": [
        "# 학습된 파라미터 저장\n",
        "netname = './nets/ex04_t2_net.pkl'\n",
        "torch.save(model, netname,)"
      ],
      "execution_count": null,
      "outputs": []
    },
    {
      "cell_type": "markdown",
      "metadata": {
        "id": "3PsLwE7F3yKQ"
      },
      "source": [
        "# **test 1**\n",
        "\n",
        "nn.ReLU() -> nn.ELU()"
      ]
    },
    {
      "cell_type": "code",
      "metadata": {
        "id": "UJP2nr-j3mWe",
        "colab": {
          "base_uri": "https://localhost:8080/"
        },
        "outputId": "44d56fd9-9e74-4704-a317-d86ae47e5b25"
      },
      "source": [
        "model.eval()\n",
        "ComputeAccr(test_loader, model)"
      ],
      "execution_count": null,
      "outputs": [
        {
          "output_type": "stream",
          "text": [
            "/usr/local/lib/python3.7/dist-packages/ipykernel_launcher.py:6: UserWarning: volatile was removed and now has no effect. Use `with torch.no_grad():` instead.\n",
            "  \n"
          ],
          "name": "stderr"
        },
        {
          "output_type": "stream",
          "text": [
            "Accuracy of Test Data: 30.09000015258789\n"
          ],
          "name": "stdout"
        }
      ]
    },
    {
      "cell_type": "code",
      "metadata": {
        "id": "oprXggW_37UT"
      },
      "source": [
        "# 학습된 파라미터 저장\n",
        "netname = './nets/ex04_t1_net.pkl'\n",
        "torch.save(model, netname,)"
      ],
      "execution_count": null,
      "outputs": []
    }
  ]
}