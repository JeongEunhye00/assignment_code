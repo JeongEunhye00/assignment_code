{
  "nbformat": 4,
  "nbformat_minor": 0,
  "metadata": {
    "colab": {
      "name": "colab.py36.ex05.ipynb",
      "provenance": []
    },
    "kernelspec": {
      "name": "python3",
      "display_name": "Python 3"
    },
    "language_info": {
      "name": "python"
    },
    "accelerator": "GPU"
  },
  "cells": [
    {
      "cell_type": "markdown",
      "metadata": {
        "id": "lhqlRFPyzlma"
      },
      "source": [
        "# **[GitHub url]** \n",
        "\n",
        "https://github.com/201910835/DL/tree/%EC%8B%A4%EC%8A%B5"
      ]
    },
    {
      "cell_type": "markdown",
      "metadata": {
        "id": "ewYYdUKgz3Px"
      },
      "source": [
        "# **Load packages**"
      ]
    },
    {
      "cell_type": "code",
      "metadata": {
        "id": "bCmnGBVLzbo4"
      },
      "source": [
        "import torch\n",
        "import torch.nn as nn\n",
        "import torchvision.datasets as dset\n",
        "import torchvision.transforms as transforms\n",
        "from torch.utils.data import DataLoader\n",
        "from torch.autograd import Variable\n",
        "import matplotlib.pyplot as plt\n",
        "%matplotlib inline"
      ],
      "execution_count": 1,
      "outputs": []
    },
    {
      "cell_type": "markdown",
      "metadata": {
        "id": "Q-_8iqyX0kA5"
      },
      "source": [
        "# **MNIST train, test dataset 가져오기**"
      ]
    },
    {
      "cell_type": "code",
      "metadata": {
        "id": "slWjbIh30qEz"
      },
      "source": [
        "## \"\": 현재 폴더에 MNIST 있음\n",
        "mnist_train=dset.MNIST(\"\", train=True, transform=transforms.ToTensor(), # train 용으로 쓰겠다.\n",
        "                       target_transform=None, download=True)\n",
        "mnist_test=dset.MNIST(\"\", train=False, transform=transforms.ToTensor(), # test 용으로 쓰겠다.\n",
        "                       target_transform=None, download=True)"
      ],
      "execution_count": 4,
      "outputs": []
    },
    {
      "cell_type": "markdown",
      "metadata": {
        "id": "kJMO-9dm1ju4"
      },
      "source": [
        "# **대략적인 데이터 형태**"
      ]
    },
    {
      "cell_type": "code",
      "metadata": {
        "colab": {
          "base_uri": "https://localhost:8080/",
          "height": 356
        },
        "id": "vGZpzVU81mZA",
        "outputId": "4707efe7-cd60-413f-d60a-0453d22623f6"
      },
      "source": [
        "print(\"mnist_train 길이:\", len(mnist_train))\n",
        "print(\"mnist_test 길이:\", len(mnist_test))\n",
        "\n",
        "# 데이터 하나 형태\n",
        "image, label = mnist_train.__getitem__(0) # 0번째 데이터\n",
        "print(\"image data 형태:\", image.size())\n",
        "print(\"label:\", label)\n",
        "\n",
        "# 그리기\n",
        "img = image.numpy() # image 타입을 numpy로 변환 (1,28,28)\n",
        "plt.title(\"label: %d\" %label)\n",
        "plt.imshow(img[0], cmap='gray')\n",
        "plt.show()"
      ],
      "execution_count": 5,
      "outputs": [
        {
          "output_type": "stream",
          "text": [
            "mnist_train 길이: 60000\n",
            "mnist_test 길이: 10000\n",
            "image data 형태: torch.Size([1, 28, 28])\n",
            "label: 5\n"
          ],
          "name": "stdout"
        },
        {
          "output_type": "display_data",
          "data": {
            "image/png": "[encoded data removed]",
            "text/plain": [
              "<Figure size 432x288 with 1 Axes>"
            ]
          },
          "metadata": {
            "tags": [],
            "needs_background": "light"
          }
        }
      ]
    },
    {
      "cell_type": "markdown",
      "metadata": {
        "id": "MnI64ofk2h0C"
      },
      "source": [
        "# **MNIST data 띄워보기**"
      ]
    },
    {
      "cell_type": "code",
      "metadata": {
        "colab": {
          "base_uri": "https://localhost:8080/",
          "height": 855
        },
        "id": "twi4f-eK2mUA",
        "outputId": "06519358-08b8-4e68-b279-920f708e10ce"
      },
      "source": [
        "print(mnist_train[0][1])  # label\n",
        "print(mnist_train[0][0].size()) # image\n",
        "\n",
        "for i in range(3):\n",
        "  img=mnist_train[i][0].numpy()\n",
        "  print(mnist_train[i][1])\n",
        "  plt.imshow(img[0], cmap='gray')\n",
        "  plt.show()"
      ],
      "execution_count": 6,
      "outputs": [
        {
          "output_type": "stream",
          "text": [
            "5\n",
            "torch.Size([1, 28, 28])\n",
            "5\n"
          ],
          "name": "stdout"
        },
        {
          "output_type": "display_data",
          "data": {
            "image/png": "[encoded data removed]",
            "text/plain": [
              "<Figure size 432x288 with 1 Axes>"
            ]
          },
          "metadata": {
            "tags": [],
            "needs_background": "light"
          }
        },
        {
          "output_type": "stream",
          "text": [
            "0\n"
          ],
          "name": "stdout"
        },
        {
          "output_type": "display_data",
          "data": {
            "image/png": "[encoded data removed]",
            "text/plain": [
              "<Figure size 432x288 with 1 Axes>"
            ]
          },
          "metadata": {
            "tags": [],
            "needs_background": "light"
          }
        },
        {
          "output_type": "stream",
          "text": [
            "4\n"
          ],
          "name": "stdout"
        },
        {
          "output_type": "display_data",
          "data": {
            "image/png": "[encoded data removed]",
            "text/plain": [
              "<Figure size 432x288 with 1 Axes>"
            ]
          },
          "metadata": {
            "tags": [],
            "needs_background": "light"
          }
        }
      ]
    },
    {
      "cell_type": "markdown",
      "metadata": {
        "id": "fS4UNPLJ3LIA"
      },
      "source": [
        "# **convolution 하나 씌워보기**"
      ]
    },
    {
      "cell_type": "code",
      "metadata": {
        "colab": {
          "base_uri": "https://localhost:8080/",
          "height": 817
        },
        "id": "vPz-SxXP3Km0",
        "outputId": "1a90d4c5-8c91-4a19-995c-7533ff6f199e"
      },
      "source": [
        "# mnist 의 첫 번째 이미지, 라벨 가져오기\n",
        "image, label = mnist_train[0]\n",
        "# view: tensor의 사이즈 조절. -1: 해당 차원 차원 확장시켜라\n",
        "# [1, 28, 28] -> [1, 1, 28, 28]\n",
        "image=image.view(-1, image.size()[0], image.size()[1], image.size()[2])\n",
        "print(image.size())\n",
        "\n",
        "print(label)\n",
        "\n",
        "# convolutional filter 정의\n",
        "conv_layer=nn.Conv2d(in_channels=1, out_channels=3, kernel_size=3, padding=1)\n",
        "# image에 filter 적용\n",
        "output=conv_layer(Variable(image))\n",
        "print(output.size())\n",
        "\n",
        "for i in range(3):\n",
        "  plt.imshow(output[0,i,:,:].data.numpy(), cmap='gray')\n",
        "  plt.show()"
      ],
      "execution_count": 7,
      "outputs": [
        {
          "output_type": "stream",
          "text": [
            "torch.Size([1, 1, 28, 28])\n",
            "5\n",
            "torch.Size([1, 3, 28, 28])\n"
          ],
          "name": "stdout"
        },
        {
          "output_type": "display_data",
          "data": {
            "image/png": "[encoded data removed]",
            "text/plain": [
              "<Figure size 432x288 with 1 Axes>"
            ]
          },
          "metadata": {
            "tags": [],
            "needs_background": "light"
          }
        },
        {
          "output_type": "display_data",
          "data": {
            "image/png": "[encoded data removed]",
            "text/plain": [
              "<Figure size 432x288 with 1 Axes>"
            ]
          },
          "metadata": {
            "tags": [],
            "needs_background": "light"
          }
        },
        {
          "output_type": "display_data",
          "data": {
            "image/png": "[encoded data removed]",
            "text/plain": [
              "<Figure size 432x288 with 1 Axes>"
            ]
          },
          "metadata": {
            "tags": [],
            "needs_background": "light"
          }
        }
      ]
    },
    {
      "cell_type": "markdown",
      "metadata": {
        "id": "y2xPD4Aw4Wqw"
      },
      "source": [
        "# **CNN 만들기**\n",
        "\n",
        "**train, test data 가져오기**"
      ]
    },
    {
      "cell_type": "code",
      "metadata": {
        "id": "J6n--2A44fSk"
      },
      "source": [
        "import numpy as np\n",
        "import torch.optim as optim\n",
        "\n",
        "batch_size=16\n",
        "learning_rate=0.002\n",
        "num_epoch=10  # 1000"
      ],
      "execution_count": 8,
      "outputs": []
    },
    {
      "cell_type": "code",
      "metadata": {
        "id": "QJ0khsy64u9o"
      },
      "source": [
        "# 후에 학습시킬 때 batch_size 단위로 학습시켜나감\n",
        "train_loader = torch.utils.data.DataLoader(list(mnist_train)[:batch_size*100], batch_size=batch_size, # mnist_train를 트레인 시켜라\n",
        "                                           shuffle=True, num_workers=2,\n",
        "                                           drop_last=True)  # batch_size 만큼 나눌 때 나머지는 버려라\n",
        "test_loader = torch.utils.data.DataLoader((mnist_test), batch_size=batch_size,\n",
        "                                           shuffle=False, num_workers=2,\n",
        "                                           drop_last=True)"
      ],
      "execution_count": 9,
      "outputs": []
    },
    {
      "cell_type": "markdown",
      "metadata": {
        "id": "V41aIb3O5mXZ"
      },
      "source": [
        "# **CNN 클래스 만들기 (모델 만들기)**"
      ]
    },
    {
      "cell_type": "code",
      "metadata": {
        "id": "IStWHsbq5qJa"
      },
      "source": [
        "class CNN(nn.Module): # nn.Module 상속받음\n",
        "  def __init__(self):\n",
        "    super(CNN, self).__init__() # 28x28\n",
        "    self.layer=nn.Sequential(\n",
        "        nn.Conv2d(1, 16, 5, padding=2),\n",
        "        nn.ReLU(),\n",
        "\n",
        "        nn.Conv2d(16, 32, 5, padding=2),  # 28x28\n",
        "        nn.ReLU(),\n",
        "        nn.MaxPool2d(2,2),  # 28x28 -> 14x14\n",
        "\n",
        "        nn.Conv2d(32, 64, 5, padding=2),  # 14x14\n",
        "        nn.ReLU(),\n",
        "        nn.MaxPool2d(2,2)  # 14x14 -> 7x7\n",
        "    )\n",
        "    self.fc_layer=nn.Sequential(\n",
        "        nn.Linear(64*7*7, 100),\n",
        "        nn.ReLU(),\n",
        "        nn.Linear(100,10)\n",
        "\n",
        "    )\n",
        "\n",
        "  def forward(self, x):\n",
        "    out = self.layer(x)\n",
        "    out = out.view(batch_size, -1)\n",
        "    out = self.fc_layer(out)\n",
        "    return out\n",
        "\n",
        "model = CNN().cuda()"
      ],
      "execution_count": 10,
      "outputs": []
    },
    {
      "cell_type": "code",
      "metadata": {
        "colab": {
          "base_uri": "https://localhost:8080/"
        },
        "id": "jkxgwLIC7Ibf",
        "outputId": "1a7be0b6-7953-4d64-f975-62673c9803ea"
      },
      "source": [
        "# 파라미터 체크하기\n",
        "for parameter in model.parameters():\n",
        "  #print(parameter)\n",
        "  print(parameter.shape)"
      ],
      "execution_count": 11,
      "outputs": [
        {
          "output_type": "stream",
          "text": [
            "torch.Size([16, 1, 5, 5])\n",
            "torch.Size([16])\n",
            "torch.Size([32, 16, 5, 5])\n",
            "torch.Size([32])\n",
            "torch.Size([64, 32, 5, 5])\n",
            "torch.Size([64])\n",
            "torch.Size([100, 3136])\n",
            "torch.Size([100])\n",
            "torch.Size([10, 100])\n",
            "torch.Size([10])\n"
          ],
          "name": "stdout"
        }
      ]
    },
    {
      "cell_type": "code",
      "metadata": {
        "id": "vZ9OKzYH7Yki"
      },
      "source": [
        "# loss function, optimizer 선언\n",
        "loss_func = nn.CrossEntropyLoss()\n",
        "optimizer = torch.optim.Adam(model.parameters(), lr=learning_rate)"
      ],
      "execution_count": 12,
      "outputs": []
    },
    {
      "cell_type": "markdown",
      "metadata": {
        "id": "nM3DhdR_7pIE"
      },
      "source": [
        "# **optimization**"
      ]
    },
    {
      "cell_type": "code",
      "metadata": {
        "colab": {
          "base_uri": "https://localhost:8080/"
        },
        "id": "58ng9PPs7sq3",
        "outputId": "752cb901-9810-49d6-abef-c4e7862081db"
      },
      "source": [
        "for i in range(num_epoch):\n",
        "  for j, [image, label] in enumerate(train_loader): # batch_size 만큼\n",
        "    x = Variable(image).cuda()\n",
        "    y_ = Variable(label).cuda()\n",
        "\n",
        "    optimizer.zero_grad() # optimizer 안에서 이전 gradient 들을 초기화\n",
        "    output = model.forward(x)\n",
        "    loss = loss_func(output, y_)\n",
        "    loss.backward() # gradient 계산\n",
        "    optimizer.step()  # parameter 업데이트\n",
        "\n",
        "    if j%50==0:\n",
        "      print(loss, j, i)"
      ],
      "execution_count": 13,
      "outputs": [
        {
          "output_type": "stream",
          "text": [
            "tensor(2.2967, device='cuda:0', grad_fn=<NllLossBackward>) 0 0\n",
            "tensor(0.7564, device='cuda:0', grad_fn=<NllLossBackward>) 50 0\n",
            "tensor(0.0733, device='cuda:0', grad_fn=<NllLossBackward>) 0 1\n",
            "tensor(0.0657, device='cuda:0', grad_fn=<NllLossBackward>) 50 1\n",
            "tensor(0.0108, device='cuda:0', grad_fn=<NllLossBackward>) 0 2\n",
            "tensor(0.0424, device='cuda:0', grad_fn=<NllLossBackward>) 50 2\n",
            "tensor(0.3382, device='cuda:0', grad_fn=<NllLossBackward>) 0 3\n",
            "tensor(0.0128, device='cuda:0', grad_fn=<NllLossBackward>) 50 3\n",
            "tensor(0.0413, device='cuda:0', grad_fn=<NllLossBackward>) 0 4\n",
            "tensor(0.0423, device='cuda:0', grad_fn=<NllLossBackward>) 50 4\n",
            "tensor(0.0180, device='cuda:0', grad_fn=<NllLossBackward>) 0 5\n",
            "tensor(0.0718, device='cuda:0', grad_fn=<NllLossBackward>) 50 5\n",
            "tensor(0.0017, device='cuda:0', grad_fn=<NllLossBackward>) 0 6\n",
            "tensor(0.0398, device='cuda:0', grad_fn=<NllLossBackward>) 50 6\n",
            "tensor(0.0078, device='cuda:0', grad_fn=<NllLossBackward>) 0 7\n",
            "tensor(0.0029, device='cuda:0', grad_fn=<NllLossBackward>) 50 7\n",
            "tensor(0.0003, device='cuda:0', grad_fn=<NllLossBackward>) 0 8\n",
            "tensor(1.0162e-05, device='cuda:0', grad_fn=<NllLossBackward>) 50 8\n",
            "tensor(0.0101, device='cuda:0', grad_fn=<NllLossBackward>) 0 9\n",
            "tensor(0.0102, device='cuda:0', grad_fn=<NllLossBackward>) 50 9\n"
          ],
          "name": "stdout"
        }
      ]
    },
    {
      "cell_type": "code",
      "metadata": {
        "id": "bkPGZFx08hkM"
      },
      "source": [
        "# 모델 저장시키기\n",
        "torch.save(model, './nets/mycnn_model_%d.pkl'%(num_epoch))"
      ],
      "execution_count": 14,
      "outputs": []
    },
    {
      "cell_type": "code",
      "metadata": {
        "colab": {
          "base_uri": "https://localhost:8080/"
        },
        "id": "HyTF7bRl8xwj",
        "outputId": "b250c458-35f9-47e9-8481-a22422df889d"
      },
      "source": [
        "try:\n",
        "  # 미리 학습시킨 네트워크의 파라미터 집합 [피클]이라 발음함.\n",
        "  model=torch.load('./nets/mycnn_model_10.pkl')\n",
        "  print(\"model restored\")\n",
        "except:\n",
        "  print(\"model no restored\")"
      ],
      "execution_count": 15,
      "outputs": [
        {
          "output_type": "stream",
          "text": [
            "model restored\n"
          ],
          "name": "stdout"
        }
      ]
    },
    {
      "cell_type": "code",
      "metadata": {
        "id": "RhLKV3mE9Mq7"
      },
      "source": [
        "def ComputeAccr(dloader, imodel):\n",
        "  correct = 0\n",
        "  total = 0\n",
        "  \n",
        "  for j, [imgs, labels] in enumerate(dloader):  # batch_size 만큼\n",
        "    img = Variable(imgs).cuda() # x\n",
        "    label = Variable(labels).cuda() # y\n",
        "\n",
        "    output = imodel.forward(img)  # forward prop.\n",
        "    _, output_index = torch.max(output, 1)\n",
        "\n",
        "    total += label.size(0)\n",
        "    correct += (output_index == label).sum().float()\n",
        "  print(\"Accuracy of Test Data: {}\".format(100*correct/total))"
      ],
      "execution_count": 16,
      "outputs": []
    },
    {
      "cell_type": "code",
      "metadata": {
        "colab": {
          "base_uri": "https://localhost:8080/"
        },
        "id": "zWMflSNJ-Syv",
        "outputId": "c4fcac07-727c-495d-cf59-d17122f85ed9"
      },
      "source": [
        "ComputeAccr(test_loader, model)"
      ],
      "execution_count": 17,
      "outputs": [
        {
          "output_type": "stream",
          "text": [
            "Accuracy of Test Data: 93.57999420166016\n"
          ],
          "name": "stdout"
        }
      ]
    }
  ]
}